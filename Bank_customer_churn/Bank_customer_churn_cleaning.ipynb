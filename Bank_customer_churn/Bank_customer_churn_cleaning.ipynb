{
  "nbformat": 4,
  "nbformat_minor": 0,
  "metadata": {
    "colab": {
      "provenance": [],
      "collapsed_sections": [
        "fzxXd4E5UlyI",
        "4HNBEtnwVTKy",
        "y4mWblQXVko8",
        "la5ooN71WdOx",
        "fjJoq0PzWtFE",
        "n-1EcBvlW1r6",
        "u17Q89H1X3VK",
        "S1-hGFHTZx_t",
        "33u_7crrmRfi",
        "7_7C8YUnYHSp",
        "G3yndt7uhO13",
        "S_ZpwZeiUT_W",
        "ZjRSUzfFpNNI",
        "RXR5-0N0qjo4",
        "TeJp3OWixm1h"
      ],
      "toc_visible": true,
      "authorship_tag": "ABX9TyNRnNrlLdOkROtmvyCdXuRn",
      "include_colab_link": true
    },
    "kernelspec": {
      "name": "python3",
      "display_name": "Python 3"
    },
    "language_info": {
      "name": "python"
    },
    "gpuClass": "standard",
    "accelerator": "GPU"
  },
  "cells": [
    {
      "cell_type": "markdown",
      "metadata": {
        "id": "view-in-github",
        "colab_type": "text"
      },
      "source": [
        "<a href=\"https://colab.research.google.com/github/subrataBAEC/Deep-Learning-Basics/blob/main/Bank_customer_churn/Bank_customer_churn_cleaning.ipynb\" target=\"_parent\"><img src=\"https://colab.research.google.com/assets/colab-badge.svg\" alt=\"Open In Colab\"/></a>"
      ]
    },
    {
      "cell_type": "markdown",
      "source": [
        "# Bank Customer Churin prediction using ANN\n",
        "### 1. Data cleaning\n",
        "### 2. Prediction using ANN\n",
        "##### **Prepared By**: Subrata Saha\n",
        "##### **Email**: subratabaec@gmail.com\n",
        "##### **Time**: Feb, 2023"
      ],
      "metadata": {
        "id": "8NOobKng4_xD"
      }
    },
    {
      "cell_type": "markdown",
      "source": [
        "## 1.Import libraries and dataset"
      ],
      "metadata": {
        "id": "9Jd5cYI6UcS4"
      }
    },
    {
      "cell_type": "code",
      "execution_count": 322,
      "metadata": {
        "id": "c9848Lvi-2c4"
      },
      "outputs": [],
      "source": [
        "# !pip install tensorflow-gpu\n",
        "# !pip install tensorflow "
      ]
    },
    {
      "cell_type": "code",
      "source": [
        "import tensorflow as tf\n",
        "print(tf.__version__)"
      ],
      "metadata": {
        "colab": {
          "base_uri": "https://localhost:8080/"
        },
        "id": "FzVenAKm_UJa",
        "outputId": "a14b3553-b7f0-47b4-dc6f-edf4ece26cae"
      },
      "execution_count": 323,
      "outputs": [
        {
          "output_type": "stream",
          "name": "stdout",
          "text": [
            "2.11.0\n"
          ]
        }
      ]
    },
    {
      "cell_type": "markdown",
      "source": [
        "### i.Import Libraries"
      ],
      "metadata": {
        "id": "fzxXd4E5UlyI"
      }
    },
    {
      "cell_type": "code",
      "source": [
        "import numpy as np\n",
        "import pandas as pd\n",
        "from sklearn.model_selection import train_test_split\n",
        "\n",
        "#visualization\n",
        "import matplotlib.pyplot as plt\n",
        "import seaborn as sns\n",
        "\n",
        "# scaling\n",
        "from sklearn.preprocessing import MinMaxScaler\n",
        "\n",
        "# split\n",
        "from sklearn.model_selection import train_test_split"
      ],
      "metadata": {
        "id": "rKKUnb2l_XJx"
      },
      "execution_count": 324,
      "outputs": []
    },
    {
      "cell_type": "markdown",
      "source": [
        "### ii. Load Dataset From Drive"
      ],
      "metadata": {
        "id": "q4fNWI4LUS1K"
      }
    },
    {
      "cell_type": "code",
      "source": [
        "# for google colab\n",
        "from google.colab import drive \n",
        "drive.mount('/content/gdrive')"
      ],
      "metadata": {
        "colab": {
          "base_uri": "https://localhost:8080/"
        },
        "id": "G_aD-8ka_Zkq",
        "outputId": "a48c4e66-1f15-4989-c840-4206ed4a1980"
      },
      "execution_count": 325,
      "outputs": [
        {
          "output_type": "stream",
          "name": "stdout",
          "text": [
            "Drive already mounted at /content/gdrive; to attempt to forcibly remount, call drive.mount(\"/content/gdrive\", force_remount=True).\n"
          ]
        }
      ]
    },
    {
      "cell_type": "code",
      "source": [
        "# load data\n",
        "df = pd.read_csv(\"/content/gdrive/MyDrive/Colab Notebooks/Deep_learning_2023/practice/Bank_customer_churn/Bank_Churn_Modelling.csv\")\n",
        "\n",
        "display(df.head(5))\n",
        "# df.head()\n",
        "print(\"shape: \",df.shape)"
      ],
      "metadata": {
        "colab": {
          "base_uri": "https://localhost:8080/",
          "height": 288
        },
        "id": "HHC2HqZV_nz4",
        "outputId": "417bfc83-9bfd-4931-fa7e-2d748436b0f0"
      },
      "execution_count": 326,
      "outputs": [
        {
          "output_type": "display_data",
          "data": {
            "text/plain": [
              "   RowNumber  CustomerId   Surname  CreditScore Geography  Gender  Age  \\\n",
              "0          1    15634602  Hargrave          619    France  Female   42   \n",
              "1          2    15647311      Hill          608     Spain  Female   41   \n",
              "2          3    15619304      Onio          502    France  Female   42   \n",
              "3          4    15701354      Boni          699    France  Female   39   \n",
              "4          5    15737888  Mitchell          850     Spain  Female   43   \n",
              "\n",
              "   Tenure    Balance  NumOfProducts  HasCrCard  IsActiveMember  \\\n",
              "0       2       0.00              1          1               1   \n",
              "1       1   83807.86              1          0               1   \n",
              "2       8  159660.80              3          1               0   \n",
              "3       1       0.00              2          0               0   \n",
              "4       2  125510.82              1          1               1   \n",
              "\n",
              "   EstimatedSalary  Exited  \n",
              "0        101348.88       1  \n",
              "1        112542.58       0  \n",
              "2        113931.57       1  \n",
              "3         93826.63       0  \n",
              "4         79084.10       0  "
            ],
            "text/html": [
              "\n",
              "  <div id=\"df-1e1b0934-ad4d-405d-abb2-8742dba09f8f\">\n",
              "    <div class=\"colab-df-container\">\n",
              "      <div>\n",
              "<style scoped>\n",
              "    .dataframe tbody tr th:only-of-type {\n",
              "        vertical-align: middle;\n",
              "    }\n",
              "\n",
              "    .dataframe tbody tr th {\n",
              "        vertical-align: top;\n",
              "    }\n",
              "\n",
              "    .dataframe thead th {\n",
              "        text-align: right;\n",
              "    }\n",
              "</style>\n",
              "<table border=\"1\" class=\"dataframe\">\n",
              "  <thead>\n",
              "    <tr style=\"text-align: right;\">\n",
              "      <th></th>\n",
              "      <th>RowNumber</th>\n",
              "      <th>CustomerId</th>\n",
              "      <th>Surname</th>\n",
              "      <th>CreditScore</th>\n",
              "      <th>Geography</th>\n",
              "      <th>Gender</th>\n",
              "      <th>Age</th>\n",
              "      <th>Tenure</th>\n",
              "      <th>Balance</th>\n",
              "      <th>NumOfProducts</th>\n",
              "      <th>HasCrCard</th>\n",
              "      <th>IsActiveMember</th>\n",
              "      <th>EstimatedSalary</th>\n",
              "      <th>Exited</th>\n",
              "    </tr>\n",
              "  </thead>\n",
              "  <tbody>\n",
              "    <tr>\n",
              "      <th>0</th>\n",
              "      <td>1</td>\n",
              "      <td>15634602</td>\n",
              "      <td>Hargrave</td>\n",
              "      <td>619</td>\n",
              "      <td>France</td>\n",
              "      <td>Female</td>\n",
              "      <td>42</td>\n",
              "      <td>2</td>\n",
              "      <td>0.00</td>\n",
              "      <td>1</td>\n",
              "      <td>1</td>\n",
              "      <td>1</td>\n",
              "      <td>101348.88</td>\n",
              "      <td>1</td>\n",
              "    </tr>\n",
              "    <tr>\n",
              "      <th>1</th>\n",
              "      <td>2</td>\n",
              "      <td>15647311</td>\n",
              "      <td>Hill</td>\n",
              "      <td>608</td>\n",
              "      <td>Spain</td>\n",
              "      <td>Female</td>\n",
              "      <td>41</td>\n",
              "      <td>1</td>\n",
              "      <td>83807.86</td>\n",
              "      <td>1</td>\n",
              "      <td>0</td>\n",
              "      <td>1</td>\n",
              "      <td>112542.58</td>\n",
              "      <td>0</td>\n",
              "    </tr>\n",
              "    <tr>\n",
              "      <th>2</th>\n",
              "      <td>3</td>\n",
              "      <td>15619304</td>\n",
              "      <td>Onio</td>\n",
              "      <td>502</td>\n",
              "      <td>France</td>\n",
              "      <td>Female</td>\n",
              "      <td>42</td>\n",
              "      <td>8</td>\n",
              "      <td>159660.80</td>\n",
              "      <td>3</td>\n",
              "      <td>1</td>\n",
              "      <td>0</td>\n",
              "      <td>113931.57</td>\n",
              "      <td>1</td>\n",
              "    </tr>\n",
              "    <tr>\n",
              "      <th>3</th>\n",
              "      <td>4</td>\n",
              "      <td>15701354</td>\n",
              "      <td>Boni</td>\n",
              "      <td>699</td>\n",
              "      <td>France</td>\n",
              "      <td>Female</td>\n",
              "      <td>39</td>\n",
              "      <td>1</td>\n",
              "      <td>0.00</td>\n",
              "      <td>2</td>\n",
              "      <td>0</td>\n",
              "      <td>0</td>\n",
              "      <td>93826.63</td>\n",
              "      <td>0</td>\n",
              "    </tr>\n",
              "    <tr>\n",
              "      <th>4</th>\n",
              "      <td>5</td>\n",
              "      <td>15737888</td>\n",
              "      <td>Mitchell</td>\n",
              "      <td>850</td>\n",
              "      <td>Spain</td>\n",
              "      <td>Female</td>\n",
              "      <td>43</td>\n",
              "      <td>2</td>\n",
              "      <td>125510.82</td>\n",
              "      <td>1</td>\n",
              "      <td>1</td>\n",
              "      <td>1</td>\n",
              "      <td>79084.10</td>\n",
              "      <td>0</td>\n",
              "    </tr>\n",
              "  </tbody>\n",
              "</table>\n",
              "</div>\n",
              "      <button class=\"colab-df-convert\" onclick=\"convertToInteractive('df-1e1b0934-ad4d-405d-abb2-8742dba09f8f')\"\n",
              "              title=\"Convert this dataframe to an interactive table.\"\n",
              "              style=\"display:none;\">\n",
              "        \n",
              "  <svg xmlns=\"http://www.w3.org/2000/svg\" height=\"24px\"viewBox=\"0 0 24 24\"\n",
              "       width=\"24px\">\n",
              "    <path d=\"M0 0h24v24H0V0z\" fill=\"none\"/>\n",
              "    <path d=\"M18.56 5.44l.94 2.06.94-2.06 2.06-.94-2.06-.94-.94-2.06-.94 2.06-2.06.94zm-11 1L8.5 8.5l.94-2.06 2.06-.94-2.06-.94L8.5 2.5l-.94 2.06-2.06.94zm10 10l.94 2.06.94-2.06 2.06-.94-2.06-.94-.94-2.06-.94 2.06-2.06.94z\"/><path d=\"M17.41 7.96l-1.37-1.37c-.4-.4-.92-.59-1.43-.59-.52 0-1.04.2-1.43.59L10.3 9.45l-7.72 7.72c-.78.78-.78 2.05 0 2.83L4 21.41c.39.39.9.59 1.41.59.51 0 1.02-.2 1.41-.59l7.78-7.78 2.81-2.81c.8-.78.8-2.07 0-2.86zM5.41 20L4 18.59l7.72-7.72 1.47 1.35L5.41 20z\"/>\n",
              "  </svg>\n",
              "      </button>\n",
              "      \n",
              "  <style>\n",
              "    .colab-df-container {\n",
              "      display:flex;\n",
              "      flex-wrap:wrap;\n",
              "      gap: 12px;\n",
              "    }\n",
              "\n",
              "    .colab-df-convert {\n",
              "      background-color: #E8F0FE;\n",
              "      border: none;\n",
              "      border-radius: 50%;\n",
              "      cursor: pointer;\n",
              "      display: none;\n",
              "      fill: #1967D2;\n",
              "      height: 32px;\n",
              "      padding: 0 0 0 0;\n",
              "      width: 32px;\n",
              "    }\n",
              "\n",
              "    .colab-df-convert:hover {\n",
              "      background-color: #E2EBFA;\n",
              "      box-shadow: 0px 1px 2px rgba(60, 64, 67, 0.3), 0px 1px 3px 1px rgba(60, 64, 67, 0.15);\n",
              "      fill: #174EA6;\n",
              "    }\n",
              "\n",
              "    [theme=dark] .colab-df-convert {\n",
              "      background-color: #3B4455;\n",
              "      fill: #D2E3FC;\n",
              "    }\n",
              "\n",
              "    [theme=dark] .colab-df-convert:hover {\n",
              "      background-color: #434B5C;\n",
              "      box-shadow: 0px 1px 3px 1px rgba(0, 0, 0, 0.15);\n",
              "      filter: drop-shadow(0px 1px 2px rgba(0, 0, 0, 0.3));\n",
              "      fill: #FFFFFF;\n",
              "    }\n",
              "  </style>\n",
              "\n",
              "      <script>\n",
              "        const buttonEl =\n",
              "          document.querySelector('#df-1e1b0934-ad4d-405d-abb2-8742dba09f8f button.colab-df-convert');\n",
              "        buttonEl.style.display =\n",
              "          google.colab.kernel.accessAllowed ? 'block' : 'none';\n",
              "\n",
              "        async function convertToInteractive(key) {\n",
              "          const element = document.querySelector('#df-1e1b0934-ad4d-405d-abb2-8742dba09f8f');\n",
              "          const dataTable =\n",
              "            await google.colab.kernel.invokeFunction('convertToInteractive',\n",
              "                                                     [key], {});\n",
              "          if (!dataTable) return;\n",
              "\n",
              "          const docLinkHtml = 'Like what you see? Visit the ' +\n",
              "            '<a target=\"_blank\" href=https://colab.research.google.com/notebooks/data_table.ipynb>data table notebook</a>'\n",
              "            + ' to learn more about interactive tables.';\n",
              "          element.innerHTML = '';\n",
              "          dataTable['output_type'] = 'display_data';\n",
              "          await google.colab.output.renderOutput(dataTable, element);\n",
              "          const docLink = document.createElement('div');\n",
              "          docLink.innerHTML = docLinkHtml;\n",
              "          element.appendChild(docLink);\n",
              "        }\n",
              "      </script>\n",
              "    </div>\n",
              "  </div>\n",
              "  "
            ]
          },
          "metadata": {}
        },
        {
          "output_type": "stream",
          "name": "stdout",
          "text": [
            "shape:  (10000, 14)\n"
          ]
        }
      ]
    },
    {
      "cell_type": "markdown",
      "source": [
        "## 2.Data Cleaning"
      ],
      "metadata": {
        "id": "RVsf19zMUsdA"
      }
    },
    {
      "cell_type": "markdown",
      "source": [
        "### i. Drop Unnecessary Columns"
      ],
      "metadata": {
        "id": "4HNBEtnwVTKy"
      }
    },
    {
      "cell_type": "markdown",
      "source": [
        "**Note:**\n",
        "Drop unnecessary columns. \"CustomerId\", \"RowNumber\" , \"Surname\" and check for duplicate rows."
      ],
      "metadata": {
        "id": "6lsao6R8AeMC"
      }
    },
    {
      "cell_type": "code",
      "source": [
        "# get all column names\n",
        "# column_names = list(df.columns.values)\n",
        "# print(column_names)"
      ],
      "metadata": {
        "id": "YQ4JDSQucXow"
      },
      "execution_count": 327,
      "outputs": []
    },
    {
      "cell_type": "code",
      "source": [
        "# drop unnecessary columns check column types\n",
        "df.drop(['CustomerId','RowNumber', 'Surname'],axis=1,inplace=True)\n",
        "df.info()"
      ],
      "metadata": {
        "colab": {
          "base_uri": "https://localhost:8080/"
        },
        "id": "8VyUmtTTAt6O",
        "outputId": "aa8acfdd-5251-4f30-e598-680f116ba6a8"
      },
      "execution_count": 328,
      "outputs": [
        {
          "output_type": "stream",
          "name": "stdout",
          "text": [
            "<class 'pandas.core.frame.DataFrame'>\n",
            "RangeIndex: 10000 entries, 0 to 9999\n",
            "Data columns (total 11 columns):\n",
            " #   Column           Non-Null Count  Dtype  \n",
            "---  ------           --------------  -----  \n",
            " 0   CreditScore      10000 non-null  int64  \n",
            " 1   Geography        10000 non-null  object \n",
            " 2   Gender           10000 non-null  object \n",
            " 3   Age              10000 non-null  int64  \n",
            " 4   Tenure           10000 non-null  int64  \n",
            " 5   Balance          10000 non-null  float64\n",
            " 6   NumOfProducts    10000 non-null  int64  \n",
            " 7   HasCrCard        10000 non-null  int64  \n",
            " 8   IsActiveMember   10000 non-null  int64  \n",
            " 9   EstimatedSalary  10000 non-null  float64\n",
            " 10  Exited           10000 non-null  int64  \n",
            "dtypes: float64(2), int64(7), object(2)\n",
            "memory usage: 859.5+ KB\n"
          ]
        }
      ]
    },
    {
      "cell_type": "code",
      "source": [
        "# check imbalance\n",
        "print(df['Exited'].value_counts())"
      ],
      "metadata": {
        "colab": {
          "base_uri": "https://localhost:8080/"
        },
        "id": "luVoSIMUTmz8",
        "outputId": "7c78ebee-a310-4232-9ae8-0dfbf1ad060b"
      },
      "execution_count": 329,
      "outputs": [
        {
          "output_type": "stream",
          "name": "stdout",
          "text": [
            "0    7963\n",
            "1    2037\n",
            "Name: Exited, dtype: int64\n"
          ]
        }
      ]
    },
    {
      "cell_type": "markdown",
      "source": [
        "**Note:** There is an imbalance in the dataset."
      ],
      "metadata": {
        "id": "9kxFMxisn07f"
      }
    },
    {
      "cell_type": "markdown",
      "source": [
        "### ii. Cetegorical and Numerical Columns"
      ],
      "metadata": {
        "id": "y4mWblQXVko8"
      }
    },
    {
      "cell_type": "markdown",
      "source": [
        "**Note:** make two separate lists containing categorical and numerical columns."
      ],
      "metadata": {
        "id": "BFQTQuvfVu6g"
      }
    },
    {
      "cell_type": "code",
      "source": [
        "# separate categorical and numerical columns\n",
        "# print(df.dtypes.Gender) # single col type\n",
        "cat_cols=[]\n",
        "num_cols=[]\n",
        "\n",
        "for col in df:\n",
        "  if df.dtypes[col]=='object':\n",
        "    # print(col)\n",
        "    cat_cols.append(col)\n",
        "  else:\n",
        "    # print(col) \n",
        "    num_cols.append(col)\n",
        "\n",
        "print(cat_cols)\n",
        "print(num_cols)\n"
      ],
      "metadata": {
        "colab": {
          "base_uri": "https://localhost:8080/"
        },
        "id": "nYFX6l53dT9x",
        "outputId": "bbe4cb8f-d028-485b-8004-646fa6ffc491"
      },
      "execution_count": 330,
      "outputs": [
        {
          "output_type": "stream",
          "name": "stdout",
          "text": [
            "['Geography', 'Gender']\n",
            "['CreditScore', 'Age', 'Tenure', 'Balance', 'NumOfProducts', 'HasCrCard', 'IsActiveMember', 'EstimatedSalary', 'Exited']\n"
          ]
        }
      ]
    },
    {
      "cell_type": "markdown",
      "source": [
        "**Note:**\n",
        "Two categorical columns ('Geography', 'Gender'). need to encode later."
      ],
      "metadata": {
        "id": "SAkDbDJ2b_IT"
      }
    },
    {
      "cell_type": "markdown",
      "source": [
        "### iii. Check For Duplicate Records"
      ],
      "metadata": {
        "id": "GzSgFh1EWRtS"
      }
    },
    {
      "cell_type": "code",
      "source": [
        "# check duplicate records/rows\n",
        "bool_series = df.duplicated(keep='first')\n",
        "print('Boolean series:')\n",
        "print(bool_series)"
      ],
      "metadata": {
        "colab": {
          "base_uri": "https://localhost:8080/"
        },
        "id": "ZsfM7dbGCz6D",
        "outputId": "1da1c18b-69e0-4566-e602-a75cba22c2c6"
      },
      "execution_count": 331,
      "outputs": [
        {
          "output_type": "stream",
          "name": "stdout",
          "text": [
            "Boolean series:\n",
            "0       False\n",
            "1       False\n",
            "2       False\n",
            "3       False\n",
            "4       False\n",
            "        ...  \n",
            "9995    False\n",
            "9996    False\n",
            "9997    False\n",
            "9998    False\n",
            "9999    False\n",
            "Length: 10000, dtype: bool\n"
          ]
        }
      ]
    },
    {
      "cell_type": "markdown",
      "source": [
        "***Note:***\n",
        "It seems no NULL and duplicate values. find unique values of all column."
      ],
      "metadata": {
        "id": "TKEWZejqBJUe"
      }
    },
    {
      "cell_type": "markdown",
      "source": [
        "### iv. Find Unique Values"
      ],
      "metadata": {
        "id": "la5ooN71WdOx"
      }
    },
    {
      "cell_type": "code",
      "source": [
        "# function to find unique\n",
        "def find_unique(df):\n",
        "  for col in df:\n",
        "    print(f\"{col}: {df[col].unique()}\")\n",
        "find_unique(df)"
      ],
      "metadata": {
        "colab": {
          "base_uri": "https://localhost:8080/"
        },
        "id": "q9IJ-DRHBCli",
        "outputId": "c89c9256-7300-4c2e-f714-d6ef5016de0f"
      },
      "execution_count": 332,
      "outputs": [
        {
          "output_type": "stream",
          "name": "stdout",
          "text": [
            "CreditScore: [619 608 502 699 850 645 822 376 501 684 528 497 476 549 635 616 653 587\n",
            " 726 732 636 510 669 846 577 756 571 574 411 591 533 553 520 722 475 490\n",
            " 804 582 472 465 556 834 660 776 829 637 550 698 585 788 655 601 656 725\n",
            " 511 614 742 687 555 603 751 581 735 661 675 738 813 657 604 519 664 678\n",
            " 757 416 665 777 543 506 493 652 750 729 646 647 808 524 769 730 515 773\n",
            " 814 710 413 623 670 622 785 605 479 685 538 562 721 628 668 828 674 625\n",
            " 432 770 758 795 686 789 589 461 584 579 663 682 793 691 485 650 754 535\n",
            " 716 539 706 586 631 717 800 683 704 615 667 484 480 578 512 606 597 778\n",
            " 514 525 715 580 807 521 759 516 711 618 643 671 689 620 676 572 695 592\n",
            " 567 694 547 594 673 610 767 763 712 703 662 659 523 772 545 634 739 771\n",
            " 681 544 696 766 727 693 557 531 498 651 791 733 811 707 714 782 775 799\n",
            " 602 744 588 747 583 627 731 629 438 642 806 474 559 429 680 749 734 644\n",
            " 626 649 805 718 840 630 654 762 568 613 522 737 648 443 640 540 460 593\n",
            " 801 611 802 745 483 690 492 709 705 560 752 701 537 487 596 702 486 724\n",
            " 548 464 790 534 748 494 590 468 509 818 816 536 753 774 621 569 658 798\n",
            " 641 542 692 639 765 570 638 599 632 779 527 564 833 504 842 508 417 598\n",
            " 741 607 761 848 546 439 755 760 526 713 700 666 566 495 688 612 477 427\n",
            " 839 819 720 459 503 624 529 563 482 796 445 746 786 554 672 787 499 844\n",
            " 450 815 838 803 736 633 600 679 517 792 743 488 421 841 708 507 505 456\n",
            " 435 561 518 565 728 784 552 609 764 697 723 551 444 719 496 541 830 812\n",
            " 677 420 595 617 809 500 826 434 513 478 797 363 399 463 780 452 575 837\n",
            " 794 824 428 823 781 849 489 431 457 768 831 359 820 573 576 558 817 449\n",
            " 440 415 821 530 350 446 425 740 481 783 358 845 451 458 469 423 404 836\n",
            " 473 835 466 491 351 827 843 365 532 414 453 471 401 810 832 470 447 422\n",
            " 825 430 436 426 408 847 418 437 410 454 407 455 462 386 405 383 395 467\n",
            " 433 442 424 448 441 367 412 382 373 419]\n",
            "Geography: ['France' 'Spain' 'Germany']\n",
            "Gender: ['Female' 'Male']\n",
            "Age: [42 41 39 43 44 50 29 27 31 24 34 25 35 45 58 32 38 46 36 33 40 51 61 49\n",
            " 37 19 66 56 26 21 55 75 22 30 28 65 48 52 57 73 47 54 72 20 67 79 62 53\n",
            " 80 59 68 23 60 70 63 64 18 82 69 74 71 76 77 88 85 84 78 81 92 83]\n",
            "Tenure: [ 2  1  8  7  4  6  3 10  5  9  0]\n",
            "Balance: [     0.    83807.86 159660.8  ...  57369.61  75075.31 130142.79]\n",
            "NumOfProducts: [1 3 2 4]\n",
            "HasCrCard: [1 0]\n",
            "IsActiveMember: [1 0]\n",
            "EstimatedSalary: [101348.88 112542.58 113931.57 ...  42085.58  92888.52  38190.78]\n",
            "Exited: [1 0]\n"
          ]
        }
      ]
    },
    {
      "cell_type": "markdown",
      "source": [
        "**Note:**\n",
        "- it seems no NaN, NA or blank characters are present in any column."
      ],
      "metadata": {
        "id": "l_wM-iSHCrjd"
      }
    },
    {
      "cell_type": "markdown",
      "source": [
        "### v. Check For white space"
      ],
      "metadata": {
        "id": "fjJoq0PzWtFE"
      }
    },
    {
      "cell_type": "code",
      "source": [
        "# check for blank characters in all cols\n",
        "black_values = df.isna().any()\n",
        "\n",
        "print(black_values)"
      ],
      "metadata": {
        "colab": {
          "base_uri": "https://localhost:8080/"
        },
        "id": "-CEgcnxShaLT",
        "outputId": "028326c2-1b74-4f7e-b961-b88264a715e2"
      },
      "execution_count": 333,
      "outputs": [
        {
          "output_type": "stream",
          "name": "stdout",
          "text": [
            "CreditScore        False\n",
            "Geography          False\n",
            "Gender             False\n",
            "Age                False\n",
            "Tenure             False\n",
            "Balance            False\n",
            "NumOfProducts      False\n",
            "HasCrCard          False\n",
            "IsActiveMember     False\n",
            "EstimatedSalary    False\n",
            "Exited             False\n",
            "dtype: bool\n"
          ]
        }
      ]
    },
    {
      "cell_type": "code",
      "source": [
        "# total number of white space values in all columns\n",
        "for col in df.columns:\n",
        "    print(col, (df[col].astype(str) == ' ').sum())"
      ],
      "metadata": {
        "colab": {
          "base_uri": "https://localhost:8080/"
        },
        "id": "43ExJzHqhzl5",
        "outputId": "2953151c-34c0-409c-e14c-239a472de83f"
      },
      "execution_count": 334,
      "outputs": [
        {
          "output_type": "stream",
          "name": "stdout",
          "text": [
            "CreditScore 0\n",
            "Geography 0\n",
            "Gender 0\n",
            "Age 0\n",
            "Tenure 0\n",
            "Balance 0\n",
            "NumOfProducts 0\n",
            "HasCrCard 0\n",
            "IsActiveMember 0\n",
            "EstimatedSalary 0\n",
            "Exited 0\n"
          ]
        }
      ]
    },
    {
      "cell_type": "markdown",
      "source": [
        "**Note:**\n",
        "No rows contain BLANK."
      ],
      "metadata": {
        "id": "2Okf0lM3GQYM"
      }
    },
    {
      "cell_type": "markdown",
      "source": [
        "### vi. Encoding"
      ],
      "metadata": {
        "id": "n-1EcBvlW1r6"
      }
    },
    {
      "cell_type": "markdown",
      "source": [
        "**Note:** \n",
        "Now encode categorical columns."
      ],
      "metadata": {
        "id": "wUlPxU8uMlR_"
      }
    },
    {
      "cell_type": "markdown",
      "source": [
        "#### Label Encoding"
      ],
      "metadata": {
        "id": "u17Q89H1X3VK"
      }
    },
    {
      "cell_type": "code",
      "source": [
        "# from sklearn.preprocessing import LabelEncoder\n",
        "\n",
        "# label encode a single column\n",
        "# # create a label encoder object\n",
        "# le = LabelEncoder()\n",
        "\n",
        "# # fit the label encoder to the \"Geography\" column in the dataframe\n",
        "# le.fit(df['Geography'])\n",
        "\n",
        "# # transform the \"Geography\" column using the label encoder\n",
        "# df['Geography_encoded'] = le.transform(df['Geography'])\n",
        "\n",
        "\n",
        "# label encode multiple columns using for loop\n",
        "from sklearn.preprocessing import LabelEncoder\n",
        "\n",
        "# create a label encoder object\n",
        "le = LabelEncoder()\n",
        "\n",
        "# specify the columns to label encode\n",
        "columns_to_encode = cat_cols\n",
        "\n",
        "# iterate over each column and apply label encoding\n",
        "for col in columns_to_encode:\n",
        "    le.fit(df[col])\n",
        "    df[col + '_encoded'] = le.transform(df[col])\n",
        "\n",
        "df.sample(5)"
      ],
      "metadata": {
        "colab": {
          "base_uri": "https://localhost:8080/",
          "height": 270
        },
        "id": "KNfQtB0JlTBS",
        "outputId": "c9592dfb-cad7-4613-dc40-31dfcd2dab3f"
      },
      "execution_count": 335,
      "outputs": [
        {
          "output_type": "execute_result",
          "data": {
            "text/plain": [
              "      CreditScore Geography  Gender  Age  Tenure    Balance  NumOfProducts  \\\n",
              "8607          602   Germany    Male   38       2   71667.97              2   \n",
              "522           527     Spain    Male   37       5   93722.73              2   \n",
              "586           621     Spain    Male   53       9  170491.84              1   \n",
              "3421          593    France  Female   39       0  117704.73              1   \n",
              "3241          621   Germany  Female   31       8  100375.39              1   \n",
              "\n",
              "      HasCrCard  IsActiveMember  EstimatedSalary  Exited  Geography_encoded  \\\n",
              "8607          0               0        137111.89       0                  1   \n",
              "522           1               1        139093.73       0                  2   \n",
              "586           1               0         35588.07       1                  2   \n",
              "3421          1               0        197933.50       0                  0   \n",
              "3241          1               1         90384.26       0                  1   \n",
              "\n",
              "      Gender_encoded  \n",
              "8607               1  \n",
              "522                1  \n",
              "586                1  \n",
              "3421               0  \n",
              "3241               0  "
            ],
            "text/html": [
              "\n",
              "  <div id=\"df-b8a26329-6fe7-4bc0-a99c-f158b6837a83\">\n",
              "    <div class=\"colab-df-container\">\n",
              "      <div>\n",
              "<style scoped>\n",
              "    .dataframe tbody tr th:only-of-type {\n",
              "        vertical-align: middle;\n",
              "    }\n",
              "\n",
              "    .dataframe tbody tr th {\n",
              "        vertical-align: top;\n",
              "    }\n",
              "\n",
              "    .dataframe thead th {\n",
              "        text-align: right;\n",
              "    }\n",
              "</style>\n",
              "<table border=\"1\" class=\"dataframe\">\n",
              "  <thead>\n",
              "    <tr style=\"text-align: right;\">\n",
              "      <th></th>\n",
              "      <th>CreditScore</th>\n",
              "      <th>Geography</th>\n",
              "      <th>Gender</th>\n",
              "      <th>Age</th>\n",
              "      <th>Tenure</th>\n",
              "      <th>Balance</th>\n",
              "      <th>NumOfProducts</th>\n",
              "      <th>HasCrCard</th>\n",
              "      <th>IsActiveMember</th>\n",
              "      <th>EstimatedSalary</th>\n",
              "      <th>Exited</th>\n",
              "      <th>Geography_encoded</th>\n",
              "      <th>Gender_encoded</th>\n",
              "    </tr>\n",
              "  </thead>\n",
              "  <tbody>\n",
              "    <tr>\n",
              "      <th>8607</th>\n",
              "      <td>602</td>\n",
              "      <td>Germany</td>\n",
              "      <td>Male</td>\n",
              "      <td>38</td>\n",
              "      <td>2</td>\n",
              "      <td>71667.97</td>\n",
              "      <td>2</td>\n",
              "      <td>0</td>\n",
              "      <td>0</td>\n",
              "      <td>137111.89</td>\n",
              "      <td>0</td>\n",
              "      <td>1</td>\n",
              "      <td>1</td>\n",
              "    </tr>\n",
              "    <tr>\n",
              "      <th>522</th>\n",
              "      <td>527</td>\n",
              "      <td>Spain</td>\n",
              "      <td>Male</td>\n",
              "      <td>37</td>\n",
              "      <td>5</td>\n",
              "      <td>93722.73</td>\n",
              "      <td>2</td>\n",
              "      <td>1</td>\n",
              "      <td>1</td>\n",
              "      <td>139093.73</td>\n",
              "      <td>0</td>\n",
              "      <td>2</td>\n",
              "      <td>1</td>\n",
              "    </tr>\n",
              "    <tr>\n",
              "      <th>586</th>\n",
              "      <td>621</td>\n",
              "      <td>Spain</td>\n",
              "      <td>Male</td>\n",
              "      <td>53</td>\n",
              "      <td>9</td>\n",
              "      <td>170491.84</td>\n",
              "      <td>1</td>\n",
              "      <td>1</td>\n",
              "      <td>0</td>\n",
              "      <td>35588.07</td>\n",
              "      <td>1</td>\n",
              "      <td>2</td>\n",
              "      <td>1</td>\n",
              "    </tr>\n",
              "    <tr>\n",
              "      <th>3421</th>\n",
              "      <td>593</td>\n",
              "      <td>France</td>\n",
              "      <td>Female</td>\n",
              "      <td>39</td>\n",
              "      <td>0</td>\n",
              "      <td>117704.73</td>\n",
              "      <td>1</td>\n",
              "      <td>1</td>\n",
              "      <td>0</td>\n",
              "      <td>197933.50</td>\n",
              "      <td>0</td>\n",
              "      <td>0</td>\n",
              "      <td>0</td>\n",
              "    </tr>\n",
              "    <tr>\n",
              "      <th>3241</th>\n",
              "      <td>621</td>\n",
              "      <td>Germany</td>\n",
              "      <td>Female</td>\n",
              "      <td>31</td>\n",
              "      <td>8</td>\n",
              "      <td>100375.39</td>\n",
              "      <td>1</td>\n",
              "      <td>1</td>\n",
              "      <td>1</td>\n",
              "      <td>90384.26</td>\n",
              "      <td>0</td>\n",
              "      <td>1</td>\n",
              "      <td>0</td>\n",
              "    </tr>\n",
              "  </tbody>\n",
              "</table>\n",
              "</div>\n",
              "      <button class=\"colab-df-convert\" onclick=\"convertToInteractive('df-b8a26329-6fe7-4bc0-a99c-f158b6837a83')\"\n",
              "              title=\"Convert this dataframe to an interactive table.\"\n",
              "              style=\"display:none;\">\n",
              "        \n",
              "  <svg xmlns=\"http://www.w3.org/2000/svg\" height=\"24px\"viewBox=\"0 0 24 24\"\n",
              "       width=\"24px\">\n",
              "    <path d=\"M0 0h24v24H0V0z\" fill=\"none\"/>\n",
              "    <path d=\"M18.56 5.44l.94 2.06.94-2.06 2.06-.94-2.06-.94-.94-2.06-.94 2.06-2.06.94zm-11 1L8.5 8.5l.94-2.06 2.06-.94-2.06-.94L8.5 2.5l-.94 2.06-2.06.94zm10 10l.94 2.06.94-2.06 2.06-.94-2.06-.94-.94-2.06-.94 2.06-2.06.94z\"/><path d=\"M17.41 7.96l-1.37-1.37c-.4-.4-.92-.59-1.43-.59-.52 0-1.04.2-1.43.59L10.3 9.45l-7.72 7.72c-.78.78-.78 2.05 0 2.83L4 21.41c.39.39.9.59 1.41.59.51 0 1.02-.2 1.41-.59l7.78-7.78 2.81-2.81c.8-.78.8-2.07 0-2.86zM5.41 20L4 18.59l7.72-7.72 1.47 1.35L5.41 20z\"/>\n",
              "  </svg>\n",
              "      </button>\n",
              "      \n",
              "  <style>\n",
              "    .colab-df-container {\n",
              "      display:flex;\n",
              "      flex-wrap:wrap;\n",
              "      gap: 12px;\n",
              "    }\n",
              "\n",
              "    .colab-df-convert {\n",
              "      background-color: #E8F0FE;\n",
              "      border: none;\n",
              "      border-radius: 50%;\n",
              "      cursor: pointer;\n",
              "      display: none;\n",
              "      fill: #1967D2;\n",
              "      height: 32px;\n",
              "      padding: 0 0 0 0;\n",
              "      width: 32px;\n",
              "    }\n",
              "\n",
              "    .colab-df-convert:hover {\n",
              "      background-color: #E2EBFA;\n",
              "      box-shadow: 0px 1px 2px rgba(60, 64, 67, 0.3), 0px 1px 3px 1px rgba(60, 64, 67, 0.15);\n",
              "      fill: #174EA6;\n",
              "    }\n",
              "\n",
              "    [theme=dark] .colab-df-convert {\n",
              "      background-color: #3B4455;\n",
              "      fill: #D2E3FC;\n",
              "    }\n",
              "\n",
              "    [theme=dark] .colab-df-convert:hover {\n",
              "      background-color: #434B5C;\n",
              "      box-shadow: 0px 1px 3px 1px rgba(0, 0, 0, 0.15);\n",
              "      filter: drop-shadow(0px 1px 2px rgba(0, 0, 0, 0.3));\n",
              "      fill: #FFFFFF;\n",
              "    }\n",
              "  </style>\n",
              "\n",
              "      <script>\n",
              "        const buttonEl =\n",
              "          document.querySelector('#df-b8a26329-6fe7-4bc0-a99c-f158b6837a83 button.colab-df-convert');\n",
              "        buttonEl.style.display =\n",
              "          google.colab.kernel.accessAllowed ? 'block' : 'none';\n",
              "\n",
              "        async function convertToInteractive(key) {\n",
              "          const element = document.querySelector('#df-b8a26329-6fe7-4bc0-a99c-f158b6837a83');\n",
              "          const dataTable =\n",
              "            await google.colab.kernel.invokeFunction('convertToInteractive',\n",
              "                                                     [key], {});\n",
              "          if (!dataTable) return;\n",
              "\n",
              "          const docLinkHtml = 'Like what you see? Visit the ' +\n",
              "            '<a target=\"_blank\" href=https://colab.research.google.com/notebooks/data_table.ipynb>data table notebook</a>'\n",
              "            + ' to learn more about interactive tables.';\n",
              "          element.innerHTML = '';\n",
              "          dataTable['output_type'] = 'display_data';\n",
              "          await google.colab.output.renderOutput(dataTable, element);\n",
              "          const docLink = document.createElement('div');\n",
              "          docLink.innerHTML = docLinkHtml;\n",
              "          element.appendChild(docLink);\n",
              "        }\n",
              "      </script>\n",
              "    </div>\n",
              "  </div>\n",
              "  "
            ]
          },
          "metadata": {},
          "execution_count": 335
        }
      ]
    },
    {
      "cell_type": "markdown",
      "source": [
        "#### One-Hot Encoding"
      ],
      "metadata": {
        "id": "S1-hGFHTZx_t"
      }
    },
    {
      "cell_type": "code",
      "source": [
        "# # # perform one-hot encoding\n",
        "# # one_hot_encoded = pd.get_dummies(cat_cols)\n",
        "\n",
        "# # # join the encoded dataframe with the original dataframe\n",
        "# # df = pd.concat([df, one_hot_encoded], axis=1)\n",
        "\n",
        "# # perform one-hot encoding on multiple columns\n",
        "# one_hot_encoded = pd.get_dummies(df[['Geography', 'Gender']],drop_first=True)\n",
        "\n",
        "# # join the encoded dataframe with the original dataframe\n",
        "# df = pd.concat([df, one_hot_encoded], axis=1)\n",
        "\n",
        "# # print the resulting dataframe\n",
        "# df.head()"
      ],
      "metadata": {
        "id": "4YXtWy-EZunT"
      },
      "execution_count": 336,
      "outputs": []
    },
    {
      "cell_type": "markdown",
      "source": [
        "**Note:** drop 'Gender' and 'Geography' columns as they are already encoded."
      ],
      "metadata": {
        "id": "pgkLKiPUnSs5"
      }
    },
    {
      "cell_type": "code",
      "source": [
        "# drop columns 'Gender' and 'Geography'\n",
        "df = df.drop(cat_cols, axis=1)"
      ],
      "metadata": {
        "id": "zeqKusehnJOZ"
      },
      "execution_count": 337,
      "outputs": []
    },
    {
      "cell_type": "code",
      "source": [
        "df.dtypes"
      ],
      "metadata": {
        "colab": {
          "base_uri": "https://localhost:8080/"
        },
        "id": "L1Ce-N4RQ92-",
        "outputId": "110a9fdb-8523-448c-cb8d-202b41a96e7d"
      },
      "execution_count": 338,
      "outputs": [
        {
          "output_type": "execute_result",
          "data": {
            "text/plain": [
              "CreditScore            int64\n",
              "Age                    int64\n",
              "Tenure                 int64\n",
              "Balance              float64\n",
              "NumOfProducts          int64\n",
              "HasCrCard              int64\n",
              "IsActiveMember         int64\n",
              "EstimatedSalary      float64\n",
              "Exited                 int64\n",
              "Geography_encoded      int64\n",
              "Gender_encoded         int64\n",
              "dtype: object"
            ]
          },
          "metadata": {},
          "execution_count": 338
        }
      ]
    },
    {
      "cell_type": "markdown",
      "source": [
        "Note:\n",
        "- All columns are in numeric format.\n",
        "- Check summary statistics"
      ],
      "metadata": {
        "id": "hJra0pbUTSdv"
      }
    },
    {
      "cell_type": "code",
      "source": [
        "df.describe()"
      ],
      "metadata": {
        "colab": {
          "base_uri": "https://localhost:8080/",
          "height": 364
        },
        "id": "_eA21lcGNsqY",
        "outputId": "1e912c99-1fa7-4511-a09e-9382baaef0f9"
      },
      "execution_count": 339,
      "outputs": [
        {
          "output_type": "execute_result",
          "data": {
            "text/plain": [
              "        CreditScore           Age        Tenure        Balance  NumOfProducts  \\\n",
              "count  10000.000000  10000.000000  10000.000000   10000.000000   10000.000000   \n",
              "mean     650.528800     38.921800      5.012800   76485.889288       1.530200   \n",
              "std       96.653299     10.487806      2.892174   62397.405202       0.581654   \n",
              "min      350.000000     18.000000      0.000000       0.000000       1.000000   \n",
              "25%      584.000000     32.000000      3.000000       0.000000       1.000000   \n",
              "50%      652.000000     37.000000      5.000000   97198.540000       1.000000   \n",
              "75%      718.000000     44.000000      7.000000  127644.240000       2.000000   \n",
              "max      850.000000     92.000000     10.000000  250898.090000       4.000000   \n",
              "\n",
              "         HasCrCard  IsActiveMember  EstimatedSalary        Exited  \\\n",
              "count  10000.00000    10000.000000     10000.000000  10000.000000   \n",
              "mean       0.70550        0.515100    100090.239881      0.203700   \n",
              "std        0.45584        0.499797     57510.492818      0.402769   \n",
              "min        0.00000        0.000000        11.580000      0.000000   \n",
              "25%        0.00000        0.000000     51002.110000      0.000000   \n",
              "50%        1.00000        1.000000    100193.915000      0.000000   \n",
              "75%        1.00000        1.000000    149388.247500      0.000000   \n",
              "max        1.00000        1.000000    199992.480000      1.000000   \n",
              "\n",
              "       Geography_encoded  Gender_encoded  \n",
              "count       10000.000000    10000.000000  \n",
              "mean            0.746300        0.545700  \n",
              "std             0.827529        0.497932  \n",
              "min             0.000000        0.000000  \n",
              "25%             0.000000        0.000000  \n",
              "50%             0.000000        1.000000  \n",
              "75%             1.000000        1.000000  \n",
              "max             2.000000        1.000000  "
            ],
            "text/html": [
              "\n",
              "  <div id=\"df-43748d94-6371-4424-b7b1-6badc12a0612\">\n",
              "    <div class=\"colab-df-container\">\n",
              "      <div>\n",
              "<style scoped>\n",
              "    .dataframe tbody tr th:only-of-type {\n",
              "        vertical-align: middle;\n",
              "    }\n",
              "\n",
              "    .dataframe tbody tr th {\n",
              "        vertical-align: top;\n",
              "    }\n",
              "\n",
              "    .dataframe thead th {\n",
              "        text-align: right;\n",
              "    }\n",
              "</style>\n",
              "<table border=\"1\" class=\"dataframe\">\n",
              "  <thead>\n",
              "    <tr style=\"text-align: right;\">\n",
              "      <th></th>\n",
              "      <th>CreditScore</th>\n",
              "      <th>Age</th>\n",
              "      <th>Tenure</th>\n",
              "      <th>Balance</th>\n",
              "      <th>NumOfProducts</th>\n",
              "      <th>HasCrCard</th>\n",
              "      <th>IsActiveMember</th>\n",
              "      <th>EstimatedSalary</th>\n",
              "      <th>Exited</th>\n",
              "      <th>Geography_encoded</th>\n",
              "      <th>Gender_encoded</th>\n",
              "    </tr>\n",
              "  </thead>\n",
              "  <tbody>\n",
              "    <tr>\n",
              "      <th>count</th>\n",
              "      <td>10000.000000</td>\n",
              "      <td>10000.000000</td>\n",
              "      <td>10000.000000</td>\n",
              "      <td>10000.000000</td>\n",
              "      <td>10000.000000</td>\n",
              "      <td>10000.00000</td>\n",
              "      <td>10000.000000</td>\n",
              "      <td>10000.000000</td>\n",
              "      <td>10000.000000</td>\n",
              "      <td>10000.000000</td>\n",
              "      <td>10000.000000</td>\n",
              "    </tr>\n",
              "    <tr>\n",
              "      <th>mean</th>\n",
              "      <td>650.528800</td>\n",
              "      <td>38.921800</td>\n",
              "      <td>5.012800</td>\n",
              "      <td>76485.889288</td>\n",
              "      <td>1.530200</td>\n",
              "      <td>0.70550</td>\n",
              "      <td>0.515100</td>\n",
              "      <td>100090.239881</td>\n",
              "      <td>0.203700</td>\n",
              "      <td>0.746300</td>\n",
              "      <td>0.545700</td>\n",
              "    </tr>\n",
              "    <tr>\n",
              "      <th>std</th>\n",
              "      <td>96.653299</td>\n",
              "      <td>10.487806</td>\n",
              "      <td>2.892174</td>\n",
              "      <td>62397.405202</td>\n",
              "      <td>0.581654</td>\n",
              "      <td>0.45584</td>\n",
              "      <td>0.499797</td>\n",
              "      <td>57510.492818</td>\n",
              "      <td>0.402769</td>\n",
              "      <td>0.827529</td>\n",
              "      <td>0.497932</td>\n",
              "    </tr>\n",
              "    <tr>\n",
              "      <th>min</th>\n",
              "      <td>350.000000</td>\n",
              "      <td>18.000000</td>\n",
              "      <td>0.000000</td>\n",
              "      <td>0.000000</td>\n",
              "      <td>1.000000</td>\n",
              "      <td>0.00000</td>\n",
              "      <td>0.000000</td>\n",
              "      <td>11.580000</td>\n",
              "      <td>0.000000</td>\n",
              "      <td>0.000000</td>\n",
              "      <td>0.000000</td>\n",
              "    </tr>\n",
              "    <tr>\n",
              "      <th>25%</th>\n",
              "      <td>584.000000</td>\n",
              "      <td>32.000000</td>\n",
              "      <td>3.000000</td>\n",
              "      <td>0.000000</td>\n",
              "      <td>1.000000</td>\n",
              "      <td>0.00000</td>\n",
              "      <td>0.000000</td>\n",
              "      <td>51002.110000</td>\n",
              "      <td>0.000000</td>\n",
              "      <td>0.000000</td>\n",
              "      <td>0.000000</td>\n",
              "    </tr>\n",
              "    <tr>\n",
              "      <th>50%</th>\n",
              "      <td>652.000000</td>\n",
              "      <td>37.000000</td>\n",
              "      <td>5.000000</td>\n",
              "      <td>97198.540000</td>\n",
              "      <td>1.000000</td>\n",
              "      <td>1.00000</td>\n",
              "      <td>1.000000</td>\n",
              "      <td>100193.915000</td>\n",
              "      <td>0.000000</td>\n",
              "      <td>0.000000</td>\n",
              "      <td>1.000000</td>\n",
              "    </tr>\n",
              "    <tr>\n",
              "      <th>75%</th>\n",
              "      <td>718.000000</td>\n",
              "      <td>44.000000</td>\n",
              "      <td>7.000000</td>\n",
              "      <td>127644.240000</td>\n",
              "      <td>2.000000</td>\n",
              "      <td>1.00000</td>\n",
              "      <td>1.000000</td>\n",
              "      <td>149388.247500</td>\n",
              "      <td>0.000000</td>\n",
              "      <td>1.000000</td>\n",
              "      <td>1.000000</td>\n",
              "    </tr>\n",
              "    <tr>\n",
              "      <th>max</th>\n",
              "      <td>850.000000</td>\n",
              "      <td>92.000000</td>\n",
              "      <td>10.000000</td>\n",
              "      <td>250898.090000</td>\n",
              "      <td>4.000000</td>\n",
              "      <td>1.00000</td>\n",
              "      <td>1.000000</td>\n",
              "      <td>199992.480000</td>\n",
              "      <td>1.000000</td>\n",
              "      <td>2.000000</td>\n",
              "      <td>1.000000</td>\n",
              "    </tr>\n",
              "  </tbody>\n",
              "</table>\n",
              "</div>\n",
              "      <button class=\"colab-df-convert\" onclick=\"convertToInteractive('df-43748d94-6371-4424-b7b1-6badc12a0612')\"\n",
              "              title=\"Convert this dataframe to an interactive table.\"\n",
              "              style=\"display:none;\">\n",
              "        \n",
              "  <svg xmlns=\"http://www.w3.org/2000/svg\" height=\"24px\"viewBox=\"0 0 24 24\"\n",
              "       width=\"24px\">\n",
              "    <path d=\"M0 0h24v24H0V0z\" fill=\"none\"/>\n",
              "    <path d=\"M18.56 5.44l.94 2.06.94-2.06 2.06-.94-2.06-.94-.94-2.06-.94 2.06-2.06.94zm-11 1L8.5 8.5l.94-2.06 2.06-.94-2.06-.94L8.5 2.5l-.94 2.06-2.06.94zm10 10l.94 2.06.94-2.06 2.06-.94-2.06-.94-.94-2.06-.94 2.06-2.06.94z\"/><path d=\"M17.41 7.96l-1.37-1.37c-.4-.4-.92-.59-1.43-.59-.52 0-1.04.2-1.43.59L10.3 9.45l-7.72 7.72c-.78.78-.78 2.05 0 2.83L4 21.41c.39.39.9.59 1.41.59.51 0 1.02-.2 1.41-.59l7.78-7.78 2.81-2.81c.8-.78.8-2.07 0-2.86zM5.41 20L4 18.59l7.72-7.72 1.47 1.35L5.41 20z\"/>\n",
              "  </svg>\n",
              "      </button>\n",
              "      \n",
              "  <style>\n",
              "    .colab-df-container {\n",
              "      display:flex;\n",
              "      flex-wrap:wrap;\n",
              "      gap: 12px;\n",
              "    }\n",
              "\n",
              "    .colab-df-convert {\n",
              "      background-color: #E8F0FE;\n",
              "      border: none;\n",
              "      border-radius: 50%;\n",
              "      cursor: pointer;\n",
              "      display: none;\n",
              "      fill: #1967D2;\n",
              "      height: 32px;\n",
              "      padding: 0 0 0 0;\n",
              "      width: 32px;\n",
              "    }\n",
              "\n",
              "    .colab-df-convert:hover {\n",
              "      background-color: #E2EBFA;\n",
              "      box-shadow: 0px 1px 2px rgba(60, 64, 67, 0.3), 0px 1px 3px 1px rgba(60, 64, 67, 0.15);\n",
              "      fill: #174EA6;\n",
              "    }\n",
              "\n",
              "    [theme=dark] .colab-df-convert {\n",
              "      background-color: #3B4455;\n",
              "      fill: #D2E3FC;\n",
              "    }\n",
              "\n",
              "    [theme=dark] .colab-df-convert:hover {\n",
              "      background-color: #434B5C;\n",
              "      box-shadow: 0px 1px 3px 1px rgba(0, 0, 0, 0.15);\n",
              "      filter: drop-shadow(0px 1px 2px rgba(0, 0, 0, 0.3));\n",
              "      fill: #FFFFFF;\n",
              "    }\n",
              "  </style>\n",
              "\n",
              "      <script>\n",
              "        const buttonEl =\n",
              "          document.querySelector('#df-43748d94-6371-4424-b7b1-6badc12a0612 button.colab-df-convert');\n",
              "        buttonEl.style.display =\n",
              "          google.colab.kernel.accessAllowed ? 'block' : 'none';\n",
              "\n",
              "        async function convertToInteractive(key) {\n",
              "          const element = document.querySelector('#df-43748d94-6371-4424-b7b1-6badc12a0612');\n",
              "          const dataTable =\n",
              "            await google.colab.kernel.invokeFunction('convertToInteractive',\n",
              "                                                     [key], {});\n",
              "          if (!dataTable) return;\n",
              "\n",
              "          const docLinkHtml = 'Like what you see? Visit the ' +\n",
              "            '<a target=\"_blank\" href=https://colab.research.google.com/notebooks/data_table.ipynb>data table notebook</a>'\n",
              "            + ' to learn more about interactive tables.';\n",
              "          element.innerHTML = '';\n",
              "          dataTable['output_type'] = 'display_data';\n",
              "          await google.colab.output.renderOutput(dataTable, element);\n",
              "          const docLink = document.createElement('div');\n",
              "          docLink.innerHTML = docLinkHtml;\n",
              "          element.appendChild(docLink);\n",
              "        }\n",
              "      </script>\n",
              "    </div>\n",
              "  </div>\n",
              "  "
            ]
          },
          "metadata": {},
          "execution_count": 339
        }
      ]
    },
    {
      "cell_type": "markdown",
      "source": [
        "**Note:** \n",
        "- There are some larges values. need scaling\n",
        "- Applying Min-Max scaling"
      ],
      "metadata": {
        "id": "rwfPJD9wUBPh"
      }
    },
    {
      "cell_type": "markdown",
      "source": [
        "### vii. Feature Scaling"
      ],
      "metadata": {
        "id": "33u_7crrmRfi"
      }
    },
    {
      "cell_type": "markdown",
      "source": [
        "#### Min-Max scaler"
      ],
      "metadata": {
        "id": "7_7C8YUnYHSp"
      }
    },
    {
      "cell_type": "code",
      "source": [
        "# # scaling all variables\n",
        "# from sklearn.preprocessing import MinMaxScaler\n",
        "\n",
        "# scaler = MinMaxScaler()\n",
        "# df=scaler.fit_transform(df)"
      ],
      "metadata": {
        "id": "IpRwqJfqRKl9"
      },
      "execution_count": 340,
      "outputs": []
    },
    {
      "cell_type": "code",
      "source": [
        "# scaling selected variables \n",
        "# variables those have values other than 0 or 1 are chosen.\n",
        "\n",
        "cols_to_scale = ['CreditScore','Age','Tenure', 'NumOfProducts', 'Balance', 'EstimatedSalary']\n",
        "\n",
        "# scaling 1\n",
        "from sklearn.preprocessing import MinMaxScaler\n",
        "scaler = MinMaxScaler()\n",
        "df[cols_to_scale] = scaler.fit_transform(df[cols_to_scale])\n",
        "\n",
        "# check after scaling\n",
        "for col in df:\n",
        "    print(f'{col}: {df[col].unique()}')"
      ],
      "metadata": {
        "colab": {
          "base_uri": "https://localhost:8080/"
        },
        "id": "sH4ozlegTjSl",
        "outputId": "3d436bc7-6931-4e8a-c712-47fbc3567dfb"
      },
      "execution_count": 341,
      "outputs": [
        {
          "output_type": "stream",
          "name": "stdout",
          "text": [
            "CreditScore: [0.538 0.516 0.304 0.698 1.    0.59  0.944 0.052 0.302 0.668 0.356 0.294\n",
            " 0.252 0.398 0.57  0.532 0.606 0.474 0.752 0.764 0.572 0.32  0.638 0.992\n",
            " 0.454 0.812 0.442 0.448 0.122 0.482 0.366 0.406 0.34  0.744 0.25  0.28\n",
            " 0.908 0.464 0.244 0.23  0.412 0.968 0.62  0.852 0.958 0.574 0.4   0.696\n",
            " 0.47  0.876 0.61  0.502 0.612 0.75  0.322 0.528 0.784 0.674 0.41  0.506\n",
            " 0.802 0.462 0.77  0.622 0.65  0.776 0.926 0.614 0.508 0.338 0.628 0.656\n",
            " 0.814 0.132 0.63  0.854 0.386 0.312 0.286 0.604 0.8   0.758 0.592 0.594\n",
            " 0.916 0.348 0.838 0.76  0.33  0.846 0.928 0.72  0.126 0.546 0.64  0.544\n",
            " 0.87  0.51  0.258 0.67  0.376 0.424 0.742 0.556 0.636 0.956 0.648 0.55\n",
            " 0.164 0.84  0.816 0.89  0.672 0.878 0.478 0.222 0.468 0.458 0.626 0.664\n",
            " 0.886 0.682 0.27  0.6   0.808 0.37  0.732 0.378 0.712 0.472 0.562 0.734\n",
            " 0.9   0.666 0.708 0.53  0.634 0.268 0.26  0.456 0.324 0.512 0.494 0.856\n",
            " 0.328 0.35  0.73  0.46  0.914 0.342 0.818 0.332 0.722 0.536 0.586 0.642\n",
            " 0.678 0.54  0.652 0.444 0.69  0.484 0.434 0.688 0.394 0.488 0.646 0.52\n",
            " 0.834 0.826 0.724 0.706 0.624 0.618 0.346 0.844 0.39  0.568 0.778 0.842\n",
            " 0.662 0.388 0.692 0.832 0.754 0.686 0.414 0.362 0.296 0.602 0.882 0.766\n",
            " 0.922 0.714 0.728 0.864 0.85  0.898 0.504 0.788 0.476 0.794 0.466 0.554\n",
            " 0.762 0.558 0.176 0.584 0.912 0.248 0.418 0.158 0.66  0.798 0.768 0.588\n",
            " 0.552 0.598 0.91  0.736 0.98  0.56  0.608 0.824 0.436 0.526 0.344 0.774\n",
            " 0.596 0.186 0.58  0.38  0.22  0.486 0.902 0.522 0.904 0.79  0.266 0.68\n",
            " 0.284 0.718 0.71  0.42  0.804 0.702 0.374 0.274 0.492 0.704 0.272 0.748\n",
            " 0.396 0.228 0.88  0.368 0.796 0.288 0.48  0.236 0.318 0.936 0.932 0.372\n",
            " 0.806 0.848 0.542 0.438 0.616 0.896 0.582 0.384 0.684 0.578 0.83  0.44\n",
            " 0.576 0.498 0.564 0.858 0.354 0.428 0.966 0.308 0.984 0.316 0.134 0.496\n",
            " 0.782 0.514 0.822 0.996 0.392 0.178 0.81  0.82  0.352 0.726 0.7   0.632\n",
            " 0.432 0.29  0.676 0.524 0.254 0.154 0.978 0.938 0.74  0.218 0.306 0.548\n",
            " 0.358 0.426 0.264 0.892 0.19  0.792 0.872 0.408 0.644 0.874 0.298 0.988\n",
            " 0.2   0.93  0.976 0.906 0.772 0.566 0.5   0.658 0.334 0.884 0.786 0.276\n",
            " 0.142 0.982 0.716 0.314 0.31  0.212 0.17  0.422 0.336 0.43  0.756 0.868\n",
            " 0.404 0.518 0.828 0.694 0.746 0.402 0.188 0.738 0.292 0.382 0.96  0.924\n",
            " 0.654 0.14  0.49  0.534 0.918 0.3   0.952 0.168 0.326 0.256 0.894 0.026\n",
            " 0.098 0.226 0.86  0.204 0.45  0.974 0.888 0.948 0.156 0.946 0.862 0.998\n",
            " 0.278 0.162 0.214 0.836 0.962 0.018 0.94  0.446 0.452 0.416 0.934 0.198\n",
            " 0.18  0.13  0.942 0.36  0.    0.192 0.15  0.78  0.262 0.866 0.016 0.99\n",
            " 0.202 0.216 0.238 0.146 0.108 0.972 0.246 0.97  0.232 0.282 0.002 0.954\n",
            " 0.986 0.03  0.364 0.128 0.206 0.242 0.102 0.92  0.964 0.24  0.194 0.144\n",
            " 0.95  0.16  0.172 0.152 0.116 0.994 0.136 0.174 0.12  0.208 0.114 0.21\n",
            " 0.224 0.072 0.11  0.066 0.09  0.234 0.166 0.184 0.148 0.196 0.182 0.034\n",
            " 0.124 0.064 0.046 0.138]\n",
            "Age: [0.32432432 0.31081081 0.28378378 0.33783784 0.35135135 0.43243243\n",
            " 0.14864865 0.12162162 0.17567568 0.08108108 0.21621622 0.09459459\n",
            " 0.22972973 0.36486486 0.54054054 0.18918919 0.27027027 0.37837838\n",
            " 0.24324324 0.2027027  0.2972973  0.44594595 0.58108108 0.41891892\n",
            " 0.25675676 0.01351351 0.64864865 0.51351351 0.10810811 0.04054054\n",
            " 0.5        0.77027027 0.05405405 0.16216216 0.13513514 0.63513514\n",
            " 0.40540541 0.45945946 0.52702703 0.74324324 0.39189189 0.48648649\n",
            " 0.72972973 0.02702703 0.66216216 0.82432432 0.59459459 0.47297297\n",
            " 0.83783784 0.55405405 0.67567568 0.06756757 0.56756757 0.7027027\n",
            " 0.60810811 0.62162162 0.         0.86486486 0.68918919 0.75675676\n",
            " 0.71621622 0.78378378 0.7972973  0.94594595 0.90540541 0.89189189\n",
            " 0.81081081 0.85135135 1.         0.87837838]\n",
            "Tenure: [0.2 0.1 0.8 0.7 0.4 0.6 0.3 1.  0.5 0.9 0. ]\n",
            "Balance: [0.         0.33403148 0.63635718 ... 0.22865702 0.29922631 0.51870777]\n",
            "NumOfProducts: [0.         0.66666667 0.33333333 1.        ]\n",
            "HasCrCard: [1 0]\n",
            "IsActiveMember: [1 0]\n",
            "EstimatedSalary: [0.50673489 0.56270874 0.56965435 ... 0.21039009 0.46442905 0.19091423]\n",
            "Exited: [1 0]\n",
            "Geography_encoded: [0 2 1]\n",
            "Gender_encoded: [0 1]\n"
          ]
        }
      ]
    },
    {
      "cell_type": "markdown",
      "source": [
        "#### Standard scaler"
      ],
      "metadata": {
        "id": "G3yndt7uhO13"
      }
    },
    {
      "cell_type": "code",
      "source": [
        "# from sklearn.preprocessing import StandardScaler\n",
        "\n",
        "# # create a StandardScaler object\n",
        "# scaler = StandardScaler()\n",
        "\n",
        "# # fit the scaler to the data\n",
        "# scaler.fit(df)\n",
        "\n",
        "# # transform the data using the scaler\n",
        "# scaled_data = scaler.transform(df)\n",
        "\n",
        "# # create a new dataframe with the scaled data\n",
        "# df= pd.DataFrame(scaled_data, columns=df.columns)\n",
        "\n",
        "# # print the resulting dataframe\n",
        "# print(df)\n",
        "# df.describe()\n",
        "\n",
        "# give negative values."
      ],
      "metadata": {
        "id": "ogGfvNrXhEro"
      },
      "execution_count": 342,
      "outputs": []
    },
    {
      "cell_type": "markdown",
      "source": [
        "**Note:** Now df is ready for separating into dependent and independent variable."
      ],
      "metadata": {
        "id": "-6gtCOQWmbWt"
      }
    },
    {
      "cell_type": "markdown",
      "source": [
        "## 3.Train-Test Split"
      ],
      "metadata": {
        "id": "S_ZpwZeiUT_W"
      }
    },
    {
      "cell_type": "code",
      "source": [
        "# separating \n",
        "X = df.drop('Exited',axis=1)\n",
        "y = df['Exited']\n",
        "\n",
        "# split\n",
        "X_train, X_test, y_train, y_test = train_test_split(X,y, stratify=y, test_size=0.2,random_state=42)\n",
        "\n",
        "print(X_train.shape)\n",
        "print(X_test.shape)\n",
        "print(y_test.shape)\n"
      ],
      "metadata": {
        "colab": {
          "base_uri": "https://localhost:8080/"
        },
        "id": "CRpn7llkmabE",
        "outputId": "bb2ed5b4-ccf3-445b-8aa4-beef20dc2350"
      },
      "execution_count": 343,
      "outputs": [
        {
          "output_type": "stream",
          "name": "stdout",
          "text": [
            "(8000, 10)\n",
            "(2000, 10)\n",
            "(2000,)\n"
          ]
        }
      ]
    },
    {
      "cell_type": "markdown",
      "source": [
        "## 4.ANN model"
      ],
      "metadata": {
        "id": "ZjRSUzfFpNNI"
      }
    },
    {
      "cell_type": "markdown",
      "source": [
        "### i. ANN modfel buidling method 1"
      ],
      "metadata": {
        "id": "RXR5-0N0qjo4"
      }
    },
    {
      "cell_type": "code",
      "source": [
        "from tensorflow.keras.models import Sequential\n",
        "from tensorflow.keras.layers import Dense\n",
        "from tensorflow.keras.layers import LeakyReLU,PReLU,ELU # activation function\n",
        "from tensorflow.keras.layers import Dropout # to reduce overfitting"
      ],
      "metadata": {
        "id": "_obDWJq2pB2e"
      },
      "execution_count": 344,
      "outputs": []
    },
    {
      "cell_type": "code",
      "source": [
        "# way 1\n",
        "# Initialising the ANN\n",
        "classifier = Sequential()\n",
        "\n",
        "# Adding the input layer\n",
        "classifier.add(Dense(units=10,activation='relu')) # input variable= 24\n",
        "\n",
        "# Adding the first hidden layer\n",
        "classifier.add(Dense(units=10,activation='relu')) # 6, or 7 not fixed\n",
        "\n",
        "# Adding the second hidden layer\n",
        "classifier.add(Dense(units=6,activation='relu'))\n",
        "\n",
        "# Adding the output layer\n",
        "classifier.add(Dense(units=1, activation='sigmoid'))\n",
        "\n",
        "# # change learning rate\n",
        "import tensorflow\n",
        "opt=tensorflow.keras.optimizers.Adam(learning_rate=0.01)\n",
        "\n",
        "classifier.compile(optimizer=opt,loss='binary_crossentropy',metrics=['accuracy']) #The default learning rate is 0.001"
      ],
      "metadata": {
        "id": "mQtUXWO8vPTK"
      },
      "execution_count": 345,
      "outputs": []
    },
    {
      "cell_type": "code",
      "source": [
        "# early stopping\n",
        "import tensorflow as tf\n",
        "early_stopping= tf.keras.callbacks.EarlyStopping(\n",
        "    monitor=\"val_loss\",\n",
        "    min_delta=0,\n",
        "    patience=3,\n",
        "    verbose=1,\n",
        "    mode=\"auto\",\n",
        "    baseline=None,\n",
        "    restore_best_weights=False,\n",
        "    start_from_epoch=0,\n",
        ")"
      ],
      "metadata": {
        "id": "wQeLOI74xa7k"
      },
      "execution_count": 346,
      "outputs": []
    },
    {
      "cell_type": "code",
      "source": [
        "# model_history=classifier.fit(X_train, y_train,validation_split=0.33, batch_size=20, epochs=50) # without early stopping\n",
        "model_history=classifier.fit(X_train, y_train, validation_split=0.33, batch_size=10, epochs=50, callbacks=early_stopping)"
      ],
      "metadata": {
        "colab": {
          "base_uri": "https://localhost:8080/"
        },
        "outputId": "a0790378-da54-4d9b-fb68-da252acdf408",
        "id": "nCmUntGHxa7k"
      },
      "execution_count": 347,
      "outputs": [
        {
          "output_type": "stream",
          "name": "stdout",
          "text": [
            "Epoch 1/50\n",
            "536/536 [==============================] - 4s 5ms/step - loss: 0.4723 - accuracy: 0.7987 - val_loss: 0.4574 - val_accuracy: 0.7921\n",
            "Epoch 2/50\n",
            "536/536 [==============================] - 3s 6ms/step - loss: 0.4405 - accuracy: 0.8151 - val_loss: 0.4316 - val_accuracy: 0.8266\n",
            "Epoch 3/50\n",
            "536/536 [==============================] - 2s 5ms/step - loss: 0.4284 - accuracy: 0.8240 - val_loss: 0.4143 - val_accuracy: 0.8372\n",
            "Epoch 4/50\n",
            "536/536 [==============================] - 3s 5ms/step - loss: 0.4162 - accuracy: 0.8289 - val_loss: 0.4096 - val_accuracy: 0.8349\n",
            "Epoch 5/50\n",
            "536/536 [==============================] - 2s 5ms/step - loss: 0.3904 - accuracy: 0.8442 - val_loss: 0.3794 - val_accuracy: 0.8519\n",
            "Epoch 6/50\n",
            "536/536 [==============================] - 2s 5ms/step - loss: 0.3724 - accuracy: 0.8505 - val_loss: 0.3701 - val_accuracy: 0.8546\n",
            "Epoch 7/50\n",
            "536/536 [==============================] - 3s 6ms/step - loss: 0.3704 - accuracy: 0.8515 - val_loss: 0.3701 - val_accuracy: 0.8489\n",
            "Epoch 8/50\n",
            "536/536 [==============================] - 3s 5ms/step - loss: 0.3670 - accuracy: 0.8520 - val_loss: 0.3614 - val_accuracy: 0.8531\n",
            "Epoch 9/50\n",
            "536/536 [==============================] - 2s 5ms/step - loss: 0.3646 - accuracy: 0.8522 - val_loss: 0.3594 - val_accuracy: 0.8588\n",
            "Epoch 10/50\n",
            "536/536 [==============================] - 2s 5ms/step - loss: 0.3664 - accuracy: 0.8517 - val_loss: 0.3659 - val_accuracy: 0.8527\n",
            "Epoch 11/50\n",
            "536/536 [==============================] - 2s 4ms/step - loss: 0.3633 - accuracy: 0.8543 - val_loss: 0.3571 - val_accuracy: 0.8569\n",
            "Epoch 12/50\n",
            "536/536 [==============================] - 3s 6ms/step - loss: 0.3636 - accuracy: 0.8533 - val_loss: 0.3720 - val_accuracy: 0.8497\n",
            "Epoch 13/50\n",
            "536/536 [==============================] - 3s 6ms/step - loss: 0.3625 - accuracy: 0.8554 - val_loss: 0.3605 - val_accuracy: 0.8557\n",
            "Epoch 14/50\n",
            "536/536 [==============================] - 2s 4ms/step - loss: 0.3628 - accuracy: 0.8543 - val_loss: 0.3625 - val_accuracy: 0.8588\n",
            "Epoch 14: early stopping\n"
          ]
        }
      ]
    },
    {
      "cell_type": "code",
      "source": [
        "# summarize history for accuracy\n",
        "plt.plot(model_history.history['accuracy'])\n",
        "plt.plot(model_history.history['val_accuracy'])\n",
        "plt.title('model accuracy')\n",
        "plt.ylabel('accuracy')\n",
        "plt.xlabel('epoch')\n",
        "plt.legend(['train', 'test'], loc='upper left')\n",
        "plt.show()"
      ],
      "metadata": {
        "colab": {
          "base_uri": "https://localhost:8080/",
          "height": 295
        },
        "outputId": "478c8204-7924-4cb3-f12b-6b7a45a22c7e",
        "id": "_e7VPzJBxa7l"
      },
      "execution_count": 348,
      "outputs": [
        {
          "output_type": "display_data",
          "data": {
            "text/plain": [
              "<Figure size 432x288 with 1 Axes>"
            ],
            "image/png": "[encoded data removed]"
          },
          "metadata": {
            "needs_background": "light"
          }
        }
      ]
    },
    {
      "cell_type": "code",
      "source": [
        "# summarize history for loss\n",
        "plt.plot(model_history.history['loss'])\n",
        "plt.plot(model_history.history['val_loss'])\n",
        "plt.title('model loss')\n",
        "plt.ylabel('loss')\n",
        "plt.xlabel('epoch')\n",
        "plt.legend(['train', 'test'], loc='upper left')\n",
        "plt.show()"
      ],
      "metadata": {
        "colab": {
          "base_uri": "https://localhost:8080/",
          "height": 295
        },
        "outputId": "9fb0fecf-72f3-4b31-cee0-34a783ba4d89",
        "id": "FAKKBp7pxa7m"
      },
      "execution_count": 349,
      "outputs": [
        {
          "output_type": "display_data",
          "data": {
            "text/plain": [
              "<Figure size 432x288 with 1 Axes>"
            ],
            "image/png": "[encoded data removed]"
          },
          "metadata": {
            "needs_background": "light"
          }
        }
      ]
    },
    {
      "cell_type": "code",
      "source": [
        "# Predicting the Test set results\n",
        "y_pred = classifier.predict(X_test)\n",
        "y_pred = (y_pred > 0.5)"
      ],
      "metadata": {
        "colab": {
          "base_uri": "https://localhost:8080/"
        },
        "outputId": "c9df7885-86ea-4dfe-acd5-6c43015538bd",
        "id": "WN10RY94xa7n"
      },
      "execution_count": 350,
      "outputs": [
        {
          "output_type": "stream",
          "name": "stdout",
          "text": [
            "63/63 [==============================] - 0s 1ms/step\n"
          ]
        }
      ]
    },
    {
      "cell_type": "code",
      "source": [
        "# Making the Confusion Matrix\n",
        "from sklearn.metrics import confusion_matrix\n",
        "cm = confusion_matrix(y_test, y_pred)\n",
        "cm"
      ],
      "metadata": {
        "colab": {
          "base_uri": "https://localhost:8080/"
        },
        "outputId": "69352cc5-a70f-4be4-b7b3-11aa2113f4f7",
        "id": "X0fEKI1Lxa7n"
      },
      "execution_count": 351,
      "outputs": [
        {
          "output_type": "execute_result",
          "data": {
            "text/plain": [
              "array([[1547,   46],\n",
              "       [ 252,  155]])"
            ]
          },
          "metadata": {},
          "execution_count": 351
        }
      ]
    },
    {
      "cell_type": "code",
      "source": [
        "# Calculate the Accuracy\n",
        "from sklearn.metrics import accuracy_score\n",
        "score=accuracy_score(y_pred,y_test)\n",
        "score"
      ],
      "metadata": {
        "colab": {
          "base_uri": "https://localhost:8080/"
        },
        "outputId": "b1b25c0a-df22-4b16-f8f6-3d295b01193f",
        "id": "CYdM9Rv3xa7n"
      },
      "execution_count": 352,
      "outputs": [
        {
          "output_type": "execute_result",
          "data": {
            "text/plain": [
              "0.851"
            ]
          },
          "metadata": {},
          "execution_count": 352
        }
      ]
    },
    {
      "cell_type": "code",
      "source": [
        "from sklearn.metrics import confusion_matrix , classification_report\n",
        "\n",
        "print(classification_report(y_test,y_pred))"
      ],
      "metadata": {
        "colab": {
          "base_uri": "https://localhost:8080/"
        },
        "id": "hkrBsRfjyi9r",
        "outputId": "03868a77-32e9-4351-b27f-6261a5a1159b"
      },
      "execution_count": 353,
      "outputs": [
        {
          "output_type": "stream",
          "name": "stdout",
          "text": [
            "              precision    recall  f1-score   support\n",
            "\n",
            "           0       0.86      0.97      0.91      1593\n",
            "           1       0.77      0.38      0.51       407\n",
            "\n",
            "    accuracy                           0.85      2000\n",
            "   macro avg       0.82      0.68      0.71      2000\n",
            "weighted avg       0.84      0.85      0.83      2000\n",
            "\n"
          ]
        }
      ]
    },
    {
      "cell_type": "markdown",
      "source": [
        "### ii. ANN modfel buidling method 2"
      ],
      "metadata": {
        "id": "TeJp3OWixm1h"
      }
    },
    {
      "cell_type": "code",
      "source": [
        "# way 2\n",
        "import tensorflow as tf\n",
        "from tensorflow import keras\n",
        "\n",
        "\n",
        "model = keras.Sequential([\n",
        "    keras.layers.Dense(26, input_shape=(10,), activation='relu'),\n",
        "    keras.layers.Dense(15, activation='relu'),\n",
        "    keras.layers.Dense(1, activation='sigmoid')\n",
        "])\n",
        "\n",
        "# opt = keras.optimizers.Adam(learning_rate=0.01)\n",
        "\n",
        "model.compile(optimizer='adam',\n",
        "              loss='binary_crossentropy',\n",
        "              metrics=['accuracy'])\n",
        "\n",
        "model_history=model.fit(X_train, y_train, validation_split=0.33, epochs=100)"
      ],
      "metadata": {
        "colab": {
          "base_uri": "https://localhost:8080/"
        },
        "id": "HVyJ0BoNpxog",
        "outputId": "9fce5a33-076e-4ed7-d621-57be4cc3b63b"
      },
      "execution_count": 354,
      "outputs": [
        {
          "output_type": "stream",
          "name": "stdout",
          "text": [
            "Epoch 1/100\n",
            "168/168 [==============================] - 2s 5ms/step - loss: 0.5170 - accuracy: 0.7811 - val_loss: 0.4916 - val_accuracy: 0.7921\n",
            "Epoch 2/100\n",
            "168/168 [==============================] - 1s 4ms/step - loss: 0.4756 - accuracy: 0.7983 - val_loss: 0.4762 - val_accuracy: 0.7921\n",
            "Epoch 3/100\n",
            "168/168 [==============================] - 1s 4ms/step - loss: 0.4613 - accuracy: 0.8013 - val_loss: 0.4629 - val_accuracy: 0.7989\n",
            "Epoch 4/100\n",
            "168/168 [==============================] - 1s 4ms/step - loss: 0.4476 - accuracy: 0.8078 - val_loss: 0.4524 - val_accuracy: 0.8020\n",
            "Epoch 5/100\n",
            "168/168 [==============================] - 1s 6ms/step - loss: 0.4379 - accuracy: 0.8123 - val_loss: 0.4413 - val_accuracy: 0.8080\n",
            "Epoch 6/100\n",
            "168/168 [==============================] - 1s 6ms/step - loss: 0.4320 - accuracy: 0.8151 - val_loss: 0.4372 - val_accuracy: 0.8141\n",
            "Epoch 7/100\n",
            "168/168 [==============================] - 1s 7ms/step - loss: 0.4267 - accuracy: 0.8175 - val_loss: 0.4392 - val_accuracy: 0.8118\n",
            "Epoch 8/100\n",
            "168/168 [==============================] - 1s 4ms/step - loss: 0.4256 - accuracy: 0.8186 - val_loss: 0.4325 - val_accuracy: 0.8179\n",
            "Epoch 9/100\n",
            "168/168 [==============================] - 1s 4ms/step - loss: 0.4233 - accuracy: 0.8227 - val_loss: 0.4299 - val_accuracy: 0.8194\n",
            "Epoch 10/100\n",
            "168/168 [==============================] - 1s 4ms/step - loss: 0.4206 - accuracy: 0.8229 - val_loss: 0.4369 - val_accuracy: 0.8160\n",
            "Epoch 11/100\n",
            "168/168 [==============================] - 1s 4ms/step - loss: 0.4187 - accuracy: 0.8238 - val_loss: 0.4281 - val_accuracy: 0.8201\n",
            "Epoch 12/100\n",
            "168/168 [==============================] - 1s 5ms/step - loss: 0.4171 - accuracy: 0.8253 - val_loss: 0.4264 - val_accuracy: 0.8213\n",
            "Epoch 13/100\n",
            "168/168 [==============================] - 1s 4ms/step - loss: 0.4156 - accuracy: 0.8238 - val_loss: 0.4212 - val_accuracy: 0.8247\n",
            "Epoch 14/100\n",
            "168/168 [==============================] - 1s 4ms/step - loss: 0.4144 - accuracy: 0.8266 - val_loss: 0.4201 - val_accuracy: 0.8232\n",
            "Epoch 15/100\n",
            "168/168 [==============================] - 1s 4ms/step - loss: 0.4106 - accuracy: 0.8283 - val_loss: 0.4175 - val_accuracy: 0.8277\n",
            "Epoch 16/100\n",
            "168/168 [==============================] - 1s 4ms/step - loss: 0.4083 - accuracy: 0.8261 - val_loss: 0.4165 - val_accuracy: 0.8262\n",
            "Epoch 17/100\n",
            "168/168 [==============================] - 1s 4ms/step - loss: 0.4056 - accuracy: 0.8304 - val_loss: 0.4078 - val_accuracy: 0.8300\n",
            "Epoch 18/100\n",
            "168/168 [==============================] - 1s 4ms/step - loss: 0.4009 - accuracy: 0.8317 - val_loss: 0.4030 - val_accuracy: 0.8326\n",
            "Epoch 19/100\n",
            "168/168 [==============================] - 1s 5ms/step - loss: 0.3953 - accuracy: 0.8339 - val_loss: 0.3996 - val_accuracy: 0.8349\n",
            "Epoch 20/100\n",
            "168/168 [==============================] - 1s 4ms/step - loss: 0.3927 - accuracy: 0.8347 - val_loss: 0.3981 - val_accuracy: 0.8338\n",
            "Epoch 21/100\n",
            "168/168 [==============================] - 1s 6ms/step - loss: 0.3880 - accuracy: 0.8371 - val_loss: 0.3883 - val_accuracy: 0.8387\n",
            "Epoch 22/100\n",
            "168/168 [==============================] - 1s 7ms/step - loss: 0.3835 - accuracy: 0.8401 - val_loss: 0.3842 - val_accuracy: 0.8432\n",
            "Epoch 23/100\n",
            "168/168 [==============================] - 1s 6ms/step - loss: 0.3788 - accuracy: 0.8427 - val_loss: 0.3841 - val_accuracy: 0.8402\n",
            "Epoch 24/100\n",
            "168/168 [==============================] - 1s 5ms/step - loss: 0.3764 - accuracy: 0.8434 - val_loss: 0.3771 - val_accuracy: 0.8436\n",
            "Epoch 25/100\n",
            "168/168 [==============================] - 1s 4ms/step - loss: 0.3721 - accuracy: 0.8464 - val_loss: 0.3751 - val_accuracy: 0.8432\n",
            "Epoch 26/100\n",
            "168/168 [==============================] - 1s 4ms/step - loss: 0.3698 - accuracy: 0.8489 - val_loss: 0.3775 - val_accuracy: 0.8463\n",
            "Epoch 27/100\n",
            "168/168 [==============================] - 1s 4ms/step - loss: 0.3670 - accuracy: 0.8490 - val_loss: 0.3661 - val_accuracy: 0.8512\n",
            "Epoch 28/100\n",
            "168/168 [==============================] - 1s 5ms/step - loss: 0.3646 - accuracy: 0.8494 - val_loss: 0.3641 - val_accuracy: 0.8504\n",
            "Epoch 29/100\n",
            "168/168 [==============================] - 2s 9ms/step - loss: 0.3633 - accuracy: 0.8492 - val_loss: 0.3703 - val_accuracy: 0.8466\n",
            "Epoch 30/100\n",
            "168/168 [==============================] - 2s 9ms/step - loss: 0.3603 - accuracy: 0.8477 - val_loss: 0.3648 - val_accuracy: 0.8451\n",
            "Epoch 31/100\n",
            "168/168 [==============================] - 1s 6ms/step - loss: 0.3591 - accuracy: 0.8518 - val_loss: 0.3585 - val_accuracy: 0.8580\n",
            "Epoch 32/100\n",
            "168/168 [==============================] - 1s 4ms/step - loss: 0.3567 - accuracy: 0.8530 - val_loss: 0.3586 - val_accuracy: 0.8523\n",
            "Epoch 33/100\n",
            "168/168 [==============================] - 1s 4ms/step - loss: 0.3560 - accuracy: 0.8571 - val_loss: 0.3569 - val_accuracy: 0.8535\n",
            "Epoch 34/100\n",
            "168/168 [==============================] - 1s 5ms/step - loss: 0.3547 - accuracy: 0.8569 - val_loss: 0.3565 - val_accuracy: 0.8519\n",
            "Epoch 35/100\n",
            "168/168 [==============================] - 1s 9ms/step - loss: 0.3535 - accuracy: 0.8572 - val_loss: 0.3609 - val_accuracy: 0.8501\n",
            "Epoch 36/100\n",
            "168/168 [==============================] - 1s 6ms/step - loss: 0.3525 - accuracy: 0.8561 - val_loss: 0.3531 - val_accuracy: 0.8550\n",
            "Epoch 37/100\n",
            "168/168 [==============================] - 1s 7ms/step - loss: 0.3507 - accuracy: 0.8567 - val_loss: 0.3556 - val_accuracy: 0.8554\n",
            "Epoch 38/100\n",
            "168/168 [==============================] - 1s 5ms/step - loss: 0.3512 - accuracy: 0.8580 - val_loss: 0.3529 - val_accuracy: 0.8565\n",
            "Epoch 39/100\n",
            "168/168 [==============================] - 1s 5ms/step - loss: 0.3491 - accuracy: 0.8584 - val_loss: 0.3509 - val_accuracy: 0.8565\n",
            "Epoch 40/100\n",
            "168/168 [==============================] - 1s 4ms/step - loss: 0.3490 - accuracy: 0.8587 - val_loss: 0.3538 - val_accuracy: 0.8535\n",
            "Epoch 41/100\n",
            "168/168 [==============================] - 1s 4ms/step - loss: 0.3471 - accuracy: 0.8602 - val_loss: 0.3586 - val_accuracy: 0.8535\n",
            "Epoch 42/100\n",
            "168/168 [==============================] - 1s 4ms/step - loss: 0.3479 - accuracy: 0.8565 - val_loss: 0.3485 - val_accuracy: 0.8573\n",
            "Epoch 43/100\n",
            "168/168 [==============================] - 1s 4ms/step - loss: 0.3470 - accuracy: 0.8597 - val_loss: 0.3496 - val_accuracy: 0.8554\n",
            "Epoch 44/100\n",
            "168/168 [==============================] - 1s 4ms/step - loss: 0.3467 - accuracy: 0.8571 - val_loss: 0.3475 - val_accuracy: 0.8580\n",
            "Epoch 45/100\n",
            "168/168 [==============================] - 1s 4ms/step - loss: 0.3457 - accuracy: 0.8599 - val_loss: 0.3474 - val_accuracy: 0.8584\n",
            "Epoch 46/100\n",
            "168/168 [==============================] - 1s 5ms/step - loss: 0.3454 - accuracy: 0.8593 - val_loss: 0.3490 - val_accuracy: 0.8569\n",
            "Epoch 47/100\n",
            "168/168 [==============================] - 1s 4ms/step - loss: 0.3451 - accuracy: 0.8600 - val_loss: 0.3486 - val_accuracy: 0.8588\n",
            "Epoch 48/100\n",
            "168/168 [==============================] - 1s 5ms/step - loss: 0.3443 - accuracy: 0.8591 - val_loss: 0.3476 - val_accuracy: 0.8550\n",
            "Epoch 49/100\n",
            "168/168 [==============================] - 1s 5ms/step - loss: 0.3445 - accuracy: 0.8623 - val_loss: 0.3469 - val_accuracy: 0.8557\n",
            "Epoch 50/100\n",
            "168/168 [==============================] - 1s 6ms/step - loss: 0.3430 - accuracy: 0.8599 - val_loss: 0.3474 - val_accuracy: 0.8588\n",
            "Epoch 51/100\n",
            "168/168 [==============================] - 1s 6ms/step - loss: 0.3439 - accuracy: 0.8615 - val_loss: 0.3463 - val_accuracy: 0.8565\n",
            "Epoch 52/100\n",
            "168/168 [==============================] - 1s 6ms/step - loss: 0.3424 - accuracy: 0.8606 - val_loss: 0.3465 - val_accuracy: 0.8550\n",
            "Epoch 53/100\n",
            "168/168 [==============================] - 1s 6ms/step - loss: 0.3428 - accuracy: 0.8600 - val_loss: 0.3528 - val_accuracy: 0.8565\n",
            "Epoch 54/100\n",
            "168/168 [==============================] - 1s 4ms/step - loss: 0.3424 - accuracy: 0.8606 - val_loss: 0.3532 - val_accuracy: 0.8546\n",
            "Epoch 55/100\n",
            "168/168 [==============================] - 1s 4ms/step - loss: 0.3425 - accuracy: 0.8600 - val_loss: 0.3468 - val_accuracy: 0.8580\n",
            "Epoch 56/100\n",
            "168/168 [==============================] - 1s 4ms/step - loss: 0.3428 - accuracy: 0.8584 - val_loss: 0.3476 - val_accuracy: 0.8580\n",
            "Epoch 57/100\n",
            "168/168 [==============================] - 1s 5ms/step - loss: 0.3420 - accuracy: 0.8602 - val_loss: 0.3583 - val_accuracy: 0.8512\n",
            "Epoch 58/100\n",
            "168/168 [==============================] - 1s 4ms/step - loss: 0.3409 - accuracy: 0.8623 - val_loss: 0.3505 - val_accuracy: 0.8561\n",
            "Epoch 59/100\n",
            "168/168 [==============================] - 1s 4ms/step - loss: 0.3406 - accuracy: 0.8614 - val_loss: 0.3448 - val_accuracy: 0.8561\n",
            "Epoch 60/100\n",
            "168/168 [==============================] - 1s 4ms/step - loss: 0.3412 - accuracy: 0.8586 - val_loss: 0.3453 - val_accuracy: 0.8569\n",
            "Epoch 61/100\n",
            "168/168 [==============================] - 1s 4ms/step - loss: 0.3404 - accuracy: 0.8595 - val_loss: 0.3490 - val_accuracy: 0.8554\n",
            "Epoch 62/100\n",
            "168/168 [==============================] - 1s 5ms/step - loss: 0.3405 - accuracy: 0.8604 - val_loss: 0.3456 - val_accuracy: 0.8580\n",
            "Epoch 63/100\n",
            "168/168 [==============================] - 1s 5ms/step - loss: 0.3391 - accuracy: 0.8627 - val_loss: 0.3511 - val_accuracy: 0.8588\n",
            "Epoch 64/100\n",
            "168/168 [==============================] - 1s 5ms/step - loss: 0.3404 - accuracy: 0.8615 - val_loss: 0.3472 - val_accuracy: 0.8588\n",
            "Epoch 65/100\n",
            "168/168 [==============================] - 1s 5ms/step - loss: 0.3384 - accuracy: 0.8621 - val_loss: 0.3456 - val_accuracy: 0.8573\n",
            "Epoch 66/100\n",
            "168/168 [==============================] - 1s 6ms/step - loss: 0.3391 - accuracy: 0.8600 - val_loss: 0.3444 - val_accuracy: 0.8580\n",
            "Epoch 67/100\n",
            "168/168 [==============================] - 1s 7ms/step - loss: 0.3392 - accuracy: 0.8621 - val_loss: 0.3459 - val_accuracy: 0.8550\n",
            "Epoch 68/100\n",
            "168/168 [==============================] - 1s 7ms/step - loss: 0.3390 - accuracy: 0.8586 - val_loss: 0.3526 - val_accuracy: 0.8580\n",
            "Epoch 69/100\n",
            "168/168 [==============================] - 1s 5ms/step - loss: 0.3385 - accuracy: 0.8586 - val_loss: 0.3435 - val_accuracy: 0.8561\n",
            "Epoch 70/100\n",
            "168/168 [==============================] - 1s 5ms/step - loss: 0.3378 - accuracy: 0.8599 - val_loss: 0.3444 - val_accuracy: 0.8580\n",
            "Epoch 71/100\n",
            "168/168 [==============================] - 1s 5ms/step - loss: 0.3366 - accuracy: 0.8642 - val_loss: 0.3435 - val_accuracy: 0.8584\n",
            "Epoch 72/100\n",
            "168/168 [==============================] - 1s 5ms/step - loss: 0.3376 - accuracy: 0.8630 - val_loss: 0.3453 - val_accuracy: 0.8569\n",
            "Epoch 73/100\n",
            "168/168 [==============================] - 1s 7ms/step - loss: 0.3369 - accuracy: 0.8617 - val_loss: 0.3439 - val_accuracy: 0.8554\n",
            "Epoch 74/100\n",
            "168/168 [==============================] - 1s 7ms/step - loss: 0.3374 - accuracy: 0.8619 - val_loss: 0.3441 - val_accuracy: 0.8573\n",
            "Epoch 75/100\n",
            "168/168 [==============================] - 2s 10ms/step - loss: 0.3376 - accuracy: 0.8636 - val_loss: 0.3496 - val_accuracy: 0.8519\n",
            "Epoch 76/100\n",
            "168/168 [==============================] - 1s 9ms/step - loss: 0.3357 - accuracy: 0.8630 - val_loss: 0.3504 - val_accuracy: 0.8569\n",
            "Epoch 77/100\n",
            "168/168 [==============================] - 1s 7ms/step - loss: 0.3359 - accuracy: 0.8640 - val_loss: 0.3488 - val_accuracy: 0.8588\n",
            "Epoch 78/100\n",
            "168/168 [==============================] - 2s 11ms/step - loss: 0.3366 - accuracy: 0.8614 - val_loss: 0.3432 - val_accuracy: 0.8554\n",
            "Epoch 79/100\n",
            "168/168 [==============================] - 1s 6ms/step - loss: 0.3357 - accuracy: 0.8638 - val_loss: 0.3458 - val_accuracy: 0.8584\n",
            "Epoch 80/100\n",
            "168/168 [==============================] - 1s 6ms/step - loss: 0.3358 - accuracy: 0.8647 - val_loss: 0.3467 - val_accuracy: 0.8561\n",
            "Epoch 81/100\n",
            "168/168 [==============================] - 1s 4ms/step - loss: 0.3360 - accuracy: 0.8632 - val_loss: 0.3426 - val_accuracy: 0.8550\n",
            "Epoch 82/100\n",
            "168/168 [==============================] - 1s 5ms/step - loss: 0.3369 - accuracy: 0.8599 - val_loss: 0.3466 - val_accuracy: 0.8595\n",
            "Epoch 83/100\n",
            "168/168 [==============================] - 1s 5ms/step - loss: 0.3349 - accuracy: 0.8645 - val_loss: 0.3460 - val_accuracy: 0.8550\n",
            "Epoch 84/100\n",
            "168/168 [==============================] - 1s 7ms/step - loss: 0.3358 - accuracy: 0.8643 - val_loss: 0.3428 - val_accuracy: 0.8565\n",
            "Epoch 85/100\n",
            "168/168 [==============================] - 1s 6ms/step - loss: 0.3356 - accuracy: 0.8643 - val_loss: 0.3436 - val_accuracy: 0.8569\n",
            "Epoch 86/100\n",
            "168/168 [==============================] - 1s 7ms/step - loss: 0.3342 - accuracy: 0.8632 - val_loss: 0.3490 - val_accuracy: 0.8591\n",
            "Epoch 87/100\n",
            "168/168 [==============================] - 1s 7ms/step - loss: 0.3367 - accuracy: 0.8610 - val_loss: 0.3432 - val_accuracy: 0.8554\n",
            "Epoch 88/100\n",
            "168/168 [==============================] - 1s 7ms/step - loss: 0.3335 - accuracy: 0.8627 - val_loss: 0.3426 - val_accuracy: 0.8569\n",
            "Epoch 89/100\n",
            "168/168 [==============================] - 1s 7ms/step - loss: 0.3349 - accuracy: 0.8640 - val_loss: 0.3482 - val_accuracy: 0.8591\n",
            "Epoch 90/100\n",
            "168/168 [==============================] - 1s 8ms/step - loss: 0.3348 - accuracy: 0.8636 - val_loss: 0.3435 - val_accuracy: 0.8569\n",
            "Epoch 91/100\n",
            "168/168 [==============================] - 1s 8ms/step - loss: 0.3331 - accuracy: 0.8642 - val_loss: 0.3431 - val_accuracy: 0.8565\n",
            "Epoch 92/100\n",
            "168/168 [==============================] - 1s 9ms/step - loss: 0.3329 - accuracy: 0.8656 - val_loss: 0.3460 - val_accuracy: 0.8591\n",
            "Epoch 93/100\n",
            "168/168 [==============================] - 1s 7ms/step - loss: 0.3374 - accuracy: 0.8623 - val_loss: 0.3472 - val_accuracy: 0.8561\n",
            "Epoch 94/100\n",
            "168/168 [==============================] - 1s 7ms/step - loss: 0.3334 - accuracy: 0.8671 - val_loss: 0.3429 - val_accuracy: 0.8569\n",
            "Epoch 95/100\n",
            "168/168 [==============================] - 1s 7ms/step - loss: 0.3347 - accuracy: 0.8636 - val_loss: 0.3444 - val_accuracy: 0.8588\n",
            "Epoch 96/100\n",
            "168/168 [==============================] - 1s 8ms/step - loss: 0.3335 - accuracy: 0.8640 - val_loss: 0.3450 - val_accuracy: 0.8603\n",
            "Epoch 97/100\n",
            "168/168 [==============================] - 1s 4ms/step - loss: 0.3320 - accuracy: 0.8634 - val_loss: 0.3483 - val_accuracy: 0.8603\n",
            "Epoch 98/100\n",
            "168/168 [==============================] - 1s 7ms/step - loss: 0.3329 - accuracy: 0.8617 - val_loss: 0.3424 - val_accuracy: 0.8576\n",
            "Epoch 99/100\n",
            "168/168 [==============================] - 1s 7ms/step - loss: 0.3337 - accuracy: 0.8653 - val_loss: 0.3438 - val_accuracy: 0.8538\n",
            "Epoch 100/100\n",
            "168/168 [==============================] - 1s 5ms/step - loss: 0.3329 - accuracy: 0.8628 - val_loss: 0.3459 - val_accuracy: 0.8573\n"
          ]
        }
      ]
    },
    {
      "cell_type": "code",
      "source": [
        "# summarize history for accuracy\n",
        "plt.plot(model_history.history['accuracy'])\n",
        "plt.plot(model_history.history['val_accuracy'])\n",
        "plt.title('model accuracy')\n",
        "plt.ylabel('accuracy')\n",
        "plt.xlabel('epoch')\n",
        "plt.legend(['train', 'test'], loc='upper left')\n",
        "plt.show()"
      ],
      "metadata": {
        "colab": {
          "base_uri": "https://localhost:8080/",
          "height": 295
        },
        "id": "bJT225qfs3TY",
        "outputId": "bc9f5b3d-3d1a-4eee-d543-f483168f8e92"
      },
      "execution_count": 355,
      "outputs": [
        {
          "output_type": "display_data",
          "data": {
            "text/plain": [
              "<Figure size 432x288 with 1 Axes>"
            ],
            "image/png": "[encoded data removed]"
          },
          "metadata": {
            "needs_background": "light"
          }
        }
      ]
    },
    {
      "cell_type": "code",
      "source": [
        "# summarize history for loss\n",
        "plt.plot(model_history.history['loss'])\n",
        "plt.plot(model_history.history['val_loss'])\n",
        "plt.title('model loss')\n",
        "plt.ylabel('loss')\n",
        "plt.xlabel('epoch')\n",
        "plt.legend(['train', 'test'], loc='upper left')\n",
        "plt.show()"
      ],
      "metadata": {
        "colab": {
          "base_uri": "https://localhost:8080/",
          "height": 295
        },
        "id": "r_7rz4qis8Zi",
        "outputId": "ee24739a-00e0-412c-b7db-306975663b0a"
      },
      "execution_count": 356,
      "outputs": [
        {
          "output_type": "display_data",
          "data": {
            "text/plain": [
              "<Figure size 432x288 with 1 Axes>"
            ],
            "image/png": "[encoded data removed]"
          },
          "metadata": {
            "needs_background": "light"
          }
        }
      ]
    },
    {
      "cell_type": "code",
      "source": [
        "\n",
        "# Predicting the Test set results\n",
        "y_pred = model.predict(X_test)\n",
        "y_pred = (y_pred > 0.5)"
      ],
      "metadata": {
        "colab": {
          "base_uri": "https://localhost:8080/"
        },
        "id": "QKdY4RM9tH2o",
        "outputId": "f5cfad86-0f17-49db-c421-c5b810e8f657"
      },
      "execution_count": 357,
      "outputs": [
        {
          "output_type": "stream",
          "name": "stdout",
          "text": [
            "63/63 [==============================] - 0s 1ms/step\n"
          ]
        }
      ]
    },
    {
      "cell_type": "code",
      "source": [
        "# Making the Confusion Matrix\n",
        "from sklearn.metrics import confusion_matrix\n",
        "cm = confusion_matrix(y_test, y_pred)\n",
        "cm"
      ],
      "metadata": {
        "colab": {
          "base_uri": "https://localhost:8080/"
        },
        "id": "1JMy5-QCtBDj",
        "outputId": "5e6c5cdd-62a5-473a-db88-fd64fa0caeb0"
      },
      "execution_count": 358,
      "outputs": [
        {
          "output_type": "execute_result",
          "data": {
            "text/plain": [
              "array([[1547,   46],\n",
              "       [ 239,  168]])"
            ]
          },
          "metadata": {},
          "execution_count": 358
        }
      ]
    },
    {
      "cell_type": "code",
      "source": [
        "# Calculate the Accuracy\n",
        "from sklearn.metrics import accuracy_score\n",
        "score=accuracy_score(y_pred,y_test)\n",
        "score"
      ],
      "metadata": {
        "colab": {
          "base_uri": "https://localhost:8080/"
        },
        "id": "x0EQtSNztKuH",
        "outputId": "52a730d7-cefd-4538-f404-f083a0bf93af"
      },
      "execution_count": 359,
      "outputs": [
        {
          "output_type": "execute_result",
          "data": {
            "text/plain": [
              "0.8575"
            ]
          },
          "metadata": {},
          "execution_count": 359
        }
      ]
    },
    {
      "cell_type": "code",
      "source": [
        "from sklearn.metrics import confusion_matrix , classification_report\n",
        "\n",
        "print(classification_report(y_test,y_pred))"
      ],
      "metadata": {
        "colab": {
          "base_uri": "https://localhost:8080/"
        },
        "id": "WMTH1pIjtEuR",
        "outputId": "eaf8d0db-11f9-46c5-f348-d3454a509386"
      },
      "execution_count": 360,
      "outputs": [
        {
          "output_type": "stream",
          "name": "stdout",
          "text": [
            "              precision    recall  f1-score   support\n",
            "\n",
            "           0       0.87      0.97      0.92      1593\n",
            "           1       0.79      0.41      0.54       407\n",
            "\n",
            "    accuracy                           0.86      2000\n",
            "   macro avg       0.83      0.69      0.73      2000\n",
            "weighted avg       0.85      0.86      0.84      2000\n",
            "\n"
          ]
        }
      ]
    },
    {
      "cell_type": "markdown",
      "source": [
        "Note:\n",
        "- Label encoding and One-hot encoding gives almost same accuracy (from 85-86% accuracy).\n",
        "- Epochs 50-100 gives same accuracy. \n",
        "- if early stoping is used, code stops at 14 epochs. accuracy drops from 85% to 81%.\n",
        "- Standard scaler transform values in negative too. so gives unexpected results.\n"
      ],
      "metadata": {
        "id": "_QEadwxxaR8m"
      }
    },
    {
      "cell_type": "markdown",
      "source": [
        "**Acknowledgement:** \n",
        "- Motivated from:\n",
        "- https://www.kaggle.com/datasets/barelydedicated/bank-customer-churn-modeling?resource=download"
      ],
      "metadata": {
        "id": "RkCl-08h00uV"
      }
    }
  ]
}