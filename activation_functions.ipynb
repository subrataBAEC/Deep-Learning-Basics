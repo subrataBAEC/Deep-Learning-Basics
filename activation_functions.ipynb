{
 "cells": [
  {
   "cell_type": "markdown",
   "id": "1fa512ad-d408-4ac6-84c3-17db9d1612ef",
   "metadata": {},
   "source": [
    "## Three activation functions\n",
    "##### prepared by: subrata saha\n",
    "##### contents: 1. sigmoid, 2. ReLU, 3. Softmax"
   ]
  },
  {
   "cell_type": "code",
   "execution_count": 1,
   "id": "2606ddb5-4089-45aa-be00-afdb16f45f3f",
   "metadata": {},
   "outputs": [],
   "source": [
    "import numpy as np\n",
    "import matplotlib.pyplot as plt\n",
    "%matplotlib inline"
   ]
  },
  {
   "cell_type": "code",
   "execution_count": 2,
   "id": "2889d8fa-d184-4e66-a670-9233a116b7c4",
   "metadata": {},
   "outputs": [
    {
     "data": {
      "text/plain": [
       "100"
      ]
     },
     "execution_count": 2,
     "metadata": {},
     "output_type": "execute_result"
    }
   ],
   "source": [
    "random_variable=np.arange(-5,5,0.1) #array range(start,end,step)\n",
    "random_variable\n",
    "len(random_variable)"
   ]
  },
  {
   "cell_type": "markdown",
   "id": "c86e4b8d-f95e-45d8-98ad-0d17cc382f89",
   "metadata": {},
   "source": [
    "#### creat a function for visualization"
   ]
  },
  {
   "cell_type": "code",
   "execution_count": 3,
   "id": "15ef3200-e257-495d-8324-64080f34cddb",
   "metadata": {},
   "outputs": [],
   "source": [
    "def creat_vis(function,yaxis=(-1.4, 1.4)):\n",
    "    plt.ylim(yaxis)\n",
    "    plt.locator_params(nbins=5)\n",
    "    plt.xticks(fontsize=10) # font size of x and y axis values\n",
    "    plt.yticks(fontsize=10)\n",
    "    plt.axhline(lw=1, c='black') # horizontal line\n",
    "    plt.axvline(lw=1, c='black') #vertical line\n",
    "    plt.grid(alpha=0.9, ls='-.') # alpha makes grid more visible\n",
    "    plt.box(on= None) # make a boundary box\n",
    "    plt.plot(random_variable,function(random_variable),c='r',lw=3)\n",
    "    plt.show()    "
   ]
  },
  {
   "attachments": {
    "8cd1dc25-0b78-46ed-9be0-b059cfea8bbf.png": {
     "image/png": "[encoded data removed]"
    }
   },
   "cell_type": "markdown",
   "id": "639276fb-f0f2-4451-97fe-b25f143c68bc",
   "metadata": {},
   "source": [
    "### 1.sigmoid \n",
    "![image.png](attachment:8cd1dc25-0b78-46ed-9be0-b059cfea8bbf.png)"
   ]
  },
  {
   "cell_type": "code",
   "execution_count": 4,
   "id": "5b94fb8d-a782-451e-9687-6a8c176d76d1",
   "metadata": {},
   "outputs": [
    {
     "data": {
      "image/png": "[encoded data removed]",
      "text/plain": [
       "<Figure size 432x288 with 1 Axes>"
      ]
     },
     "metadata": {
      "needs_background": "light"
     },
     "output_type": "display_data"
    }
   ],
   "source": [
    "def sigmoid(dummyVariable, yaxis=(-2, 2)):\n",
    "    return 1/(1+np.exp(-dummyVariable))\n",
    "\n",
    "creat_vis(sigmoid)"
   ]
  },
  {
   "cell_type": "markdown",
   "id": "6afd8f59-ddbd-48d7-b56b-72f5dcdc8458",
   "metadata": {},
   "source": [
    "### 2. ReLU function\n",
    "##### Def: The rectified linear activation function or ReLU for short is a piecewise linear function that will output the input directly if it is positive, otherwise, it will output zero"
   ]
  },
  {
   "cell_type": "code",
   "execution_count": 5,
   "id": "ce3cd490-8e87-4147-8022-1d1636bb3259",
   "metadata": {},
   "outputs": [
    {
     "data": {
      "image/png": "[encoded data removed]",
      "text/plain": [
       "<Figure size 432x288 with 1 Axes>"
      ]
     },
     "metadata": {
      "needs_background": "light"
     },
     "output_type": "display_data"
    }
   ],
   "source": [
    "# y= random_variable when random_variable is positive number, otherwise zero\n",
    "ReLU=np.vectorize(lambda random_variable: random_variable if random_variable>0 else 0 )\n",
    "creat_vis(ReLU,yaxis=(-5,5))"
   ]
  },
  {
   "cell_type": "markdown",
   "id": "56f69e29-43e5-49b6-bd36-b61d752ae138",
   "metadata": {},
   "source": [
    "### 3. Softmax function\n",
    "##### Def: output for the Softmax function is the ratio of the exponential of the parameter and the sum of exponential parameter."
   ]
  },
  {
   "cell_type": "code",
   "execution_count": 6,
   "id": "272134b1-3890-41cc-971a-2caf94a97e70",
   "metadata": {},
   "outputs": [
    {
     "data": {
      "image/png": "[encoded data removed]",
      "text/plain": [
       "<Figure size 432x288 with 1 Axes>"
      ]
     },
     "metadata": {
      "needs_background": "light"
     },
     "output_type": "display_data"
    }
   ],
   "source": [
    "def softmax(dummy):\n",
    "    e=np.exp(dummy)\n",
    "    return e/e.sum()\n",
    "\n",
    "#softmax(random_variable)\n",
    "creat_vis(softmax)"
   ]
  },
  {
   "cell_type": "code",
   "execution_count": 7,
   "id": "03849180-2da6-429d-b75c-38f45fd11ac7",
   "metadata": {},
   "outputs": [
    {
     "name": "stdout",
     "output_type": "stream",
     "text": [
      "[0.09003057 0.66524096 0.24472847]\n"
     ]
    },
    {
     "data": {
      "text/plain": [
       "1.0"
      ]
     },
     "execution_count": 7,
     "metadata": {},
     "output_type": "execute_result"
    }
   ],
   "source": [
    "# an example\n",
    "data=[1,3,2]\n",
    "result=softmax(data)\n",
    "print(result) # probability of each class \n",
    "result.sum() # sum equals to 1"
   ]
  },
  {
   "cell_type": "markdown",
   "id": "9df5c963-30bd-4ff5-b624-2e9af8509454",
   "metadata": {},
   "source": [
    "### -- The end-- "
   ]
  },
  {
   "cell_type": "code",
   "execution_count": null,
   "id": "8fca004e-6f06-4aff-aeba-741508d3895e",
   "metadata": {},
   "outputs": [],
   "source": []
  }
 ],
 "metadata": {
  "kernelspec": {
   "display_name": "Python 3",
   "language": "python",
   "name": "python3"
  },
  "language_info": {
   "codemirror_mode": {
    "name": "ipython",
    "version": 3
   },
   "file_extension": ".py",
   "mimetype": "text/x-python",
   "name": "python",
   "nbconvert_exporter": "python",
   "pygments_lexer": "ipython3",
   "version": "3.8.8"
  },
  "toc-autonumbering": false,
  "toc-showmarkdowntxt": false,
  "toc-showtags": false
 },
 "nbformat": 4,
 "nbformat_minor": 5
}
