{
 "cells": [
  {
   "cell_type": "markdown",
   "id": "238a0869-ef7a-4e51-a77f-375dd166c5af",
   "metadata": {},
   "source": [
    "## image classification with CNN"
   ]
  },
  {
   "cell_type": "code",
   "execution_count": 1,
   "id": "f9e38221-2574-48f3-9868-8eecc82cb3e9",
   "metadata": {},
   "outputs": [],
   "source": [
    "# !pip install tk\n",
    "# !pip install pillow\n",
    "#!pip install requests\n",
    "# IO"
   ]
  },
  {
   "cell_type": "code",
   "execution_count": 2,
   "id": "4039dc66-7c4b-449a-a590-0e7cef3e656b",
   "metadata": {},
   "outputs": [],
   "source": [
    "import numpy as np\n",
    "import os\n",
    "from PIL import Image,ImageTk\n",
    "from io import BytesIO"
   ]
  },
  {
   "cell_type": "code",
   "execution_count": 3,
   "id": "c46f0530-9964-459d-aa80-6e6fed458bed",
   "metadata": {},
   "outputs": [],
   "source": [
    "# image window,popup.button related library\n",
    "import requests\n",
    "from tkinter import Tk,Label,Canvas,Entry,Button,NW"
   ]
  },
  {
   "cell_type": "code",
   "execution_count": 4,
   "id": "e7efc58e-7490-4524-9740-48f0e58e536c",
   "metadata": {},
   "outputs": [],
   "source": [
    "# NN model related library\n",
    "from keras.models import Sequential,load_model\n",
    "from keras.layers import Dense,MaxPooling2D,Flatten,Conv2D\n",
    "from keras.preprocessing.image import ImageDataGenerator,load_img,img_to_array\n",
    "#from keras.preprocessing.text -for text data\n",
    "from keras.preprocessing import image as img_utils"
   ]
  },
  {
   "cell_type": "code",
   "execution_count": 5,
   "id": "78acdbb7-8dcb-41c9-a312-68a9be42409c",
   "metadata": {},
   "outputs": [],
   "source": [
    "model=Sequential()\n",
    "#Input Layer\n",
    "model.add(Conv2D(32,(3,3),input_shape=(128,128,3),activation='relu'))\n",
    "model.add(MaxPooling2D(pool_size=(2,2)))\n",
    "\n",
    "#Hidden Layer1\n",
    "model.add(Conv2D(64,(3,3),activation='relu'))\n",
    "model.add(MaxPooling2D(pool_size=(2,2)))\n",
    "\n",
    "#Hidden Layer2\n",
    "model.add(Conv2D(128,(3,3),activation='relu'))\n",
    "model.add(MaxPooling2D(pool_size=(2,2)))\n",
    "\n",
    "#Bridge Layer\n",
    "model.add(Flatten())\n",
    "\n",
    "#Output Layer\n",
    "model.add(Dense(128,activation='relu'))\n",
    "model.add(Dense(3,activation='softmax'))"
   ]
  },
  {
   "cell_type": "markdown",
   "id": "7c6bf527-6bb8-443a-934e-f00dd482aced",
   "metadata": {},
   "source": [
    "##### 1.2D convolution layer, 32 nodes,kernel size 3*3, convert original images to 128 by 128 pixels,3 for 3 rgb channels\n",
    "##### 2. input nodes increase 32,64,128,256,512 or decrease same.\n",
    "##### 3. input shape only in input layer\n",
    "##### 4. dense layer in output layer,3 for 3 output class"
   ]
  },
  {
   "cell_type": "code",
   "execution_count": null,
   "id": "dedb66d8-a72d-4baf-8a27-335d03e9d5e2",
   "metadata": {},
   "outputs": [],
   "source": []
  }
 ],
 "metadata": {
  "kernelspec": {
   "display_name": "Python 3",
   "language": "python",
   "name": "python3"
  },
  "language_info": {
   "codemirror_mode": {
    "name": "ipython",
    "version": 3
   },
   "file_extension": ".py",
   "mimetype": "text/x-python",
   "name": "python",
   "nbconvert_exporter": "python",
   "pygments_lexer": "ipython3",
   "version": "3.8.8"
  }
 },
 "nbformat": 4,
 "nbformat_minor": 5
}
