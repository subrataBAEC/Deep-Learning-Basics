{
  "nbformat": 4,
  "nbformat_minor": 0,
  "metadata": {
    "colab": {
      "provenance": [],
      "authorship_tag": "ABX9TyNgIiurnBhg9cWxtGMed8IF",
      "include_colab_link": true
    },
    "kernelspec": {
      "name": "python3",
      "display_name": "Python 3"
    },
    "language_info": {
      "name": "python"
    },
    "gpuClass": "standard",
    "accelerator": "GPU"
  },
  "cells": [
    {
      "cell_type": "markdown",
      "metadata": {
        "id": "view-in-github",
        "colab_type": "text"
      },
      "source": [
        "<a href=\"https://colab.research.google.com/github/subrataBAEC/Deep-Learning-Basics/blob/main/telecom_customer_churn/telecom_customer_churn_cleaning.ipynb\" target=\"_parent\"><img src=\"https://colab.research.google.com/assets/colab-badge.svg\" alt=\"Open In Colab\"/></a>"
      ]
    },
    {
      "cell_type": "markdown",
      "source": [
        "# Telco Customer Churin prediction using ANN\n",
        "### 1. Data cleaning\n",
        "### 2. Prediction using ANN\n",
        "##### **Prepared By**: Subrata Saha\n",
        "##### **Email**: subratabaec@gmail.com\n",
        "##### **Time**: Feb, 2023"
      ],
      "metadata": {
        "id": "8NOobKng4_xD"
      }
    },
    {
      "cell_type": "markdown",
      "source": [
        "## Import libraries and dataset"
      ],
      "metadata": {
        "id": "9Jd5cYI6UcS4"
      }
    },
    {
      "cell_type": "code",
      "execution_count": null,
      "metadata": {
        "id": "c9848Lvi-2c4"
      },
      "outputs": [],
      "source": [
        "# !pip install tensorflow-gpu\n",
        "# !pip install tensorflow "
      ]
    },
    {
      "cell_type": "code",
      "source": [
        "import tensorflow as tf\n",
        "print(tf.__version__)"
      ],
      "metadata": {
        "colab": {
          "base_uri": "https://localhost:8080/"
        },
        "id": "FzVenAKm_UJa",
        "outputId": "625d0612-5ee0-423f-d02b-0f46392f5557"
      },
      "execution_count": null,
      "outputs": [
        {
          "output_type": "stream",
          "name": "stdout",
          "text": [
            "2.11.0\n"
          ]
        }
      ]
    },
    {
      "cell_type": "code",
      "source": [
        "import numpy as np\n",
        "import pandas as pd\n",
        "from sklearn.model_selection import train_test_split\n",
        "\n",
        "#visualization\n",
        "import matplotlib.pyplot as plt\n",
        "import seaborn as sns\n",
        "\n",
        "# scaling\n",
        "from sklearn.preprocessing import MinMaxScaler\n",
        "\n",
        "# split\n",
        "from sklearn.model_selection import train_test_split"
      ],
      "metadata": {
        "id": "rKKUnb2l_XJx"
      },
      "execution_count": null,
      "outputs": []
    },
    {
      "cell_type": "code",
      "source": [
        "# for google colab\n",
        "from google.colab import drive \n",
        "drive.mount('/content/gdrive')"
      ],
      "metadata": {
        "colab": {
          "base_uri": "https://localhost:8080/"
        },
        "id": "G_aD-8ka_Zkq",
        "outputId": "3dfecb3a-bc6a-49bf-cf94-707ba816f89b"
      },
      "execution_count": null,
      "outputs": [
        {
          "output_type": "stream",
          "name": "stdout",
          "text": [
            "Drive already mounted at /content/gdrive; to attempt to forcibly remount, call drive.mount(\"/content/gdrive\", force_remount=True).\n"
          ]
        }
      ]
    },
    {
      "cell_type": "code",
      "source": [
        "# load data\n",
        "df = pd.read_csv(\"/content/gdrive/MyDrive/Colab Notebooks/Deep_learning/practice/telco_customer_churn_cleaning_ANN/customer_churn.csv\")\n",
        "# initially taking 500 rows\n",
        "#df=df[:10] \n",
        "display(df.head(5))\n",
        "# df.head()\n",
        "print(\"shape: \",df.shape)"
      ],
      "metadata": {
        "colab": {
          "base_uri": "https://localhost:8080/",
          "height": 404
        },
        "id": "HHC2HqZV_nz4",
        "outputId": "c852ad35-a0cf-4c96-ffb4-61b5aaa81e33"
      },
      "execution_count": null,
      "outputs": [
        {
          "output_type": "display_data",
          "data": {
            "text/plain": [
              "   customerID  gender  SeniorCitizen Partner Dependents  tenure PhoneService  \\\n",
              "0  7590-VHVEG  Female              0     Yes         No       1           No   \n",
              "1  5575-GNVDE    Male              0      No         No      34          Yes   \n",
              "2  3668-QPYBK    Male              0      No         No       2          Yes   \n",
              "3  7795-CFOCW    Male              0      No         No      45           No   \n",
              "4  9237-HQITU  Female              0      No         No       2          Yes   \n",
              "\n",
              "      MultipleLines InternetService OnlineSecurity  ... DeviceProtection  \\\n",
              "0  No phone service             DSL             No  ...               No   \n",
              "1                No             DSL            Yes  ...              Yes   \n",
              "2                No             DSL            Yes  ...               No   \n",
              "3  No phone service             DSL            Yes  ...              Yes   \n",
              "4                No     Fiber optic             No  ...               No   \n",
              "\n",
              "  TechSupport StreamingTV StreamingMovies        Contract PaperlessBilling  \\\n",
              "0          No          No              No  Month-to-month              Yes   \n",
              "1          No          No              No        One year               No   \n",
              "2          No          No              No  Month-to-month              Yes   \n",
              "3         Yes          No              No        One year               No   \n",
              "4          No          No              No  Month-to-month              Yes   \n",
              "\n",
              "               PaymentMethod MonthlyCharges  TotalCharges Churn  \n",
              "0           Electronic check          29.85         29.85    No  \n",
              "1               Mailed check          56.95        1889.5    No  \n",
              "2               Mailed check          53.85        108.15   Yes  \n",
              "3  Bank transfer (automatic)          42.30       1840.75    No  \n",
              "4           Electronic check          70.70        151.65   Yes  \n",
              "\n",
              "[5 rows x 21 columns]"
            ],
            "text/html": [
              "\n",
              "  <div id=\"df-71036d46-774a-4a84-a027-d2190de2fc11\">\n",
              "    <div class=\"colab-df-container\">\n",
              "      <div>\n",
              "<style scoped>\n",
              "    .dataframe tbody tr th:only-of-type {\n",
              "        vertical-align: middle;\n",
              "    }\n",
              "\n",
              "    .dataframe tbody tr th {\n",
              "        vertical-align: top;\n",
              "    }\n",
              "\n",
              "    .dataframe thead th {\n",
              "        text-align: right;\n",
              "    }\n",
              "</style>\n",
              "<table border=\"1\" class=\"dataframe\">\n",
              "  <thead>\n",
              "    <tr style=\"text-align: right;\">\n",
              "      <th></th>\n",
              "      <th>customerID</th>\n",
              "      <th>gender</th>\n",
              "      <th>SeniorCitizen</th>\n",
              "      <th>Partner</th>\n",
              "      <th>Dependents</th>\n",
              "      <th>tenure</th>\n",
              "      <th>PhoneService</th>\n",
              "      <th>MultipleLines</th>\n",
              "      <th>InternetService</th>\n",
              "      <th>OnlineSecurity</th>\n",
              "      <th>...</th>\n",
              "      <th>DeviceProtection</th>\n",
              "      <th>TechSupport</th>\n",
              "      <th>StreamingTV</th>\n",
              "      <th>StreamingMovies</th>\n",
              "      <th>Contract</th>\n",
              "      <th>PaperlessBilling</th>\n",
              "      <th>PaymentMethod</th>\n",
              "      <th>MonthlyCharges</th>\n",
              "      <th>TotalCharges</th>\n",
              "      <th>Churn</th>\n",
              "    </tr>\n",
              "  </thead>\n",
              "  <tbody>\n",
              "    <tr>\n",
              "      <th>0</th>\n",
              "      <td>7590-VHVEG</td>\n",
              "      <td>Female</td>\n",
              "      <td>0</td>\n",
              "      <td>Yes</td>\n",
              "      <td>No</td>\n",
              "      <td>1</td>\n",
              "      <td>No</td>\n",
              "      <td>No phone service</td>\n",
              "      <td>DSL</td>\n",
              "      <td>No</td>\n",
              "      <td>...</td>\n",
              "      <td>No</td>\n",
              "      <td>No</td>\n",
              "      <td>No</td>\n",
              "      <td>No</td>\n",
              "      <td>Month-to-month</td>\n",
              "      <td>Yes</td>\n",
              "      <td>Electronic check</td>\n",
              "      <td>29.85</td>\n",
              "      <td>29.85</td>\n",
              "      <td>No</td>\n",
              "    </tr>\n",
              "    <tr>\n",
              "      <th>1</th>\n",
              "      <td>5575-GNVDE</td>\n",
              "      <td>Male</td>\n",
              "      <td>0</td>\n",
              "      <td>No</td>\n",
              "      <td>No</td>\n",
              "      <td>34</td>\n",
              "      <td>Yes</td>\n",
              "      <td>No</td>\n",
              "      <td>DSL</td>\n",
              "      <td>Yes</td>\n",
              "      <td>...</td>\n",
              "      <td>Yes</td>\n",
              "      <td>No</td>\n",
              "      <td>No</td>\n",
              "      <td>No</td>\n",
              "      <td>One year</td>\n",
              "      <td>No</td>\n",
              "      <td>Mailed check</td>\n",
              "      <td>56.95</td>\n",
              "      <td>1889.5</td>\n",
              "      <td>No</td>\n",
              "    </tr>\n",
              "    <tr>\n",
              "      <th>2</th>\n",
              "      <td>3668-QPYBK</td>\n",
              "      <td>Male</td>\n",
              "      <td>0</td>\n",
              "      <td>No</td>\n",
              "      <td>No</td>\n",
              "      <td>2</td>\n",
              "      <td>Yes</td>\n",
              "      <td>No</td>\n",
              "      <td>DSL</td>\n",
              "      <td>Yes</td>\n",
              "      <td>...</td>\n",
              "      <td>No</td>\n",
              "      <td>No</td>\n",
              "      <td>No</td>\n",
              "      <td>No</td>\n",
              "      <td>Month-to-month</td>\n",
              "      <td>Yes</td>\n",
              "      <td>Mailed check</td>\n",
              "      <td>53.85</td>\n",
              "      <td>108.15</td>\n",
              "      <td>Yes</td>\n",
              "    </tr>\n",
              "    <tr>\n",
              "      <th>3</th>\n",
              "      <td>7795-CFOCW</td>\n",
              "      <td>Male</td>\n",
              "      <td>0</td>\n",
              "      <td>No</td>\n",
              "      <td>No</td>\n",
              "      <td>45</td>\n",
              "      <td>No</td>\n",
              "      <td>No phone service</td>\n",
              "      <td>DSL</td>\n",
              "      <td>Yes</td>\n",
              "      <td>...</td>\n",
              "      <td>Yes</td>\n",
              "      <td>Yes</td>\n",
              "      <td>No</td>\n",
              "      <td>No</td>\n",
              "      <td>One year</td>\n",
              "      <td>No</td>\n",
              "      <td>Bank transfer (automatic)</td>\n",
              "      <td>42.30</td>\n",
              "      <td>1840.75</td>\n",
              "      <td>No</td>\n",
              "    </tr>\n",
              "    <tr>\n",
              "      <th>4</th>\n",
              "      <td>9237-HQITU</td>\n",
              "      <td>Female</td>\n",
              "      <td>0</td>\n",
              "      <td>No</td>\n",
              "      <td>No</td>\n",
              "      <td>2</td>\n",
              "      <td>Yes</td>\n",
              "      <td>No</td>\n",
              "      <td>Fiber optic</td>\n",
              "      <td>No</td>\n",
              "      <td>...</td>\n",
              "      <td>No</td>\n",
              "      <td>No</td>\n",
              "      <td>No</td>\n",
              "      <td>No</td>\n",
              "      <td>Month-to-month</td>\n",
              "      <td>Yes</td>\n",
              "      <td>Electronic check</td>\n",
              "      <td>70.70</td>\n",
              "      <td>151.65</td>\n",
              "      <td>Yes</td>\n",
              "    </tr>\n",
              "  </tbody>\n",
              "</table>\n",
              "<p>5 rows × 21 columns</p>\n",
              "</div>\n",
              "      <button class=\"colab-df-convert\" onclick=\"convertToInteractive('df-71036d46-774a-4a84-a027-d2190de2fc11')\"\n",
              "              title=\"Convert this dataframe to an interactive table.\"\n",
              "              style=\"display:none;\">\n",
              "        \n",
              "  <svg xmlns=\"http://www.w3.org/2000/svg\" height=\"24px\"viewBox=\"0 0 24 24\"\n",
              "       width=\"24px\">\n",
              "    <path d=\"M0 0h24v24H0V0z\" fill=\"none\"/>\n",
              "    <path d=\"M18.56 5.44l.94 2.06.94-2.06 2.06-.94-2.06-.94-.94-2.06-.94 2.06-2.06.94zm-11 1L8.5 8.5l.94-2.06 2.06-.94-2.06-.94L8.5 2.5l-.94 2.06-2.06.94zm10 10l.94 2.06.94-2.06 2.06-.94-2.06-.94-.94-2.06-.94 2.06-2.06.94z\"/><path d=\"M17.41 7.96l-1.37-1.37c-.4-.4-.92-.59-1.43-.59-.52 0-1.04.2-1.43.59L10.3 9.45l-7.72 7.72c-.78.78-.78 2.05 0 2.83L4 21.41c.39.39.9.59 1.41.59.51 0 1.02-.2 1.41-.59l7.78-7.78 2.81-2.81c.8-.78.8-2.07 0-2.86zM5.41 20L4 18.59l7.72-7.72 1.47 1.35L5.41 20z\"/>\n",
              "  </svg>\n",
              "      </button>\n",
              "      \n",
              "  <style>\n",
              "    .colab-df-container {\n",
              "      display:flex;\n",
              "      flex-wrap:wrap;\n",
              "      gap: 12px;\n",
              "    }\n",
              "\n",
              "    .colab-df-convert {\n",
              "      background-color: #E8F0FE;\n",
              "      border: none;\n",
              "      border-radius: 50%;\n",
              "      cursor: pointer;\n",
              "      display: none;\n",
              "      fill: #1967D2;\n",
              "      height: 32px;\n",
              "      padding: 0 0 0 0;\n",
              "      width: 32px;\n",
              "    }\n",
              "\n",
              "    .colab-df-convert:hover {\n",
              "      background-color: #E2EBFA;\n",
              "      box-shadow: 0px 1px 2px rgba(60, 64, 67, 0.3), 0px 1px 3px 1px rgba(60, 64, 67, 0.15);\n",
              "      fill: #174EA6;\n",
              "    }\n",
              "\n",
              "    [theme=dark] .colab-df-convert {\n",
              "      background-color: #3B4455;\n",
              "      fill: #D2E3FC;\n",
              "    }\n",
              "\n",
              "    [theme=dark] .colab-df-convert:hover {\n",
              "      background-color: #434B5C;\n",
              "      box-shadow: 0px 1px 3px 1px rgba(0, 0, 0, 0.15);\n",
              "      filter: drop-shadow(0px 1px 2px rgba(0, 0, 0, 0.3));\n",
              "      fill: #FFFFFF;\n",
              "    }\n",
              "  </style>\n",
              "\n",
              "      <script>\n",
              "        const buttonEl =\n",
              "          document.querySelector('#df-71036d46-774a-4a84-a027-d2190de2fc11 button.colab-df-convert');\n",
              "        buttonEl.style.display =\n",
              "          google.colab.kernel.accessAllowed ? 'block' : 'none';\n",
              "\n",
              "        async function convertToInteractive(key) {\n",
              "          const element = document.querySelector('#df-71036d46-774a-4a84-a027-d2190de2fc11');\n",
              "          const dataTable =\n",
              "            await google.colab.kernel.invokeFunction('convertToInteractive',\n",
              "                                                     [key], {});\n",
              "          if (!dataTable) return;\n",
              "\n",
              "          const docLinkHtml = 'Like what you see? Visit the ' +\n",
              "            '<a target=\"_blank\" href=https://colab.research.google.com/notebooks/data_table.ipynb>data table notebook</a>'\n",
              "            + ' to learn more about interactive tables.';\n",
              "          element.innerHTML = '';\n",
              "          dataTable['output_type'] = 'display_data';\n",
              "          await google.colab.output.renderOutput(dataTable, element);\n",
              "          const docLink = document.createElement('div');\n",
              "          docLink.innerHTML = docLinkHtml;\n",
              "          element.appendChild(docLink);\n",
              "        }\n",
              "      </script>\n",
              "    </div>\n",
              "  </div>\n",
              "  "
            ]
          },
          "metadata": {}
        },
        {
          "output_type": "stream",
          "name": "stdout",
          "text": [
            "shape:  (7043, 21)\n"
          ]
        }
      ]
    },
    {
      "cell_type": "markdown",
      "source": [
        "## Data Cleaning and Feature Engineering"
      ],
      "metadata": {
        "id": "RVsf19zMUsdA"
      }
    },
    {
      "cell_type": "markdown",
      "source": [
        "**Note:**\n",
        "Drop unnecessary columns. \"customerID\" and check for duplicate rows."
      ],
      "metadata": {
        "id": "6lsao6R8AeMC"
      }
    },
    {
      "cell_type": "code",
      "source": [
        "# drop customer id\n",
        "df.drop('customerID',axis=1,inplace=True)\n",
        "df.info()"
      ],
      "metadata": {
        "colab": {
          "base_uri": "https://localhost:8080/"
        },
        "id": "8VyUmtTTAt6O",
        "outputId": "4b597845-0c68-430b-b05b-720b05df912a"
      },
      "execution_count": null,
      "outputs": [
        {
          "output_type": "stream",
          "name": "stdout",
          "text": [
            "<class 'pandas.core.frame.DataFrame'>\n",
            "RangeIndex: 7043 entries, 0 to 7042\n",
            "Data columns (total 20 columns):\n",
            " #   Column            Non-Null Count  Dtype  \n",
            "---  ------            --------------  -----  \n",
            " 0   gender            7043 non-null   object \n",
            " 1   SeniorCitizen     7043 non-null   int64  \n",
            " 2   Partner           7043 non-null   object \n",
            " 3   Dependents        7043 non-null   object \n",
            " 4   tenure            7043 non-null   int64  \n",
            " 5   PhoneService      7043 non-null   object \n",
            " 6   MultipleLines     7043 non-null   object \n",
            " 7   InternetService   7043 non-null   object \n",
            " 8   OnlineSecurity    7043 non-null   object \n",
            " 9   OnlineBackup      7043 non-null   object \n",
            " 10  DeviceProtection  7043 non-null   object \n",
            " 11  TechSupport       7043 non-null   object \n",
            " 12  StreamingTV       7043 non-null   object \n",
            " 13  StreamingMovies   7043 non-null   object \n",
            " 14  Contract          7043 non-null   object \n",
            " 15  PaperlessBilling  7043 non-null   object \n",
            " 16  PaymentMethod     7043 non-null   object \n",
            " 17  MonthlyCharges    7043 non-null   float64\n",
            " 18  TotalCharges      7043 non-null   object \n",
            " 19  Churn             7043 non-null   object \n",
            "dtypes: float64(1), int64(2), object(17)\n",
            "memory usage: 1.1+ MB\n"
          ]
        }
      ]
    },
    {
      "cell_type": "code",
      "source": [
        "# check duplicate records/rows\n",
        "bool_series = df.duplicated(keep='first')\n",
        "print('Boolean series:')\n",
        "print(bool_series)"
      ],
      "metadata": {
        "colab": {
          "base_uri": "https://localhost:8080/"
        },
        "id": "ZsfM7dbGCz6D",
        "outputId": "f45b0010-f768-421a-e4f1-4d9d7cc2b712"
      },
      "execution_count": null,
      "outputs": [
        {
          "output_type": "stream",
          "name": "stdout",
          "text": [
            "Boolean series:\n",
            "0       False\n",
            "1       False\n",
            "2       False\n",
            "3       False\n",
            "4       False\n",
            "        ...  \n",
            "7038    False\n",
            "7039    False\n",
            "7040    False\n",
            "7041    False\n",
            "7042    False\n",
            "Length: 7043, dtype: bool\n"
          ]
        }
      ]
    },
    {
      "cell_type": "markdown",
      "source": [
        "***Note:***\n",
        "It seems no NULL and duplicate values. find unique values of all column."
      ],
      "metadata": {
        "id": "TKEWZejqBJUe"
      }
    },
    {
      "cell_type": "code",
      "source": [
        "# function to find unique\n",
        "def find_unique(df):\n",
        "  for col in df:\n",
        "    print(f\"{col}: {df[col].unique()}\")\n",
        "find_unique(df)"
      ],
      "metadata": {
        "colab": {
          "base_uri": "https://localhost:8080/"
        },
        "id": "q9IJ-DRHBCli",
        "outputId": "575b2dc6-9573-4307-e0c6-5b902eaa8b54"
      },
      "execution_count": null,
      "outputs": [
        {
          "output_type": "stream",
          "name": "stdout",
          "text": [
            "gender: ['Female' 'Male']\n",
            "SeniorCitizen: [0 1]\n",
            "Partner: ['Yes' 'No']\n",
            "Dependents: ['No' 'Yes']\n",
            "tenure: [ 1 34  2 45  8 22 10 28 62 13 16 58 49 25 69 52 71 21 12 30 47 72 17 27\n",
            "  5 46 11 70 63 43 15 60 18 66  9  3 31 50 64 56  7 42 35 48 29 65 38 68\n",
            " 32 55 37 36 41  6  4 33 67 23 57 61 14 20 53 40 59 24 44 19 54 51 26  0\n",
            " 39]\n",
            "PhoneService: ['No' 'Yes']\n",
            "MultipleLines: ['No phone service' 'No' 'Yes']\n",
            "InternetService: ['DSL' 'Fiber optic' 'No']\n",
            "OnlineSecurity: ['No' 'Yes' 'No internet service']\n",
            "OnlineBackup: ['Yes' 'No' 'No internet service']\n",
            "DeviceProtection: ['No' 'Yes' 'No internet service']\n",
            "TechSupport: ['No' 'Yes' 'No internet service']\n",
            "StreamingTV: ['No' 'Yes' 'No internet service']\n",
            "StreamingMovies: ['No' 'Yes' 'No internet service']\n",
            "Contract: ['Month-to-month' 'One year' 'Two year']\n",
            "PaperlessBilling: ['Yes' 'No']\n",
            "PaymentMethod: ['Electronic check' 'Mailed check' 'Bank transfer (automatic)'\n",
            " 'Credit card (automatic)']\n",
            "MonthlyCharges: [29.85 56.95 53.85 ... 63.1  44.2  78.7 ]\n",
            "TotalCharges: ['29.85' '1889.5' '108.15' ... '346.45' '306.6' '6844.5']\n",
            "Churn: ['No' 'Yes']\n"
          ]
        }
      ]
    },
    {
      "cell_type": "markdown",
      "source": [
        "**Note:**\n",
        "It seems \"TotalCharges\" values are in string format shoud be in float or int. also may contain BLANK. need to convert in numeric."
      ],
      "metadata": {
        "id": "l_wM-iSHCrjd"
      }
    },
    {
      "cell_type": "code",
      "source": [
        "# convert to numeric\n",
        "# pd.to_numeric(df.TotalCharges) # Gives error"
      ],
      "metadata": {
        "id": "6e59irrHEtAn"
      },
      "execution_count": null,
      "outputs": []
    },
    {
      "cell_type": "markdown",
      "source": [
        "**Note:**\n",
        "It seems \"TotalCharges\" contains BLANK. need to deal with them first."
      ],
      "metadata": {
        "id": "TgP3y-bEFDZJ"
      }
    },
    {
      "cell_type": "code",
      "source": [
        "# check blank value in \"TotalCharges\" column\n",
        "# pd.to_numeric(df.TotalCharges,errors='coerce').isnull()\n",
        "\n",
        "# show blank value in \"TotalCharges\" column in the dataframe\n",
        "display(df[pd.to_numeric(df.TotalCharges,errors='coerce').isnull()])\n",
        "\n",
        "# count blank values\n",
        "print(\"total rows contaning blank: \", df['TotalCharges'].value_counts()[\" \"])"
      ],
      "metadata": {
        "colab": {
          "base_uri": "https://localhost:8080/",
          "height": 632
        },
        "id": "MKLVjqH-FM8a",
        "outputId": "b7e2a3bc-6cb5-4bac-e56c-1ad5efb5a42d"
      },
      "execution_count": null,
      "outputs": [
        {
          "output_type": "display_data",
          "data": {
            "text/plain": [
              "      gender  SeniorCitizen Partner Dependents  tenure PhoneService  \\\n",
              "488   Female              0     Yes        Yes       0           No   \n",
              "753     Male              0      No        Yes       0          Yes   \n",
              "936   Female              0     Yes        Yes       0          Yes   \n",
              "1082    Male              0     Yes        Yes       0          Yes   \n",
              "1340  Female              0     Yes        Yes       0           No   \n",
              "3331    Male              0     Yes        Yes       0          Yes   \n",
              "3826    Male              0     Yes        Yes       0          Yes   \n",
              "4380  Female              0     Yes        Yes       0          Yes   \n",
              "5218    Male              0     Yes        Yes       0          Yes   \n",
              "6670  Female              0     Yes        Yes       0          Yes   \n",
              "6754    Male              0      No        Yes       0          Yes   \n",
              "\n",
              "         MultipleLines InternetService       OnlineSecurity  \\\n",
              "488   No phone service             DSL                  Yes   \n",
              "753                 No              No  No internet service   \n",
              "936                 No             DSL                  Yes   \n",
              "1082               Yes              No  No internet service   \n",
              "1340  No phone service             DSL                  Yes   \n",
              "3331                No              No  No internet service   \n",
              "3826               Yes              No  No internet service   \n",
              "4380                No              No  No internet service   \n",
              "5218                No              No  No internet service   \n",
              "6670               Yes             DSL                   No   \n",
              "6754               Yes             DSL                  Yes   \n",
              "\n",
              "             OnlineBackup     DeviceProtection          TechSupport  \\\n",
              "488                    No                  Yes                  Yes   \n",
              "753   No internet service  No internet service  No internet service   \n",
              "936                   Yes                  Yes                   No   \n",
              "1082  No internet service  No internet service  No internet service   \n",
              "1340                  Yes                  Yes                  Yes   \n",
              "3331  No internet service  No internet service  No internet service   \n",
              "3826  No internet service  No internet service  No internet service   \n",
              "4380  No internet service  No internet service  No internet service   \n",
              "5218  No internet service  No internet service  No internet service   \n",
              "6670                  Yes                  Yes                  Yes   \n",
              "6754                  Yes                   No                  Yes   \n",
              "\n",
              "              StreamingTV      StreamingMovies  Contract PaperlessBilling  \\\n",
              "488                   Yes                   No  Two year              Yes   \n",
              "753   No internet service  No internet service  Two year               No   \n",
              "936                   Yes                  Yes  Two year               No   \n",
              "1082  No internet service  No internet service  Two year               No   \n",
              "1340                  Yes                   No  Two year               No   \n",
              "3331  No internet service  No internet service  Two year               No   \n",
              "3826  No internet service  No internet service  Two year               No   \n",
              "4380  No internet service  No internet service  Two year               No   \n",
              "5218  No internet service  No internet service  One year              Yes   \n",
              "6670                  Yes                   No  Two year               No   \n",
              "6754                   No                   No  Two year              Yes   \n",
              "\n",
              "                  PaymentMethod  MonthlyCharges TotalCharges Churn  \n",
              "488   Bank transfer (automatic)           52.55                 No  \n",
              "753                Mailed check           20.25                 No  \n",
              "936                Mailed check           80.85                 No  \n",
              "1082               Mailed check           25.75                 No  \n",
              "1340    Credit card (automatic)           56.05                 No  \n",
              "3331               Mailed check           19.85                 No  \n",
              "3826               Mailed check           25.35                 No  \n",
              "4380               Mailed check           20.00                 No  \n",
              "5218               Mailed check           19.70                 No  \n",
              "6670               Mailed check           73.35                 No  \n",
              "6754  Bank transfer (automatic)           61.90                 No  "
            ],
            "text/html": [
              "\n",
              "  <div id=\"df-8a13f893-e9da-436a-bf83-d1ce06d7e3ff\">\n",
              "    <div class=\"colab-df-container\">\n",
              "      <div>\n",
              "<style scoped>\n",
              "    .dataframe tbody tr th:only-of-type {\n",
              "        vertical-align: middle;\n",
              "    }\n",
              "\n",
              "    .dataframe tbody tr th {\n",
              "        vertical-align: top;\n",
              "    }\n",
              "\n",
              "    .dataframe thead th {\n",
              "        text-align: right;\n",
              "    }\n",
              "</style>\n",
              "<table border=\"1\" class=\"dataframe\">\n",
              "  <thead>\n",
              "    <tr style=\"text-align: right;\">\n",
              "      <th></th>\n",
              "      <th>gender</th>\n",
              "      <th>SeniorCitizen</th>\n",
              "      <th>Partner</th>\n",
              "      <th>Dependents</th>\n",
              "      <th>tenure</th>\n",
              "      <th>PhoneService</th>\n",
              "      <th>MultipleLines</th>\n",
              "      <th>InternetService</th>\n",
              "      <th>OnlineSecurity</th>\n",
              "      <th>OnlineBackup</th>\n",
              "      <th>DeviceProtection</th>\n",
              "      <th>TechSupport</th>\n",
              "      <th>StreamingTV</th>\n",
              "      <th>StreamingMovies</th>\n",
              "      <th>Contract</th>\n",
              "      <th>PaperlessBilling</th>\n",
              "      <th>PaymentMethod</th>\n",
              "      <th>MonthlyCharges</th>\n",
              "      <th>TotalCharges</th>\n",
              "      <th>Churn</th>\n",
              "    </tr>\n",
              "  </thead>\n",
              "  <tbody>\n",
              "    <tr>\n",
              "      <th>488</th>\n",
              "      <td>Female</td>\n",
              "      <td>0</td>\n",
              "      <td>Yes</td>\n",
              "      <td>Yes</td>\n",
              "      <td>0</td>\n",
              "      <td>No</td>\n",
              "      <td>No phone service</td>\n",
              "      <td>DSL</td>\n",
              "      <td>Yes</td>\n",
              "      <td>No</td>\n",
              "      <td>Yes</td>\n",
              "      <td>Yes</td>\n",
              "      <td>Yes</td>\n",
              "      <td>No</td>\n",
              "      <td>Two year</td>\n",
              "      <td>Yes</td>\n",
              "      <td>Bank transfer (automatic)</td>\n",
              "      <td>52.55</td>\n",
              "      <td></td>\n",
              "      <td>No</td>\n",
              "    </tr>\n",
              "    <tr>\n",
              "      <th>753</th>\n",
              "      <td>Male</td>\n",
              "      <td>0</td>\n",
              "      <td>No</td>\n",
              "      <td>Yes</td>\n",
              "      <td>0</td>\n",
              "      <td>Yes</td>\n",
              "      <td>No</td>\n",
              "      <td>No</td>\n",
              "      <td>No internet service</td>\n",
              "      <td>No internet service</td>\n",
              "      <td>No internet service</td>\n",
              "      <td>No internet service</td>\n",
              "      <td>No internet service</td>\n",
              "      <td>No internet service</td>\n",
              "      <td>Two year</td>\n",
              "      <td>No</td>\n",
              "      <td>Mailed check</td>\n",
              "      <td>20.25</td>\n",
              "      <td></td>\n",
              "      <td>No</td>\n",
              "    </tr>\n",
              "    <tr>\n",
              "      <th>936</th>\n",
              "      <td>Female</td>\n",
              "      <td>0</td>\n",
              "      <td>Yes</td>\n",
              "      <td>Yes</td>\n",
              "      <td>0</td>\n",
              "      <td>Yes</td>\n",
              "      <td>No</td>\n",
              "      <td>DSL</td>\n",
              "      <td>Yes</td>\n",
              "      <td>Yes</td>\n",
              "      <td>Yes</td>\n",
              "      <td>No</td>\n",
              "      <td>Yes</td>\n",
              "      <td>Yes</td>\n",
              "      <td>Two year</td>\n",
              "      <td>No</td>\n",
              "      <td>Mailed check</td>\n",
              "      <td>80.85</td>\n",
              "      <td></td>\n",
              "      <td>No</td>\n",
              "    </tr>\n",
              "    <tr>\n",
              "      <th>1082</th>\n",
              "      <td>Male</td>\n",
              "      <td>0</td>\n",
              "      <td>Yes</td>\n",
              "      <td>Yes</td>\n",
              "      <td>0</td>\n",
              "      <td>Yes</td>\n",
              "      <td>Yes</td>\n",
              "      <td>No</td>\n",
              "      <td>No internet service</td>\n",
              "      <td>No internet service</td>\n",
              "      <td>No internet service</td>\n",
              "      <td>No internet service</td>\n",
              "      <td>No internet service</td>\n",
              "      <td>No internet service</td>\n",
              "      <td>Two year</td>\n",
              "      <td>No</td>\n",
              "      <td>Mailed check</td>\n",
              "      <td>25.75</td>\n",
              "      <td></td>\n",
              "      <td>No</td>\n",
              "    </tr>\n",
              "    <tr>\n",
              "      <th>1340</th>\n",
              "      <td>Female</td>\n",
              "      <td>0</td>\n",
              "      <td>Yes</td>\n",
              "      <td>Yes</td>\n",
              "      <td>0</td>\n",
              "      <td>No</td>\n",
              "      <td>No phone service</td>\n",
              "      <td>DSL</td>\n",
              "      <td>Yes</td>\n",
              "      <td>Yes</td>\n",
              "      <td>Yes</td>\n",
              "      <td>Yes</td>\n",
              "      <td>Yes</td>\n",
              "      <td>No</td>\n",
              "      <td>Two year</td>\n",
              "      <td>No</td>\n",
              "      <td>Credit card (automatic)</td>\n",
              "      <td>56.05</td>\n",
              "      <td></td>\n",
              "      <td>No</td>\n",
              "    </tr>\n",
              "    <tr>\n",
              "      <th>3331</th>\n",
              "      <td>Male</td>\n",
              "      <td>0</td>\n",
              "      <td>Yes</td>\n",
              "      <td>Yes</td>\n",
              "      <td>0</td>\n",
              "      <td>Yes</td>\n",
              "      <td>No</td>\n",
              "      <td>No</td>\n",
              "      <td>No internet service</td>\n",
              "      <td>No internet service</td>\n",
              "      <td>No internet service</td>\n",
              "      <td>No internet service</td>\n",
              "      <td>No internet service</td>\n",
              "      <td>No internet service</td>\n",
              "      <td>Two year</td>\n",
              "      <td>No</td>\n",
              "      <td>Mailed check</td>\n",
              "      <td>19.85</td>\n",
              "      <td></td>\n",
              "      <td>No</td>\n",
              "    </tr>\n",
              "    <tr>\n",
              "      <th>3826</th>\n",
              "      <td>Male</td>\n",
              "      <td>0</td>\n",
              "      <td>Yes</td>\n",
              "      <td>Yes</td>\n",
              "      <td>0</td>\n",
              "      <td>Yes</td>\n",
              "      <td>Yes</td>\n",
              "      <td>No</td>\n",
              "      <td>No internet service</td>\n",
              "      <td>No internet service</td>\n",
              "      <td>No internet service</td>\n",
              "      <td>No internet service</td>\n",
              "      <td>No internet service</td>\n",
              "      <td>No internet service</td>\n",
              "      <td>Two year</td>\n",
              "      <td>No</td>\n",
              "      <td>Mailed check</td>\n",
              "      <td>25.35</td>\n",
              "      <td></td>\n",
              "      <td>No</td>\n",
              "    </tr>\n",
              "    <tr>\n",
              "      <th>4380</th>\n",
              "      <td>Female</td>\n",
              "      <td>0</td>\n",
              "      <td>Yes</td>\n",
              "      <td>Yes</td>\n",
              "      <td>0</td>\n",
              "      <td>Yes</td>\n",
              "      <td>No</td>\n",
              "      <td>No</td>\n",
              "      <td>No internet service</td>\n",
              "      <td>No internet service</td>\n",
              "      <td>No internet service</td>\n",
              "      <td>No internet service</td>\n",
              "      <td>No internet service</td>\n",
              "      <td>No internet service</td>\n",
              "      <td>Two year</td>\n",
              "      <td>No</td>\n",
              "      <td>Mailed check</td>\n",
              "      <td>20.00</td>\n",
              "      <td></td>\n",
              "      <td>No</td>\n",
              "    </tr>\n",
              "    <tr>\n",
              "      <th>5218</th>\n",
              "      <td>Male</td>\n",
              "      <td>0</td>\n",
              "      <td>Yes</td>\n",
              "      <td>Yes</td>\n",
              "      <td>0</td>\n",
              "      <td>Yes</td>\n",
              "      <td>No</td>\n",
              "      <td>No</td>\n",
              "      <td>No internet service</td>\n",
              "      <td>No internet service</td>\n",
              "      <td>No internet service</td>\n",
              "      <td>No internet service</td>\n",
              "      <td>No internet service</td>\n",
              "      <td>No internet service</td>\n",
              "      <td>One year</td>\n",
              "      <td>Yes</td>\n",
              "      <td>Mailed check</td>\n",
              "      <td>19.70</td>\n",
              "      <td></td>\n",
              "      <td>No</td>\n",
              "    </tr>\n",
              "    <tr>\n",
              "      <th>6670</th>\n",
              "      <td>Female</td>\n",
              "      <td>0</td>\n",
              "      <td>Yes</td>\n",
              "      <td>Yes</td>\n",
              "      <td>0</td>\n",
              "      <td>Yes</td>\n",
              "      <td>Yes</td>\n",
              "      <td>DSL</td>\n",
              "      <td>No</td>\n",
              "      <td>Yes</td>\n",
              "      <td>Yes</td>\n",
              "      <td>Yes</td>\n",
              "      <td>Yes</td>\n",
              "      <td>No</td>\n",
              "      <td>Two year</td>\n",
              "      <td>No</td>\n",
              "      <td>Mailed check</td>\n",
              "      <td>73.35</td>\n",
              "      <td></td>\n",
              "      <td>No</td>\n",
              "    </tr>\n",
              "    <tr>\n",
              "      <th>6754</th>\n",
              "      <td>Male</td>\n",
              "      <td>0</td>\n",
              "      <td>No</td>\n",
              "      <td>Yes</td>\n",
              "      <td>0</td>\n",
              "      <td>Yes</td>\n",
              "      <td>Yes</td>\n",
              "      <td>DSL</td>\n",
              "      <td>Yes</td>\n",
              "      <td>Yes</td>\n",
              "      <td>No</td>\n",
              "      <td>Yes</td>\n",
              "      <td>No</td>\n",
              "      <td>No</td>\n",
              "      <td>Two year</td>\n",
              "      <td>Yes</td>\n",
              "      <td>Bank transfer (automatic)</td>\n",
              "      <td>61.90</td>\n",
              "      <td></td>\n",
              "      <td>No</td>\n",
              "    </tr>\n",
              "  </tbody>\n",
              "</table>\n",
              "</div>\n",
              "      <button class=\"colab-df-convert\" onclick=\"convertToInteractive('df-8a13f893-e9da-436a-bf83-d1ce06d7e3ff')\"\n",
              "              title=\"Convert this dataframe to an interactive table.\"\n",
              "              style=\"display:none;\">\n",
              "        \n",
              "  <svg xmlns=\"http://www.w3.org/2000/svg\" height=\"24px\"viewBox=\"0 0 24 24\"\n",
              "       width=\"24px\">\n",
              "    <path d=\"M0 0h24v24H0V0z\" fill=\"none\"/>\n",
              "    <path d=\"M18.56 5.44l.94 2.06.94-2.06 2.06-.94-2.06-.94-.94-2.06-.94 2.06-2.06.94zm-11 1L8.5 8.5l.94-2.06 2.06-.94-2.06-.94L8.5 2.5l-.94 2.06-2.06.94zm10 10l.94 2.06.94-2.06 2.06-.94-2.06-.94-.94-2.06-.94 2.06-2.06.94z\"/><path d=\"M17.41 7.96l-1.37-1.37c-.4-.4-.92-.59-1.43-.59-.52 0-1.04.2-1.43.59L10.3 9.45l-7.72 7.72c-.78.78-.78 2.05 0 2.83L4 21.41c.39.39.9.59 1.41.59.51 0 1.02-.2 1.41-.59l7.78-7.78 2.81-2.81c.8-.78.8-2.07 0-2.86zM5.41 20L4 18.59l7.72-7.72 1.47 1.35L5.41 20z\"/>\n",
              "  </svg>\n",
              "      </button>\n",
              "      \n",
              "  <style>\n",
              "    .colab-df-container {\n",
              "      display:flex;\n",
              "      flex-wrap:wrap;\n",
              "      gap: 12px;\n",
              "    }\n",
              "\n",
              "    .colab-df-convert {\n",
              "      background-color: #E8F0FE;\n",
              "      border: none;\n",
              "      border-radius: 50%;\n",
              "      cursor: pointer;\n",
              "      display: none;\n",
              "      fill: #1967D2;\n",
              "      height: 32px;\n",
              "      padding: 0 0 0 0;\n",
              "      width: 32px;\n",
              "    }\n",
              "\n",
              "    .colab-df-convert:hover {\n",
              "      background-color: #E2EBFA;\n",
              "      box-shadow: 0px 1px 2px rgba(60, 64, 67, 0.3), 0px 1px 3px 1px rgba(60, 64, 67, 0.15);\n",
              "      fill: #174EA6;\n",
              "    }\n",
              "\n",
              "    [theme=dark] .colab-df-convert {\n",
              "      background-color: #3B4455;\n",
              "      fill: #D2E3FC;\n",
              "    }\n",
              "\n",
              "    [theme=dark] .colab-df-convert:hover {\n",
              "      background-color: #434B5C;\n",
              "      box-shadow: 0px 1px 3px 1px rgba(0, 0, 0, 0.15);\n",
              "      filter: drop-shadow(0px 1px 2px rgba(0, 0, 0, 0.3));\n",
              "      fill: #FFFFFF;\n",
              "    }\n",
              "  </style>\n",
              "\n",
              "      <script>\n",
              "        const buttonEl =\n",
              "          document.querySelector('#df-8a13f893-e9da-436a-bf83-d1ce06d7e3ff button.colab-df-convert');\n",
              "        buttonEl.style.display =\n",
              "          google.colab.kernel.accessAllowed ? 'block' : 'none';\n",
              "\n",
              "        async function convertToInteractive(key) {\n",
              "          const element = document.querySelector('#df-8a13f893-e9da-436a-bf83-d1ce06d7e3ff');\n",
              "          const dataTable =\n",
              "            await google.colab.kernel.invokeFunction('convertToInteractive',\n",
              "                                                     [key], {});\n",
              "          if (!dataTable) return;\n",
              "\n",
              "          const docLinkHtml = 'Like what you see? Visit the ' +\n",
              "            '<a target=\"_blank\" href=https://colab.research.google.com/notebooks/data_table.ipynb>data table notebook</a>'\n",
              "            + ' to learn more about interactive tables.';\n",
              "          element.innerHTML = '';\n",
              "          dataTable['output_type'] = 'display_data';\n",
              "          await google.colab.output.renderOutput(dataTable, element);\n",
              "          const docLink = document.createElement('div');\n",
              "          docLink.innerHTML = docLinkHtml;\n",
              "          element.appendChild(docLink);\n",
              "        }\n",
              "      </script>\n",
              "    </div>\n",
              "  </div>\n",
              "  "
            ]
          },
          "metadata": {}
        },
        {
          "output_type": "stream",
          "name": "stdout",
          "text": [
            "total rows contaning blank:  11\n"
          ]
        }
      ]
    },
    {
      "cell_type": "markdown",
      "source": [
        "**Note:**\n",
        "only 11 rows contain BLANK, so they will be removed."
      ],
      "metadata": {
        "id": "2Okf0lM3GQYM"
      }
    },
    {
      "cell_type": "code",
      "source": [
        "# remove rows with BLANK values and make a new dataframe df1\n",
        "df1 = df[df.TotalCharges!=' ']\n",
        "df1.shape\n",
        "\n",
        "# print(\"total rows contaning blank: \", df1['TotalCharges'].value_counts()[\" \"])\n",
        "# df1.info()\n",
        "# df1['TotalCharges'].unique()\n",
        "# df1.dtypes"
      ],
      "metadata": {
        "colab": {
          "base_uri": "https://localhost:8080/"
        },
        "id": "2F2BPTrXGLvN",
        "outputId": "c85e9cd7-0355-4642-bf28-57ae15a3a6dd"
      },
      "execution_count": null,
      "outputs": [
        {
          "output_type": "execute_result",
          "data": {
            "text/plain": [
              "(7032, 20)"
            ]
          },
          "metadata": {},
          "execution_count": 11
        }
      ]
    },
    {
      "cell_type": "markdown",
      "source": [
        "**Note:**\n",
        "Now convert \"TotalCharges\" column values to numeric."
      ],
      "metadata": {
        "id": "mCTJhT-LIBCl"
      }
    },
    {
      "cell_type": "code",
      "source": [
        "# convert to numeric\n",
        "df1.TotalCharges=pd.to_numeric(df1.TotalCharges)\n",
        "\n",
        "# check\n",
        "print(df1.dtypes)\n",
        "\n",
        "# print unique values\n",
        "print(\"unique values\", df1['TotalCharges'].unique())"
      ],
      "metadata": {
        "colab": {
          "base_uri": "https://localhost:8080/"
        },
        "id": "u-JEvFs4H2cU",
        "outputId": "c239bad9-b55e-469b-e2a4-ae7d3fce2835"
      },
      "execution_count": null,
      "outputs": [
        {
          "output_type": "stream",
          "name": "stdout",
          "text": [
            "gender               object\n",
            "SeniorCitizen         int64\n",
            "Partner              object\n",
            "Dependents           object\n",
            "tenure                int64\n",
            "PhoneService         object\n",
            "MultipleLines        object\n",
            "InternetService      object\n",
            "OnlineSecurity       object\n",
            "OnlineBackup         object\n",
            "DeviceProtection     object\n",
            "TechSupport          object\n",
            "StreamingTV          object\n",
            "StreamingMovies      object\n",
            "Contract             object\n",
            "PaperlessBilling     object\n",
            "PaymentMethod        object\n",
            "MonthlyCharges      float64\n",
            "TotalCharges        float64\n",
            "Churn                object\n",
            "dtype: object\n",
            "unique values [  29.85 1889.5   108.15 ...  346.45  306.6  6844.5 ]\n"
          ]
        },
        {
          "output_type": "stream",
          "name": "stderr",
          "text": [
            "/usr/local/lib/python3.8/dist-packages/pandas/core/generic.py:5516: SettingWithCopyWarning: \n",
            "A value is trying to be set on a copy of a slice from a DataFrame.\n",
            "Try using .loc[row_indexer,col_indexer] = value instead\n",
            "\n",
            "See the caveats in the documentation: https://pandas.pydata.org/pandas-docs/stable/user_guide/indexing.html#returning-a-view-versus-a-copy\n",
            "  self[name] = value\n"
          ]
        }
      ]
    },
    {
      "cell_type": "code",
      "source": [
        "# find unique in all columns\n",
        "find_unique(df1)"
      ],
      "metadata": {
        "colab": {
          "base_uri": "https://localhost:8080/"
        },
        "id": "glSDEvpVJ6c_",
        "outputId": "4a0f484e-ffd9-466d-dbea-c3048141eca9"
      },
      "execution_count": null,
      "outputs": [
        {
          "output_type": "stream",
          "name": "stdout",
          "text": [
            "gender: ['Female' 'Male']\n",
            "SeniorCitizen: [0 1]\n",
            "Partner: ['Yes' 'No']\n",
            "Dependents: ['No' 'Yes']\n",
            "tenure: [ 1 34  2 45  8 22 10 28 62 13 16 58 49 25 69 52 71 21 12 30 47 72 17 27\n",
            "  5 46 11 70 63 43 15 60 18 66  9  3 31 50 64 56  7 42 35 48 29 65 38 68\n",
            " 32 55 37 36 41  6  4 33 67 23 57 61 14 20 53 40 59 24 44 19 54 51 26 39]\n",
            "PhoneService: ['No' 'Yes']\n",
            "MultipleLines: ['No phone service' 'No' 'Yes']\n",
            "InternetService: ['DSL' 'Fiber optic' 'No']\n",
            "OnlineSecurity: ['No' 'Yes' 'No internet service']\n",
            "OnlineBackup: ['Yes' 'No' 'No internet service']\n",
            "DeviceProtection: ['No' 'Yes' 'No internet service']\n",
            "TechSupport: ['No' 'Yes' 'No internet service']\n",
            "StreamingTV: ['No' 'Yes' 'No internet service']\n",
            "StreamingMovies: ['No' 'Yes' 'No internet service']\n",
            "Contract: ['Month-to-month' 'One year' 'Two year']\n",
            "PaperlessBilling: ['Yes' 'No']\n",
            "PaymentMethod: ['Electronic check' 'Mailed check' 'Bank transfer (automatic)'\n",
            " 'Credit card (automatic)']\n",
            "MonthlyCharges: [29.85 56.95 53.85 ... 63.1  44.2  78.7 ]\n",
            "TotalCharges: [  29.85 1889.5   108.15 ...  346.45  306.6  6844.5 ]\n",
            "Churn: ['No' 'Yes']\n"
          ]
        }
      ]
    },
    {
      "cell_type": "markdown",
      "source": [
        "**Note:**\n",
        "- some column contains \"No internet service\", \"No phone service\". replace them with \"No\". \n",
        "- Also \"DSL\" and \"Fiber optic\" of \"InternetService\" are replaced with \"Yes\"\n"
      ],
      "metadata": {
        "id": "f0K2eL2SKZD-"
      }
    },
    {
      "cell_type": "code",
      "source": [
        "# replacing\n",
        "df1.replace('No phone service','No',inplace=True) \n",
        "df1.replace('No internet service','No',inplace=True)\n",
        "\n",
        "# for \"InternetService\" column\n",
        "# df1.replace('DSL','Yes',inplace=True)\n",
        "# df1.replace('Fiber optic','Yes',inplace=True)\n",
        "df1['InternetService'].replace({'DSL':'Yes','Fiber optic':'Yes'},inplace=True)\n",
        "\n",
        "\n",
        "# checking\n",
        "print(find_unique(df1))"
      ],
      "metadata": {
        "colab": {
          "base_uri": "https://localhost:8080/"
        },
        "id": "TvAEFbhdKJw6",
        "outputId": "1a42b418-49ca-4207-af7b-2075e7e8881b"
      },
      "execution_count": null,
      "outputs": [
        {
          "output_type": "stream",
          "name": "stdout",
          "text": [
            "gender: ['Female' 'Male']\n",
            "SeniorCitizen: [0 1]\n",
            "Partner: ['Yes' 'No']\n",
            "Dependents: ['No' 'Yes']\n",
            "tenure: [ 1 34  2 45  8 22 10 28 62 13 16 58 49 25 69 52 71 21 12 30 47 72 17 27\n",
            "  5 46 11 70 63 43 15 60 18 66  9  3 31 50 64 56  7 42 35 48 29 65 38 68\n",
            " 32 55 37 36 41  6  4 33 67 23 57 61 14 20 53 40 59 24 44 19 54 51 26 39]\n",
            "PhoneService: ['No' 'Yes']\n",
            "MultipleLines: ['No' 'Yes']\n",
            "InternetService: ['Yes' 'No']\n",
            "OnlineSecurity: ['No' 'Yes']\n",
            "OnlineBackup: ['Yes' 'No']\n",
            "DeviceProtection: ['No' 'Yes']\n",
            "TechSupport: ['No' 'Yes']\n",
            "StreamingTV: ['No' 'Yes']\n",
            "StreamingMovies: ['No' 'Yes']\n",
            "Contract: ['Month-to-month' 'One year' 'Two year']\n",
            "PaperlessBilling: ['Yes' 'No']\n",
            "PaymentMethod: ['Electronic check' 'Mailed check' 'Bank transfer (automatic)'\n",
            " 'Credit card (automatic)']\n",
            "MonthlyCharges: [29.85 56.95 53.85 ... 63.1  44.2  78.7 ]\n",
            "TotalCharges: [  29.85 1889.5   108.15 ...  346.45  306.6  6844.5 ]\n",
            "Churn: ['No' 'Yes']\n",
            "None\n"
          ]
        },
        {
          "output_type": "stream",
          "name": "stderr",
          "text": [
            "/usr/local/lib/python3.8/dist-packages/pandas/core/frame.py:5238: SettingWithCopyWarning: \n",
            "A value is trying to be set on a copy of a slice from a DataFrame\n",
            "\n",
            "See the caveats in the documentation: https://pandas.pydata.org/pandas-docs/stable/user_guide/indexing.html#returning-a-view-versus-a-copy\n",
            "  return super().replace(\n",
            "/usr/local/lib/python3.8/dist-packages/pandas/core/generic.py:6619: SettingWithCopyWarning: \n",
            "A value is trying to be set on a copy of a slice from a DataFrame\n",
            "\n",
            "See the caveats in the documentation: https://pandas.pydata.org/pandas-docs/stable/user_guide/indexing.html#returning-a-view-versus-a-copy\n",
            "  return self._update_inplace(result)\n"
          ]
        }
      ]
    },
    {
      "cell_type": "markdown",
      "source": [
        "**Note:** \n",
        "- Convert \"Yes\" to 1 and \"No\" to 0\n",
        "- Convert \"Female\" to 1 and \"Male\" to 0 in gender column."
      ],
      "metadata": {
        "id": "wUlPxU8uMlR_"
      }
    },
    {
      "cell_type": "code",
      "source": [
        "# for gender column\n",
        "df1['gender'].replace({'Female':1,'Male':0},inplace=True)\n",
        "# for col in df1.columns:\n",
        "#    df1[col] = df[col].replace('Yes', 1)\n",
        "def replace_yes_no(df):\n",
        "   for col in df:\n",
        "    df[col].replace({'Yes': 1,'No': 0},inplace=True)\n",
        "replace_yes_no(df1)\n",
        "\n",
        "# checking\n",
        "print(find_unique(df1))"
      ],
      "metadata": {
        "colab": {
          "base_uri": "https://localhost:8080/"
        },
        "id": "5J_s6_WTK_Ih",
        "outputId": "1afb44f0-233b-4afb-cd6b-9e0efaf99420"
      },
      "execution_count": null,
      "outputs": [
        {
          "output_type": "stream",
          "name": "stdout",
          "text": [
            "gender: [1 0]\n",
            "SeniorCitizen: [0 1]\n",
            "Partner: [1 0]\n",
            "Dependents: [0 1]\n",
            "tenure: [ 1 34  2 45  8 22 10 28 62 13 16 58 49 25 69 52 71 21 12 30 47 72 17 27\n",
            "  5 46 11 70 63 43 15 60 18 66  9  3 31 50 64 56  7 42 35 48 29 65 38 68\n",
            " 32 55 37 36 41  6  4 33 67 23 57 61 14 20 53 40 59 24 44 19 54 51 26 39]\n",
            "PhoneService: [0 1]\n",
            "MultipleLines: [0 1]\n",
            "InternetService: [1 0]\n",
            "OnlineSecurity: [0 1]\n",
            "OnlineBackup: [1 0]\n",
            "DeviceProtection: [0 1]\n",
            "TechSupport: [0 1]\n",
            "StreamingTV: [0 1]\n",
            "StreamingMovies: [0 1]\n",
            "Contract: ['Month-to-month' 'One year' 'Two year']\n",
            "PaperlessBilling: [1 0]\n",
            "PaymentMethod: ['Electronic check' 'Mailed check' 'Bank transfer (automatic)'\n",
            " 'Credit card (automatic)']\n",
            "MonthlyCharges: [29.85 56.95 53.85 ... 63.1  44.2  78.7 ]\n",
            "TotalCharges: [  29.85 1889.5   108.15 ...  346.45  306.6  6844.5 ]\n",
            "Churn: [0 1]\n",
            "None\n"
          ]
        }
      ]
    },
    {
      "cell_type": "markdown",
      "source": [
        "**Note**: encode \"Contract\" and \"PaymentMethod\" column."
      ],
      "metadata": {
        "id": "IEq5sZPBQ_OG"
      }
    },
    {
      "cell_type": "code",
      "source": [
        "# encoding\n",
        "df2 = pd.get_dummies(data=df1, columns=['Contract','PaymentMethod']) #,drop_first=True\n",
        "display(df2.head())\n",
        "print(df1.shape)\n",
        "print(df2.shape)\n"
      ],
      "metadata": {
        "colab": {
          "base_uri": "https://localhost:8080/",
          "height": 370
        },
        "id": "qp20CVwVQ6o4",
        "outputId": "51dd8088-7476-4e12-9617-1bb00a3a4cce"
      },
      "execution_count": null,
      "outputs": [
        {
          "output_type": "display_data",
          "data": {
            "text/plain": [
              "   gender  SeniorCitizen  Partner  Dependents  tenure  PhoneService  \\\n",
              "0       1              0        1           0       1             0   \n",
              "1       0              0        0           0      34             1   \n",
              "2       0              0        0           0       2             1   \n",
              "3       0              0        0           0      45             0   \n",
              "4       1              0        0           0       2             1   \n",
              "\n",
              "   MultipleLines  InternetService  OnlineSecurity  OnlineBackup  ...  \\\n",
              "0              0                1               0             1  ...   \n",
              "1              0                1               1             0  ...   \n",
              "2              0                1               1             1  ...   \n",
              "3              0                1               1             0  ...   \n",
              "4              0                1               0             0  ...   \n",
              "\n",
              "   MonthlyCharges  TotalCharges  Churn  Contract_Month-to-month  \\\n",
              "0           29.85         29.85      0                        1   \n",
              "1           56.95       1889.50      0                        0   \n",
              "2           53.85        108.15      1                        1   \n",
              "3           42.30       1840.75      0                        0   \n",
              "4           70.70        151.65      1                        1   \n",
              "\n",
              "   Contract_One year  Contract_Two year  \\\n",
              "0                  0                  0   \n",
              "1                  1                  0   \n",
              "2                  0                  0   \n",
              "3                  1                  0   \n",
              "4                  0                  0   \n",
              "\n",
              "   PaymentMethod_Bank transfer (automatic)  \\\n",
              "0                                        0   \n",
              "1                                        0   \n",
              "2                                        0   \n",
              "3                                        1   \n",
              "4                                        0   \n",
              "\n",
              "   PaymentMethod_Credit card (automatic)  PaymentMethod_Electronic check  \\\n",
              "0                                      0                               1   \n",
              "1                                      0                               0   \n",
              "2                                      0                               0   \n",
              "3                                      0                               0   \n",
              "4                                      0                               1   \n",
              "\n",
              "   PaymentMethod_Mailed check  \n",
              "0                           0  \n",
              "1                           1  \n",
              "2                           1  \n",
              "3                           0  \n",
              "4                           0  \n",
              "\n",
              "[5 rows x 25 columns]"
            ],
            "text/html": [
              "\n",
              "  <div id=\"df-dddb8eba-9470-444d-a47c-ef3271da1657\">\n",
              "    <div class=\"colab-df-container\">\n",
              "      <div>\n",
              "<style scoped>\n",
              "    .dataframe tbody tr th:only-of-type {\n",
              "        vertical-align: middle;\n",
              "    }\n",
              "\n",
              "    .dataframe tbody tr th {\n",
              "        vertical-align: top;\n",
              "    }\n",
              "\n",
              "    .dataframe thead th {\n",
              "        text-align: right;\n",
              "    }\n",
              "</style>\n",
              "<table border=\"1\" class=\"dataframe\">\n",
              "  <thead>\n",
              "    <tr style=\"text-align: right;\">\n",
              "      <th></th>\n",
              "      <th>gender</th>\n",
              "      <th>SeniorCitizen</th>\n",
              "      <th>Partner</th>\n",
              "      <th>Dependents</th>\n",
              "      <th>tenure</th>\n",
              "      <th>PhoneService</th>\n",
              "      <th>MultipleLines</th>\n",
              "      <th>InternetService</th>\n",
              "      <th>OnlineSecurity</th>\n",
              "      <th>OnlineBackup</th>\n",
              "      <th>...</th>\n",
              "      <th>MonthlyCharges</th>\n",
              "      <th>TotalCharges</th>\n",
              "      <th>Churn</th>\n",
              "      <th>Contract_Month-to-month</th>\n",
              "      <th>Contract_One year</th>\n",
              "      <th>Contract_Two year</th>\n",
              "      <th>PaymentMethod_Bank transfer (automatic)</th>\n",
              "      <th>PaymentMethod_Credit card (automatic)</th>\n",
              "      <th>PaymentMethod_Electronic check</th>\n",
              "      <th>PaymentMethod_Mailed check</th>\n",
              "    </tr>\n",
              "  </thead>\n",
              "  <tbody>\n",
              "    <tr>\n",
              "      <th>0</th>\n",
              "      <td>1</td>\n",
              "      <td>0</td>\n",
              "      <td>1</td>\n",
              "      <td>0</td>\n",
              "      <td>1</td>\n",
              "      <td>0</td>\n",
              "      <td>0</td>\n",
              "      <td>1</td>\n",
              "      <td>0</td>\n",
              "      <td>1</td>\n",
              "      <td>...</td>\n",
              "      <td>29.85</td>\n",
              "      <td>29.85</td>\n",
              "      <td>0</td>\n",
              "      <td>1</td>\n",
              "      <td>0</td>\n",
              "      <td>0</td>\n",
              "      <td>0</td>\n",
              "      <td>0</td>\n",
              "      <td>1</td>\n",
              "      <td>0</td>\n",
              "    </tr>\n",
              "    <tr>\n",
              "      <th>1</th>\n",
              "      <td>0</td>\n",
              "      <td>0</td>\n",
              "      <td>0</td>\n",
              "      <td>0</td>\n",
              "      <td>34</td>\n",
              "      <td>1</td>\n",
              "      <td>0</td>\n",
              "      <td>1</td>\n",
              "      <td>1</td>\n",
              "      <td>0</td>\n",
              "      <td>...</td>\n",
              "      <td>56.95</td>\n",
              "      <td>1889.50</td>\n",
              "      <td>0</td>\n",
              "      <td>0</td>\n",
              "      <td>1</td>\n",
              "      <td>0</td>\n",
              "      <td>0</td>\n",
              "      <td>0</td>\n",
              "      <td>0</td>\n",
              "      <td>1</td>\n",
              "    </tr>\n",
              "    <tr>\n",
              "      <th>2</th>\n",
              "      <td>0</td>\n",
              "      <td>0</td>\n",
              "      <td>0</td>\n",
              "      <td>0</td>\n",
              "      <td>2</td>\n",
              "      <td>1</td>\n",
              "      <td>0</td>\n",
              "      <td>1</td>\n",
              "      <td>1</td>\n",
              "      <td>1</td>\n",
              "      <td>...</td>\n",
              "      <td>53.85</td>\n",
              "      <td>108.15</td>\n",
              "      <td>1</td>\n",
              "      <td>1</td>\n",
              "      <td>0</td>\n",
              "      <td>0</td>\n",
              "      <td>0</td>\n",
              "      <td>0</td>\n",
              "      <td>0</td>\n",
              "      <td>1</td>\n",
              "    </tr>\n",
              "    <tr>\n",
              "      <th>3</th>\n",
              "      <td>0</td>\n",
              "      <td>0</td>\n",
              "      <td>0</td>\n",
              "      <td>0</td>\n",
              "      <td>45</td>\n",
              "      <td>0</td>\n",
              "      <td>0</td>\n",
              "      <td>1</td>\n",
              "      <td>1</td>\n",
              "      <td>0</td>\n",
              "      <td>...</td>\n",
              "      <td>42.30</td>\n",
              "      <td>1840.75</td>\n",
              "      <td>0</td>\n",
              "      <td>0</td>\n",
              "      <td>1</td>\n",
              "      <td>0</td>\n",
              "      <td>1</td>\n",
              "      <td>0</td>\n",
              "      <td>0</td>\n",
              "      <td>0</td>\n",
              "    </tr>\n",
              "    <tr>\n",
              "      <th>4</th>\n",
              "      <td>1</td>\n",
              "      <td>0</td>\n",
              "      <td>0</td>\n",
              "      <td>0</td>\n",
              "      <td>2</td>\n",
              "      <td>1</td>\n",
              "      <td>0</td>\n",
              "      <td>1</td>\n",
              "      <td>0</td>\n",
              "      <td>0</td>\n",
              "      <td>...</td>\n",
              "      <td>70.70</td>\n",
              "      <td>151.65</td>\n",
              "      <td>1</td>\n",
              "      <td>1</td>\n",
              "      <td>0</td>\n",
              "      <td>0</td>\n",
              "      <td>0</td>\n",
              "      <td>0</td>\n",
              "      <td>1</td>\n",
              "      <td>0</td>\n",
              "    </tr>\n",
              "  </tbody>\n",
              "</table>\n",
              "<p>5 rows × 25 columns</p>\n",
              "</div>\n",
              "      <button class=\"colab-df-convert\" onclick=\"convertToInteractive('df-dddb8eba-9470-444d-a47c-ef3271da1657')\"\n",
              "              title=\"Convert this dataframe to an interactive table.\"\n",
              "              style=\"display:none;\">\n",
              "        \n",
              "  <svg xmlns=\"http://www.w3.org/2000/svg\" height=\"24px\"viewBox=\"0 0 24 24\"\n",
              "       width=\"24px\">\n",
              "    <path d=\"M0 0h24v24H0V0z\" fill=\"none\"/>\n",
              "    <path d=\"M18.56 5.44l.94 2.06.94-2.06 2.06-.94-2.06-.94-.94-2.06-.94 2.06-2.06.94zm-11 1L8.5 8.5l.94-2.06 2.06-.94-2.06-.94L8.5 2.5l-.94 2.06-2.06.94zm10 10l.94 2.06.94-2.06 2.06-.94-2.06-.94-.94-2.06-.94 2.06-2.06.94z\"/><path d=\"M17.41 7.96l-1.37-1.37c-.4-.4-.92-.59-1.43-.59-.52 0-1.04.2-1.43.59L10.3 9.45l-7.72 7.72c-.78.78-.78 2.05 0 2.83L4 21.41c.39.39.9.59 1.41.59.51 0 1.02-.2 1.41-.59l7.78-7.78 2.81-2.81c.8-.78.8-2.07 0-2.86zM5.41 20L4 18.59l7.72-7.72 1.47 1.35L5.41 20z\"/>\n",
              "  </svg>\n",
              "      </button>\n",
              "      \n",
              "  <style>\n",
              "    .colab-df-container {\n",
              "      display:flex;\n",
              "      flex-wrap:wrap;\n",
              "      gap: 12px;\n",
              "    }\n",
              "\n",
              "    .colab-df-convert {\n",
              "      background-color: #E8F0FE;\n",
              "      border: none;\n",
              "      border-radius: 50%;\n",
              "      cursor: pointer;\n",
              "      display: none;\n",
              "      fill: #1967D2;\n",
              "      height: 32px;\n",
              "      padding: 0 0 0 0;\n",
              "      width: 32px;\n",
              "    }\n",
              "\n",
              "    .colab-df-convert:hover {\n",
              "      background-color: #E2EBFA;\n",
              "      box-shadow: 0px 1px 2px rgba(60, 64, 67, 0.3), 0px 1px 3px 1px rgba(60, 64, 67, 0.15);\n",
              "      fill: #174EA6;\n",
              "    }\n",
              "\n",
              "    [theme=dark] .colab-df-convert {\n",
              "      background-color: #3B4455;\n",
              "      fill: #D2E3FC;\n",
              "    }\n",
              "\n",
              "    [theme=dark] .colab-df-convert:hover {\n",
              "      background-color: #434B5C;\n",
              "      box-shadow: 0px 1px 3px 1px rgba(0, 0, 0, 0.15);\n",
              "      filter: drop-shadow(0px 1px 2px rgba(0, 0, 0, 0.3));\n",
              "      fill: #FFFFFF;\n",
              "    }\n",
              "  </style>\n",
              "\n",
              "      <script>\n",
              "        const buttonEl =\n",
              "          document.querySelector('#df-dddb8eba-9470-444d-a47c-ef3271da1657 button.colab-df-convert');\n",
              "        buttonEl.style.display =\n",
              "          google.colab.kernel.accessAllowed ? 'block' : 'none';\n",
              "\n",
              "        async function convertToInteractive(key) {\n",
              "          const element = document.querySelector('#df-dddb8eba-9470-444d-a47c-ef3271da1657');\n",
              "          const dataTable =\n",
              "            await google.colab.kernel.invokeFunction('convertToInteractive',\n",
              "                                                     [key], {});\n",
              "          if (!dataTable) return;\n",
              "\n",
              "          const docLinkHtml = 'Like what you see? Visit the ' +\n",
              "            '<a target=\"_blank\" href=https://colab.research.google.com/notebooks/data_table.ipynb>data table notebook</a>'\n",
              "            + ' to learn more about interactive tables.';\n",
              "          element.innerHTML = '';\n",
              "          dataTable['output_type'] = 'display_data';\n",
              "          await google.colab.output.renderOutput(dataTable, element);\n",
              "          const docLink = document.createElement('div');\n",
              "          docLink.innerHTML = docLinkHtml;\n",
              "          element.appendChild(docLink);\n",
              "        }\n",
              "      </script>\n",
              "    </div>\n",
              "  </div>\n",
              "  "
            ]
          },
          "metadata": {}
        },
        {
          "output_type": "stream",
          "name": "stdout",
          "text": [
            "(7032, 20)\n",
            "(7032, 25)\n"
          ]
        }
      ]
    },
    {
      "cell_type": "markdown",
      "source": [
        "**Note:**\n",
        "- df1 has 20 columns. after one hot encoding \"Contract\"(split into 3 cols) and \"PaymentMethod\"(split into 4 cols) are converted to numeric data.\n",
        "- total column numbers= 20-2+3+4=25"
      ],
      "metadata": {
        "id": "-OpV5RsASLan"
      }
    },
    {
      "cell_type": "code",
      "source": [
        "df2.dtypes"
      ],
      "metadata": {
        "colab": {
          "base_uri": "https://localhost:8080/"
        },
        "id": "L1Ce-N4RQ92-",
        "outputId": "e72c3267-4fd0-48d2-b2c9-1bb58d4ddaec"
      },
      "execution_count": null,
      "outputs": [
        {
          "output_type": "execute_result",
          "data": {
            "text/plain": [
              "gender                                       int64\n",
              "SeniorCitizen                                int64\n",
              "Partner                                      int64\n",
              "Dependents                                   int64\n",
              "tenure                                       int64\n",
              "PhoneService                                 int64\n",
              "MultipleLines                                int64\n",
              "InternetService                              int64\n",
              "OnlineSecurity                               int64\n",
              "OnlineBackup                                 int64\n",
              "DeviceProtection                             int64\n",
              "TechSupport                                  int64\n",
              "StreamingTV                                  int64\n",
              "StreamingMovies                              int64\n",
              "PaperlessBilling                             int64\n",
              "MonthlyCharges                             float64\n",
              "TotalCharges                               float64\n",
              "Churn                                        int64\n",
              "Contract_Month-to-month                      uint8\n",
              "Contract_One year                            uint8\n",
              "Contract_Two year                            uint8\n",
              "PaymentMethod_Bank transfer (automatic)      uint8\n",
              "PaymentMethod_Credit card (automatic)        uint8\n",
              "PaymentMethod_Electronic check               uint8\n",
              "PaymentMethod_Mailed check                   uint8\n",
              "dtype: object"
            ]
          },
          "metadata": {},
          "execution_count": 17
        }
      ]
    },
    {
      "cell_type": "markdown",
      "source": [
        "Note:\n",
        "- All columns are in numeric format.\n",
        "- Check summary statistics"
      ],
      "metadata": {
        "id": "hJra0pbUTSdv"
      }
    },
    {
      "cell_type": "code",
      "source": [
        "df2.describe()"
      ],
      "metadata": {
        "colab": {
          "base_uri": "https://localhost:8080/",
          "height": 428
        },
        "id": "_eA21lcGNsqY",
        "outputId": "4e1c8e29-354a-4932-f90b-a31b73b0b4b0"
      },
      "execution_count": null,
      "outputs": [
        {
          "output_type": "execute_result",
          "data": {
            "text/plain": [
              "            gender  SeniorCitizen      Partner   Dependents       tenure  \\\n",
              "count  7032.000000    7032.000000  7032.000000  7032.000000  7032.000000   \n",
              "mean      0.495307       0.162400     0.482509     0.298493    32.421786   \n",
              "std       0.500014       0.368844     0.499729     0.457629    24.545260   \n",
              "min       0.000000       0.000000     0.000000     0.000000     1.000000   \n",
              "25%       0.000000       0.000000     0.000000     0.000000     9.000000   \n",
              "50%       0.000000       0.000000     0.000000     0.000000    29.000000   \n",
              "75%       1.000000       0.000000     1.000000     1.000000    55.000000   \n",
              "max       1.000000       1.000000     1.000000     1.000000    72.000000   \n",
              "\n",
              "       PhoneService  MultipleLines  InternetService  OnlineSecurity  \\\n",
              "count   7032.000000    7032.000000      7032.000000     7032.000000   \n",
              "mean       0.903299       0.421928         0.783845        0.286547   \n",
              "std        0.295571       0.493902         0.411650        0.452180   \n",
              "min        0.000000       0.000000         0.000000        0.000000   \n",
              "25%        1.000000       0.000000         1.000000        0.000000   \n",
              "50%        1.000000       0.000000         1.000000        0.000000   \n",
              "75%        1.000000       1.000000         1.000000        1.000000   \n",
              "max        1.000000       1.000000         1.000000        1.000000   \n",
              "\n",
              "       OnlineBackup  ...  MonthlyCharges  TotalCharges        Churn  \\\n",
              "count   7032.000000  ...     7032.000000   7032.000000  7032.000000   \n",
              "mean       0.344852  ...       64.798208   2283.300441     0.265785   \n",
              "std        0.475354  ...       30.085974   2266.771362     0.441782   \n",
              "min        0.000000  ...       18.250000     18.800000     0.000000   \n",
              "25%        0.000000  ...       35.587500    401.450000     0.000000   \n",
              "50%        0.000000  ...       70.350000   1397.475000     0.000000   \n",
              "75%        1.000000  ...       89.862500   3794.737500     1.000000   \n",
              "max        1.000000  ...      118.750000   8684.800000     1.000000   \n",
              "\n",
              "       Contract_Month-to-month  Contract_One year  Contract_Two year  \\\n",
              "count              7032.000000        7032.000000        7032.000000   \n",
              "mean                  0.551052           0.209329           0.239619   \n",
              "std                   0.497422           0.406858           0.426881   \n",
              "min                   0.000000           0.000000           0.000000   \n",
              "25%                   0.000000           0.000000           0.000000   \n",
              "50%                   1.000000           0.000000           0.000000   \n",
              "75%                   1.000000           0.000000           0.000000   \n",
              "max                   1.000000           1.000000           1.000000   \n",
              "\n",
              "       PaymentMethod_Bank transfer (automatic)  \\\n",
              "count                              7032.000000   \n",
              "mean                                  0.219283   \n",
              "std                                   0.413790   \n",
              "min                                   0.000000   \n",
              "25%                                   0.000000   \n",
              "50%                                   0.000000   \n",
              "75%                                   0.000000   \n",
              "max                                   1.000000   \n",
              "\n",
              "       PaymentMethod_Credit card (automatic)  PaymentMethod_Electronic check  \\\n",
              "count                            7032.000000                     7032.000000   \n",
              "mean                                0.216297                        0.336320   \n",
              "std                                 0.411748                        0.472483   \n",
              "min                                 0.000000                        0.000000   \n",
              "25%                                 0.000000                        0.000000   \n",
              "50%                                 0.000000                        0.000000   \n",
              "75%                                 0.000000                        1.000000   \n",
              "max                                 1.000000                        1.000000   \n",
              "\n",
              "       PaymentMethod_Mailed check  \n",
              "count                 7032.000000  \n",
              "mean                     0.228100  \n",
              "std                      0.419637  \n",
              "min                      0.000000  \n",
              "25%                      0.000000  \n",
              "50%                      0.000000  \n",
              "75%                      0.000000  \n",
              "max                      1.000000  \n",
              "\n",
              "[8 rows x 25 columns]"
            ],
            "text/html": [
              "\n",
              "  <div id=\"df-fbb94caa-214e-40f6-babd-5e7ffb43adc5\">\n",
              "    <div class=\"colab-df-container\">\n",
              "      <div>\n",
              "<style scoped>\n",
              "    .dataframe tbody tr th:only-of-type {\n",
              "        vertical-align: middle;\n",
              "    }\n",
              "\n",
              "    .dataframe tbody tr th {\n",
              "        vertical-align: top;\n",
              "    }\n",
              "\n",
              "    .dataframe thead th {\n",
              "        text-align: right;\n",
              "    }\n",
              "</style>\n",
              "<table border=\"1\" class=\"dataframe\">\n",
              "  <thead>\n",
              "    <tr style=\"text-align: right;\">\n",
              "      <th></th>\n",
              "      <th>gender</th>\n",
              "      <th>SeniorCitizen</th>\n",
              "      <th>Partner</th>\n",
              "      <th>Dependents</th>\n",
              "      <th>tenure</th>\n",
              "      <th>PhoneService</th>\n",
              "      <th>MultipleLines</th>\n",
              "      <th>InternetService</th>\n",
              "      <th>OnlineSecurity</th>\n",
              "      <th>OnlineBackup</th>\n",
              "      <th>...</th>\n",
              "      <th>MonthlyCharges</th>\n",
              "      <th>TotalCharges</th>\n",
              "      <th>Churn</th>\n",
              "      <th>Contract_Month-to-month</th>\n",
              "      <th>Contract_One year</th>\n",
              "      <th>Contract_Two year</th>\n",
              "      <th>PaymentMethod_Bank transfer (automatic)</th>\n",
              "      <th>PaymentMethod_Credit card (automatic)</th>\n",
              "      <th>PaymentMethod_Electronic check</th>\n",
              "      <th>PaymentMethod_Mailed check</th>\n",
              "    </tr>\n",
              "  </thead>\n",
              "  <tbody>\n",
              "    <tr>\n",
              "      <th>count</th>\n",
              "      <td>7032.000000</td>\n",
              "      <td>7032.000000</td>\n",
              "      <td>7032.000000</td>\n",
              "      <td>7032.000000</td>\n",
              "      <td>7032.000000</td>\n",
              "      <td>7032.000000</td>\n",
              "      <td>7032.000000</td>\n",
              "      <td>7032.000000</td>\n",
              "      <td>7032.000000</td>\n",
              "      <td>7032.000000</td>\n",
              "      <td>...</td>\n",
              "      <td>7032.000000</td>\n",
              "      <td>7032.000000</td>\n",
              "      <td>7032.000000</td>\n",
              "      <td>7032.000000</td>\n",
              "      <td>7032.000000</td>\n",
              "      <td>7032.000000</td>\n",
              "      <td>7032.000000</td>\n",
              "      <td>7032.000000</td>\n",
              "      <td>7032.000000</td>\n",
              "      <td>7032.000000</td>\n",
              "    </tr>\n",
              "    <tr>\n",
              "      <th>mean</th>\n",
              "      <td>0.495307</td>\n",
              "      <td>0.162400</td>\n",
              "      <td>0.482509</td>\n",
              "      <td>0.298493</td>\n",
              "      <td>32.421786</td>\n",
              "      <td>0.903299</td>\n",
              "      <td>0.421928</td>\n",
              "      <td>0.783845</td>\n",
              "      <td>0.286547</td>\n",
              "      <td>0.344852</td>\n",
              "      <td>...</td>\n",
              "      <td>64.798208</td>\n",
              "      <td>2283.300441</td>\n",
              "      <td>0.265785</td>\n",
              "      <td>0.551052</td>\n",
              "      <td>0.209329</td>\n",
              "      <td>0.239619</td>\n",
              "      <td>0.219283</td>\n",
              "      <td>0.216297</td>\n",
              "      <td>0.336320</td>\n",
              "      <td>0.228100</td>\n",
              "    </tr>\n",
              "    <tr>\n",
              "      <th>std</th>\n",
              "      <td>0.500014</td>\n",
              "      <td>0.368844</td>\n",
              "      <td>0.499729</td>\n",
              "      <td>0.457629</td>\n",
              "      <td>24.545260</td>\n",
              "      <td>0.295571</td>\n",
              "      <td>0.493902</td>\n",
              "      <td>0.411650</td>\n",
              "      <td>0.452180</td>\n",
              "      <td>0.475354</td>\n",
              "      <td>...</td>\n",
              "      <td>30.085974</td>\n",
              "      <td>2266.771362</td>\n",
              "      <td>0.441782</td>\n",
              "      <td>0.497422</td>\n",
              "      <td>0.406858</td>\n",
              "      <td>0.426881</td>\n",
              "      <td>0.413790</td>\n",
              "      <td>0.411748</td>\n",
              "      <td>0.472483</td>\n",
              "      <td>0.419637</td>\n",
              "    </tr>\n",
              "    <tr>\n",
              "      <th>min</th>\n",
              "      <td>0.000000</td>\n",
              "      <td>0.000000</td>\n",
              "      <td>0.000000</td>\n",
              "      <td>0.000000</td>\n",
              "      <td>1.000000</td>\n",
              "      <td>0.000000</td>\n",
              "      <td>0.000000</td>\n",
              "      <td>0.000000</td>\n",
              "      <td>0.000000</td>\n",
              "      <td>0.000000</td>\n",
              "      <td>...</td>\n",
              "      <td>18.250000</td>\n",
              "      <td>18.800000</td>\n",
              "      <td>0.000000</td>\n",
              "      <td>0.000000</td>\n",
              "      <td>0.000000</td>\n",
              "      <td>0.000000</td>\n",
              "      <td>0.000000</td>\n",
              "      <td>0.000000</td>\n",
              "      <td>0.000000</td>\n",
              "      <td>0.000000</td>\n",
              "    </tr>\n",
              "    <tr>\n",
              "      <th>25%</th>\n",
              "      <td>0.000000</td>\n",
              "      <td>0.000000</td>\n",
              "      <td>0.000000</td>\n",
              "      <td>0.000000</td>\n",
              "      <td>9.000000</td>\n",
              "      <td>1.000000</td>\n",
              "      <td>0.000000</td>\n",
              "      <td>1.000000</td>\n",
              "      <td>0.000000</td>\n",
              "      <td>0.000000</td>\n",
              "      <td>...</td>\n",
              "      <td>35.587500</td>\n",
              "      <td>401.450000</td>\n",
              "      <td>0.000000</td>\n",
              "      <td>0.000000</td>\n",
              "      <td>0.000000</td>\n",
              "      <td>0.000000</td>\n",
              "      <td>0.000000</td>\n",
              "      <td>0.000000</td>\n",
              "      <td>0.000000</td>\n",
              "      <td>0.000000</td>\n",
              "    </tr>\n",
              "    <tr>\n",
              "      <th>50%</th>\n",
              "      <td>0.000000</td>\n",
              "      <td>0.000000</td>\n",
              "      <td>0.000000</td>\n",
              "      <td>0.000000</td>\n",
              "      <td>29.000000</td>\n",
              "      <td>1.000000</td>\n",
              "      <td>0.000000</td>\n",
              "      <td>1.000000</td>\n",
              "      <td>0.000000</td>\n",
              "      <td>0.000000</td>\n",
              "      <td>...</td>\n",
              "      <td>70.350000</td>\n",
              "      <td>1397.475000</td>\n",
              "      <td>0.000000</td>\n",
              "      <td>1.000000</td>\n",
              "      <td>0.000000</td>\n",
              "      <td>0.000000</td>\n",
              "      <td>0.000000</td>\n",
              "      <td>0.000000</td>\n",
              "      <td>0.000000</td>\n",
              "      <td>0.000000</td>\n",
              "    </tr>\n",
              "    <tr>\n",
              "      <th>75%</th>\n",
              "      <td>1.000000</td>\n",
              "      <td>0.000000</td>\n",
              "      <td>1.000000</td>\n",
              "      <td>1.000000</td>\n",
              "      <td>55.000000</td>\n",
              "      <td>1.000000</td>\n",
              "      <td>1.000000</td>\n",
              "      <td>1.000000</td>\n",
              "      <td>1.000000</td>\n",
              "      <td>1.000000</td>\n",
              "      <td>...</td>\n",
              "      <td>89.862500</td>\n",
              "      <td>3794.737500</td>\n",
              "      <td>1.000000</td>\n",
              "      <td>1.000000</td>\n",
              "      <td>0.000000</td>\n",
              "      <td>0.000000</td>\n",
              "      <td>0.000000</td>\n",
              "      <td>0.000000</td>\n",
              "      <td>1.000000</td>\n",
              "      <td>0.000000</td>\n",
              "    </tr>\n",
              "    <tr>\n",
              "      <th>max</th>\n",
              "      <td>1.000000</td>\n",
              "      <td>1.000000</td>\n",
              "      <td>1.000000</td>\n",
              "      <td>1.000000</td>\n",
              "      <td>72.000000</td>\n",
              "      <td>1.000000</td>\n",
              "      <td>1.000000</td>\n",
              "      <td>1.000000</td>\n",
              "      <td>1.000000</td>\n",
              "      <td>1.000000</td>\n",
              "      <td>...</td>\n",
              "      <td>118.750000</td>\n",
              "      <td>8684.800000</td>\n",
              "      <td>1.000000</td>\n",
              "      <td>1.000000</td>\n",
              "      <td>1.000000</td>\n",
              "      <td>1.000000</td>\n",
              "      <td>1.000000</td>\n",
              "      <td>1.000000</td>\n",
              "      <td>1.000000</td>\n",
              "      <td>1.000000</td>\n",
              "    </tr>\n",
              "  </tbody>\n",
              "</table>\n",
              "<p>8 rows × 25 columns</p>\n",
              "</div>\n",
              "      <button class=\"colab-df-convert\" onclick=\"convertToInteractive('df-fbb94caa-214e-40f6-babd-5e7ffb43adc5')\"\n",
              "              title=\"Convert this dataframe to an interactive table.\"\n",
              "              style=\"display:none;\">\n",
              "        \n",
              "  <svg xmlns=\"http://www.w3.org/2000/svg\" height=\"24px\"viewBox=\"0 0 24 24\"\n",
              "       width=\"24px\">\n",
              "    <path d=\"M0 0h24v24H0V0z\" fill=\"none\"/>\n",
              "    <path d=\"M18.56 5.44l.94 2.06.94-2.06 2.06-.94-2.06-.94-.94-2.06-.94 2.06-2.06.94zm-11 1L8.5 8.5l.94-2.06 2.06-.94-2.06-.94L8.5 2.5l-.94 2.06-2.06.94zm10 10l.94 2.06.94-2.06 2.06-.94-2.06-.94-.94-2.06-.94 2.06-2.06.94z\"/><path d=\"M17.41 7.96l-1.37-1.37c-.4-.4-.92-.59-1.43-.59-.52 0-1.04.2-1.43.59L10.3 9.45l-7.72 7.72c-.78.78-.78 2.05 0 2.83L4 21.41c.39.39.9.59 1.41.59.51 0 1.02-.2 1.41-.59l7.78-7.78 2.81-2.81c.8-.78.8-2.07 0-2.86zM5.41 20L4 18.59l7.72-7.72 1.47 1.35L5.41 20z\"/>\n",
              "  </svg>\n",
              "      </button>\n",
              "      \n",
              "  <style>\n",
              "    .colab-df-container {\n",
              "      display:flex;\n",
              "      flex-wrap:wrap;\n",
              "      gap: 12px;\n",
              "    }\n",
              "\n",
              "    .colab-df-convert {\n",
              "      background-color: #E8F0FE;\n",
              "      border: none;\n",
              "      border-radius: 50%;\n",
              "      cursor: pointer;\n",
              "      display: none;\n",
              "      fill: #1967D2;\n",
              "      height: 32px;\n",
              "      padding: 0 0 0 0;\n",
              "      width: 32px;\n",
              "    }\n",
              "\n",
              "    .colab-df-convert:hover {\n",
              "      background-color: #E2EBFA;\n",
              "      box-shadow: 0px 1px 2px rgba(60, 64, 67, 0.3), 0px 1px 3px 1px rgba(60, 64, 67, 0.15);\n",
              "      fill: #174EA6;\n",
              "    }\n",
              "\n",
              "    [theme=dark] .colab-df-convert {\n",
              "      background-color: #3B4455;\n",
              "      fill: #D2E3FC;\n",
              "    }\n",
              "\n",
              "    [theme=dark] .colab-df-convert:hover {\n",
              "      background-color: #434B5C;\n",
              "      box-shadow: 0px 1px 3px 1px rgba(0, 0, 0, 0.15);\n",
              "      filter: drop-shadow(0px 1px 2px rgba(0, 0, 0, 0.3));\n",
              "      fill: #FFFFFF;\n",
              "    }\n",
              "  </style>\n",
              "\n",
              "      <script>\n",
              "        const buttonEl =\n",
              "          document.querySelector('#df-fbb94caa-214e-40f6-babd-5e7ffb43adc5 button.colab-df-convert');\n",
              "        buttonEl.style.display =\n",
              "          google.colab.kernel.accessAllowed ? 'block' : 'none';\n",
              "\n",
              "        async function convertToInteractive(key) {\n",
              "          const element = document.querySelector('#df-fbb94caa-214e-40f6-babd-5e7ffb43adc5');\n",
              "          const dataTable =\n",
              "            await google.colab.kernel.invokeFunction('convertToInteractive',\n",
              "                                                     [key], {});\n",
              "          if (!dataTable) return;\n",
              "\n",
              "          const docLinkHtml = 'Like what you see? Visit the ' +\n",
              "            '<a target=\"_blank\" href=https://colab.research.google.com/notebooks/data_table.ipynb>data table notebook</a>'\n",
              "            + ' to learn more about interactive tables.';\n",
              "          element.innerHTML = '';\n",
              "          dataTable['output_type'] = 'display_data';\n",
              "          await google.colab.output.renderOutput(dataTable, element);\n",
              "          const docLink = document.createElement('div');\n",
              "          docLink.innerHTML = docLinkHtml;\n",
              "          element.appendChild(docLink);\n",
              "        }\n",
              "      </script>\n",
              "    </div>\n",
              "  </div>\n",
              "  "
            ]
          },
          "metadata": {},
          "execution_count": 18
        }
      ]
    },
    {
      "cell_type": "markdown",
      "source": [
        "**Note:** \n",
        "- There are some larges values. need scaling\n",
        "- Applying Min-Max scaling"
      ],
      "metadata": {
        "id": "rwfPJD9wUBPh"
      }
    },
    {
      "cell_type": "markdown",
      "source": [
        "### Scaling"
      ],
      "metadata": {
        "id": "33u_7crrmRfi"
      }
    },
    {
      "cell_type": "code",
      "source": [
        "# scaler = MinMaxScaler()\n",
        "# df2=scaler.fit_transform(df2)\n",
        "# df2.describe()\n",
        "cols_to_scale = ['tenure','MonthlyCharges','TotalCharges']\n",
        "\n",
        "# scaling 1\n",
        "from sklearn.preprocessing import MinMaxScaler\n",
        "scaler = MinMaxScaler()\n",
        "df2[cols_to_scale] = scaler.fit_transform(df2[cols_to_scale])\n",
        "\n",
        "# scaling 2\n",
        "# from sklearn.preprocessing import StandardScaler\n",
        "# sc = StandardScaler()\n",
        "# x=sc.fit_transform(x)\n",
        "\n",
        "for col in df2:\n",
        "    print(f'{col}: {df2[col].unique()}')"
      ],
      "metadata": {
        "colab": {
          "base_uri": "https://localhost:8080/"
        },
        "id": "sH4ozlegTjSl",
        "outputId": "d8ae4930-9376-46ca-eaf0-258e47f12b70"
      },
      "execution_count": null,
      "outputs": [
        {
          "output_type": "stream",
          "name": "stdout",
          "text": [
            "gender: [1 0]\n",
            "SeniorCitizen: [0 1]\n",
            "Partner: [1 0]\n",
            "Dependents: [0 1]\n",
            "tenure: [0.         0.46478873 0.01408451 0.61971831 0.09859155 0.29577465\n",
            " 0.12676056 0.38028169 0.85915493 0.16901408 0.21126761 0.8028169\n",
            " 0.67605634 0.33802817 0.95774648 0.71830986 0.98591549 0.28169014\n",
            " 0.15492958 0.4084507  0.64788732 1.         0.22535211 0.36619718\n",
            " 0.05633803 0.63380282 0.14084507 0.97183099 0.87323944 0.5915493\n",
            " 0.1971831  0.83098592 0.23943662 0.91549296 0.11267606 0.02816901\n",
            " 0.42253521 0.69014085 0.88732394 0.77464789 0.08450704 0.57746479\n",
            " 0.47887324 0.66197183 0.3943662  0.90140845 0.52112676 0.94366197\n",
            " 0.43661972 0.76056338 0.50704225 0.49295775 0.56338028 0.07042254\n",
            " 0.04225352 0.45070423 0.92957746 0.30985915 0.78873239 0.84507042\n",
            " 0.18309859 0.26760563 0.73239437 0.54929577 0.81690141 0.32394366\n",
            " 0.6056338  0.25352113 0.74647887 0.70422535 0.35211268 0.53521127]\n",
            "PhoneService: [0 1]\n",
            "MultipleLines: [0 1]\n",
            "InternetService: [1 0]\n",
            "OnlineSecurity: [0 1]\n",
            "OnlineBackup: [1 0]\n",
            "DeviceProtection: [0 1]\n",
            "TechSupport: [0 1]\n",
            "StreamingTV: [0 1]\n",
            "StreamingMovies: [0 1]\n",
            "PaperlessBilling: [1 0]\n",
            "MonthlyCharges: [0.11542289 0.38507463 0.35422886 ... 0.44626866 0.25820896 0.60149254]\n",
            "TotalCharges: [0.0012751  0.21586661 0.01031041 ... 0.03780868 0.03321025 0.78764136]\n",
            "Churn: [0 1]\n",
            "Contract_Month-to-month: [1 0]\n",
            "Contract_One year: [0 1]\n",
            "Contract_Two year: [0 1]\n",
            "PaymentMethod_Bank transfer (automatic): [0 1]\n",
            "PaymentMethod_Credit card (automatic): [0 1]\n",
            "PaymentMethod_Electronic check: [1 0]\n",
            "PaymentMethod_Mailed check: [0 1]\n"
          ]
        }
      ]
    },
    {
      "cell_type": "markdown",
      "source": [
        "**Note:** Now df2 is ready for separating into dependent and independent variable."
      ],
      "metadata": {
        "id": "-6gtCOQWmbWt"
      }
    },
    {
      "cell_type": "markdown",
      "source": [
        "## Train-Test Split"
      ],
      "metadata": {
        "id": "S_ZpwZeiUT_W"
      }
    },
    {
      "cell_type": "code",
      "source": [
        "# separating\n",
        "X = df2.drop('Churn',axis=1)\n",
        "y = df2['Churn']\n",
        "\n",
        "# split\n",
        "X_train, X_test, y_train, y_test = train_test_split(X,y,test_size=0.2,random_state=42)\n",
        "\n",
        "print(X_train.shape)\n",
        "print(X_test.shape)"
      ],
      "metadata": {
        "colab": {
          "base_uri": "https://localhost:8080/"
        },
        "id": "CRpn7llkmabE",
        "outputId": "a5495f73-0f7a-4cd4-ca2a-69690764eac9"
      },
      "execution_count": null,
      "outputs": [
        {
          "output_type": "stream",
          "name": "stdout",
          "text": [
            "(5625, 24)\n",
            "(1407, 24)\n"
          ]
        }
      ]
    },
    {
      "cell_type": "markdown",
      "source": [
        "## ANN model"
      ],
      "metadata": {
        "id": "ZjRSUzfFpNNI"
      }
    },
    {
      "cell_type": "code",
      "source": [
        "from tensorflow.keras.models import Sequential\n",
        "from tensorflow.keras.layers import Dense\n",
        "from tensorflow.keras.layers import LeakyReLU,PReLU,ELU # activation function\n",
        "from tensorflow.keras.layers import Dropout # to reduce overfitting"
      ],
      "metadata": {
        "id": "_obDWJq2pB2e"
      },
      "execution_count": null,
      "outputs": []
    },
    {
      "cell_type": "markdown",
      "source": [
        "**Note:** ANN model building"
      ],
      "metadata": {
        "id": "RXR5-0N0qjo4"
      }
    },
    {
      "cell_type": "markdown",
      "source": [
        "### ANN method 1"
      ],
      "metadata": {
        "id": "HZ4lpjloxxij"
      }
    },
    {
      "cell_type": "code",
      "source": [
        "# way 1\n",
        "# Initialising the ANN\n",
        "classifier = Sequential()\n",
        "\n",
        "# Adding the input layer\n",
        "classifier.add(Dense(units=24,activation='relu')) # input variable= 24\n",
        "\n",
        "# Adding the first hidden layer\n",
        "classifier.add(Dense(units=10,activation='relu')) # 6, or 7 not fixed\n",
        "\n",
        "# Adding the second hidden layer\n",
        "classifier.add(Dense(units=6,activation='relu'))\n",
        "\n",
        "# Adding the output layer\n",
        "classifier.add(Dense(units=1, activation='sigmoid'))\n",
        "\n",
        "# # change learning rate\n",
        "import tensorflow\n",
        "opt=tensorflow.keras.optimizers.Adam(learning_rate=0.01)\n",
        "\n",
        "classifier.compile(optimizer=opt,loss='binary_crossentropy',metrics=['accuracy']) #The default learning rate is 0.001"
      ],
      "metadata": {
        "id": "mQtUXWO8vPTK"
      },
      "execution_count": null,
      "outputs": []
    },
    {
      "cell_type": "code",
      "source": [
        "# early stopping\n",
        "import tensorflow as tf\n",
        "early_stopping= tf.keras.callbacks.EarlyStopping(\n",
        "    monitor=\"val_loss\",\n",
        "    min_delta=0,\n",
        "    patience=3,\n",
        "    verbose=1,\n",
        "    mode=\"auto\",\n",
        "    baseline=None,\n",
        "    restore_best_weights=False,\n",
        "    start_from_epoch=0,\n",
        ")"
      ],
      "metadata": {
        "id": "wQeLOI74xa7k"
      },
      "execution_count": null,
      "outputs": []
    },
    {
      "cell_type": "code",
      "source": [
        "model_history=classifier.fit(X_train, y_train,validation_split=0.33, batch_size=20, epochs=50) # without early stopping\n",
        "# model_history=classifier.fit(X_train, y_train,validation_split=0.33, batch_size=10, epochs=30, callbacks=early_stopping)"
      ],
      "metadata": {
        "colab": {
          "base_uri": "https://localhost:8080/"
        },
        "outputId": "0c8d99b0-119f-4ae1-d9a4-e06e69255619",
        "id": "nCmUntGHxa7k"
      },
      "execution_count": null,
      "outputs": [
        {
          "output_type": "stream",
          "name": "stdout",
          "text": [
            "Epoch 1/50\n",
            "189/189 [==============================] - 5s 8ms/step - loss: 0.4616 - accuracy: 0.7749 - val_loss: 0.4169 - val_accuracy: 0.8029\n",
            "Epoch 2/50\n",
            "189/189 [==============================] - 1s 4ms/step - loss: 0.4319 - accuracy: 0.7956 - val_loss: 0.4184 - val_accuracy: 0.8061\n",
            "Epoch 3/50\n",
            "189/189 [==============================] - 1s 5ms/step - loss: 0.4300 - accuracy: 0.7970 - val_loss: 0.4260 - val_accuracy: 0.7851\n",
            "Epoch 4/50\n",
            "189/189 [==============================] - 1s 4ms/step - loss: 0.4250 - accuracy: 0.7964 - val_loss: 0.4134 - val_accuracy: 0.8024\n",
            "Epoch 5/50\n",
            "189/189 [==============================] - 1s 4ms/step - loss: 0.4243 - accuracy: 0.7964 - val_loss: 0.4145 - val_accuracy: 0.8040\n",
            "Epoch 6/50\n",
            "189/189 [==============================] - 1s 5ms/step - loss: 0.4182 - accuracy: 0.8015 - val_loss: 0.4411 - val_accuracy: 0.8024\n",
            "Epoch 7/50\n",
            "189/189 [==============================] - 1s 4ms/step - loss: 0.4177 - accuracy: 0.7996 - val_loss: 0.4125 - val_accuracy: 0.8045\n",
            "Epoch 8/50\n",
            "189/189 [==============================] - 1s 5ms/step - loss: 0.4149 - accuracy: 0.7986 - val_loss: 0.4159 - val_accuracy: 0.8094\n",
            "Epoch 9/50\n",
            "189/189 [==============================] - 1s 5ms/step - loss: 0.4122 - accuracy: 0.8087 - val_loss: 0.4218 - val_accuracy: 0.8013\n",
            "Epoch 10/50\n",
            "189/189 [==============================] - 1s 5ms/step - loss: 0.4126 - accuracy: 0.7999 - val_loss: 0.4260 - val_accuracy: 0.7997\n",
            "Epoch 11/50\n",
            "189/189 [==============================] - 1s 5ms/step - loss: 0.4088 - accuracy: 0.8081 - val_loss: 0.4249 - val_accuracy: 0.8040\n",
            "Epoch 12/50\n",
            "189/189 [==============================] - 1s 4ms/step - loss: 0.4068 - accuracy: 0.8044 - val_loss: 0.4234 - val_accuracy: 0.8061\n",
            "Epoch 13/50\n",
            "189/189 [==============================] - 1s 6ms/step - loss: 0.4018 - accuracy: 0.8105 - val_loss: 0.4265 - val_accuracy: 0.8045\n",
            "Epoch 14/50\n",
            "189/189 [==============================] - 1s 6ms/step - loss: 0.4004 - accuracy: 0.8110 - val_loss: 0.4239 - val_accuracy: 0.8094\n",
            "Epoch 15/50\n",
            "189/189 [==============================] - 1s 7ms/step - loss: 0.3990 - accuracy: 0.8105 - val_loss: 0.4312 - val_accuracy: 0.8067\n",
            "Epoch 16/50\n",
            "189/189 [==============================] - 1s 4ms/step - loss: 0.3989 - accuracy: 0.8049 - val_loss: 0.4377 - val_accuracy: 0.7894\n",
            "Epoch 17/50\n",
            "189/189 [==============================] - 1s 6ms/step - loss: 0.3948 - accuracy: 0.8145 - val_loss: 0.4288 - val_accuracy: 0.8024\n",
            "Epoch 18/50\n",
            "189/189 [==============================] - 1s 5ms/step - loss: 0.3960 - accuracy: 0.8174 - val_loss: 0.4426 - val_accuracy: 0.8018\n",
            "Epoch 19/50\n",
            "189/189 [==============================] - 1s 5ms/step - loss: 0.3938 - accuracy: 0.8132 - val_loss: 0.4276 - val_accuracy: 0.8018\n",
            "Epoch 20/50\n",
            "189/189 [==============================] - 1s 4ms/step - loss: 0.3923 - accuracy: 0.8134 - val_loss: 0.4364 - val_accuracy: 0.8018\n",
            "Epoch 21/50\n",
            "189/189 [==============================] - 1s 4ms/step - loss: 0.3899 - accuracy: 0.8132 - val_loss: 0.4496 - val_accuracy: 0.7991\n",
            "Epoch 22/50\n",
            "189/189 [==============================] - 1s 5ms/step - loss: 0.3884 - accuracy: 0.8121 - val_loss: 0.4350 - val_accuracy: 0.7970\n",
            "Epoch 23/50\n",
            "189/189 [==============================] - 1s 5ms/step - loss: 0.3861 - accuracy: 0.8158 - val_loss: 0.4408 - val_accuracy: 0.7975\n",
            "Epoch 24/50\n",
            "189/189 [==============================] - 1s 5ms/step - loss: 0.3851 - accuracy: 0.8166 - val_loss: 0.4366 - val_accuracy: 0.8051\n",
            "Epoch 25/50\n",
            "189/189 [==============================] - 1s 4ms/step - loss: 0.3847 - accuracy: 0.8206 - val_loss: 0.4757 - val_accuracy: 0.7905\n",
            "Epoch 26/50\n",
            "189/189 [==============================] - 1s 5ms/step - loss: 0.3830 - accuracy: 0.8158 - val_loss: 0.4453 - val_accuracy: 0.7986\n",
            "Epoch 27/50\n",
            "189/189 [==============================] - 1s 6ms/step - loss: 0.3755 - accuracy: 0.8198 - val_loss: 0.4431 - val_accuracy: 0.8034\n",
            "Epoch 28/50\n",
            "189/189 [==============================] - 1s 6ms/step - loss: 0.3775 - accuracy: 0.8198 - val_loss: 0.4509 - val_accuracy: 0.8056\n",
            "Epoch 29/50\n",
            "189/189 [==============================] - 1s 6ms/step - loss: 0.3755 - accuracy: 0.8209 - val_loss: 0.4466 - val_accuracy: 0.7997\n",
            "Epoch 30/50\n",
            "189/189 [==============================] - 1s 5ms/step - loss: 0.3759 - accuracy: 0.8156 - val_loss: 0.4525 - val_accuracy: 0.7868\n",
            "Epoch 31/50\n",
            "189/189 [==============================] - 1s 4ms/step - loss: 0.3709 - accuracy: 0.8193 - val_loss: 0.4605 - val_accuracy: 0.7964\n",
            "Epoch 32/50\n",
            "189/189 [==============================] - 1s 5ms/step - loss: 0.3688 - accuracy: 0.8243 - val_loss: 0.4786 - val_accuracy: 0.7835\n",
            "Epoch 33/50\n",
            "189/189 [==============================] - 1s 5ms/step - loss: 0.3674 - accuracy: 0.8219 - val_loss: 0.4645 - val_accuracy: 0.7884\n",
            "Epoch 34/50\n",
            "189/189 [==============================] - 1s 5ms/step - loss: 0.3689 - accuracy: 0.8171 - val_loss: 0.4878 - val_accuracy: 0.7884\n",
            "Epoch 35/50\n",
            "189/189 [==============================] - 1s 4ms/step - loss: 0.3604 - accuracy: 0.8272 - val_loss: 0.4870 - val_accuracy: 0.7787\n",
            "Epoch 36/50\n",
            "189/189 [==============================] - 1s 5ms/step - loss: 0.3616 - accuracy: 0.8280 - val_loss: 0.4828 - val_accuracy: 0.7814\n",
            "Epoch 37/50\n",
            "189/189 [==============================] - 1s 5ms/step - loss: 0.3614 - accuracy: 0.8312 - val_loss: 0.4968 - val_accuracy: 0.7824\n",
            "Epoch 38/50\n",
            "189/189 [==============================] - 1s 4ms/step - loss: 0.3613 - accuracy: 0.8240 - val_loss: 0.4856 - val_accuracy: 0.7884\n",
            "Epoch 39/50\n",
            "189/189 [==============================] - 1s 4ms/step - loss: 0.3562 - accuracy: 0.8286 - val_loss: 0.4903 - val_accuracy: 0.8002\n",
            "Epoch 40/50\n",
            "189/189 [==============================] - 1s 5ms/step - loss: 0.3577 - accuracy: 0.8328 - val_loss: 0.4745 - val_accuracy: 0.7927\n",
            "Epoch 41/50\n",
            "189/189 [==============================] - 1s 6ms/step - loss: 0.3562 - accuracy: 0.8341 - val_loss: 0.4969 - val_accuracy: 0.7819\n",
            "Epoch 42/50\n",
            "189/189 [==============================] - 1s 6ms/step - loss: 0.3572 - accuracy: 0.8296 - val_loss: 0.4782 - val_accuracy: 0.7970\n",
            "Epoch 43/50\n",
            "189/189 [==============================] - 1s 6ms/step - loss: 0.3489 - accuracy: 0.8320 - val_loss: 0.5308 - val_accuracy: 0.7927\n",
            "Epoch 44/50\n",
            "189/189 [==============================] - 1s 4ms/step - loss: 0.3512 - accuracy: 0.8278 - val_loss: 0.5224 - val_accuracy: 0.7938\n",
            "Epoch 45/50\n",
            "189/189 [==============================] - 1s 5ms/step - loss: 0.3505 - accuracy: 0.8301 - val_loss: 0.4955 - val_accuracy: 0.7905\n",
            "Epoch 46/50\n",
            "189/189 [==============================] - 1s 5ms/step - loss: 0.3512 - accuracy: 0.8317 - val_loss: 0.4911 - val_accuracy: 0.7900\n",
            "Epoch 47/50\n",
            "189/189 [==============================] - 1s 5ms/step - loss: 0.3510 - accuracy: 0.8296 - val_loss: 0.4961 - val_accuracy: 0.7970\n",
            "Epoch 48/50\n",
            "189/189 [==============================] - 1s 4ms/step - loss: 0.3458 - accuracy: 0.8323 - val_loss: 0.5109 - val_accuracy: 0.7744\n",
            "Epoch 49/50\n",
            "189/189 [==============================] - 1s 5ms/step - loss: 0.3466 - accuracy: 0.8320 - val_loss: 0.5164 - val_accuracy: 0.7846\n",
            "Epoch 50/50\n",
            "189/189 [==============================] - 1s 5ms/step - loss: 0.3399 - accuracy: 0.8341 - val_loss: 0.5034 - val_accuracy: 0.7981\n"
          ]
        }
      ]
    },
    {
      "cell_type": "code",
      "source": [
        "# summarize history for accuracy\n",
        "plt.plot(model_history.history['accuracy'])\n",
        "plt.plot(model_history.history['val_accuracy'])\n",
        "plt.title('model accuracy')\n",
        "plt.ylabel('accuracy')\n",
        "plt.xlabel('epoch')\n",
        "plt.legend(['train', 'test'], loc='upper left')\n",
        "plt.show()"
      ],
      "metadata": {
        "colab": {
          "base_uri": "https://localhost:8080/",
          "height": 295
        },
        "outputId": "1defba95-f244-43f5-c3dc-2ba815644962",
        "id": "_e7VPzJBxa7l"
      },
      "execution_count": null,
      "outputs": [
        {
          "output_type": "display_data",
          "data": {
            "text/plain": [
              "<Figure size 432x288 with 1 Axes>"
            ],
            "image/png": "[encoded data removed]"
          },
          "metadata": {
            "needs_background": "light"
          }
        }
      ]
    },
    {
      "cell_type": "code",
      "source": [
        "# summarize history for loss\n",
        "plt.plot(model_history.history['loss'])\n",
        "plt.plot(model_history.history['val_loss'])\n",
        "plt.title('model loss')\n",
        "plt.ylabel('loss')\n",
        "plt.xlabel('epoch')\n",
        "plt.legend(['train', 'test'], loc='upper left')\n",
        "plt.show()"
      ],
      "metadata": {
        "colab": {
          "base_uri": "https://localhost:8080/",
          "height": 295
        },
        "outputId": "aef36036-96c2-411f-f8cd-0a92a0b406d3",
        "id": "FAKKBp7pxa7m"
      },
      "execution_count": null,
      "outputs": [
        {
          "output_type": "display_data",
          "data": {
            "text/plain": [
              "<Figure size 432x288 with 1 Axes>"
            ],
            "image/png": "[encoded data removed]"
          },
          "metadata": {
            "needs_background": "light"
          }
        }
      ]
    },
    {
      "cell_type": "code",
      "source": [
        "# Predicting the Test set results\n",
        "y_pred = classifier.predict(X_test)\n",
        "y_pred = (y_pred > 0.5)"
      ],
      "metadata": {
        "colab": {
          "base_uri": "https://localhost:8080/"
        },
        "outputId": "b0d8cdf6-4a56-43d4-ad2a-3c6bec404e07",
        "id": "WN10RY94xa7n"
      },
      "execution_count": null,
      "outputs": [
        {
          "output_type": "stream",
          "name": "stdout",
          "text": [
            "44/44 [==============================] - 0s 2ms/step\n"
          ]
        }
      ]
    },
    {
      "cell_type": "code",
      "source": [
        "# Making the Confusion Matrix\n",
        "from sklearn.metrics import confusion_matrix\n",
        "cm = confusion_matrix(y_test, y_pred)\n",
        "cm"
      ],
      "metadata": {
        "colab": {
          "base_uri": "https://localhost:8080/"
        },
        "outputId": "65098e85-530c-4a96-f793-4db980bc60bd",
        "id": "X0fEKI1Lxa7n"
      },
      "execution_count": null,
      "outputs": [
        {
          "output_type": "execute_result",
          "data": {
            "text/plain": [
              "array([[899, 134],\n",
              "       [186, 188]])"
            ]
          },
          "metadata": {},
          "execution_count": 28
        }
      ]
    },
    {
      "cell_type": "code",
      "source": [
        "# Calculate the Accuracy\n",
        "from sklearn.metrics import accuracy_score\n",
        "score=accuracy_score(y_pred,y_test)\n",
        "score"
      ],
      "metadata": {
        "colab": {
          "base_uri": "https://localhost:8080/"
        },
        "outputId": "aae983eb-09f7-41f3-f154-5064fb785d51",
        "id": "CYdM9Rv3xa7n"
      },
      "execution_count": null,
      "outputs": [
        {
          "output_type": "execute_result",
          "data": {
            "text/plain": [
              "0.7725657427149965"
            ]
          },
          "metadata": {},
          "execution_count": 29
        }
      ]
    },
    {
      "cell_type": "code",
      "source": [
        "from sklearn.metrics import confusion_matrix , classification_report\n",
        "\n",
        "print(classification_report(y_test,y_pred))"
      ],
      "metadata": {
        "colab": {
          "base_uri": "https://localhost:8080/"
        },
        "id": "hkrBsRfjyi9r",
        "outputId": "c2695454-9b1d-4b34-d213-424f236be255"
      },
      "execution_count": null,
      "outputs": [
        {
          "output_type": "stream",
          "name": "stdout",
          "text": [
            "              precision    recall  f1-score   support\n",
            "\n",
            "           0       0.83      0.87      0.85      1033\n",
            "           1       0.58      0.50      0.54       374\n",
            "\n",
            "    accuracy                           0.77      1407\n",
            "   macro avg       0.71      0.69      0.69      1407\n",
            "weighted avg       0.76      0.77      0.77      1407\n",
            "\n"
          ]
        }
      ]
    },
    {
      "cell_type": "markdown",
      "source": [
        "### ANN method 2"
      ],
      "metadata": {
        "id": "TeJp3OWixm1h"
      }
    },
    {
      "cell_type": "code",
      "source": [
        "# way 2\n",
        "import tensorflow as tf\n",
        "from tensorflow import keras\n",
        "\n",
        "\n",
        "model = keras.Sequential([\n",
        "    keras.layers.Dense(26, input_shape=(24,), activation='relu'),\n",
        "    keras.layers.Dense(15, activation='relu'),\n",
        "    keras.layers.Dense(1, activation='sigmoid')\n",
        "])\n",
        "\n",
        "# opt = keras.optimizers.Adam(learning_rate=0.01)\n",
        "\n",
        "model.compile(optimizer='adam',\n",
        "              loss='binary_crossentropy',\n",
        "              metrics=['accuracy'])\n",
        "\n",
        "model_history=model.fit(X_train, y_train, validation_split=0.33, epochs=50)"
      ],
      "metadata": {
        "colab": {
          "base_uri": "https://localhost:8080/"
        },
        "id": "HVyJ0BoNpxog",
        "outputId": "cc42381e-f649-47a4-c69c-50877bee54cc"
      },
      "execution_count": null,
      "outputs": [
        {
          "output_type": "stream",
          "name": "stdout",
          "text": [
            "Epoch 1/100\n",
            "118/118 [==============================] - 2s 5ms/step - loss: 0.5163 - accuracy: 0.7521 - val_loss: 0.4491 - val_accuracy: 0.7733\n",
            "Epoch 2/100\n",
            "118/118 [==============================] - 1s 4ms/step - loss: 0.4466 - accuracy: 0.7837 - val_loss: 0.4240 - val_accuracy: 0.7916\n",
            "Epoch 3/100\n",
            "118/118 [==============================] - 1s 5ms/step - loss: 0.4311 - accuracy: 0.7919 - val_loss: 0.4173 - val_accuracy: 0.7938\n",
            "Epoch 4/100\n",
            "118/118 [==============================] - 1s 4ms/step - loss: 0.4245 - accuracy: 0.7978 - val_loss: 0.4157 - val_accuracy: 0.7964\n",
            "Epoch 5/100\n",
            "118/118 [==============================] - 1s 4ms/step - loss: 0.4214 - accuracy: 0.8012 - val_loss: 0.4159 - val_accuracy: 0.7964\n",
            "Epoch 6/100\n",
            "118/118 [==============================] - 1s 4ms/step - loss: 0.4180 - accuracy: 0.8002 - val_loss: 0.4192 - val_accuracy: 0.7938\n",
            "Epoch 7/100\n",
            "118/118 [==============================] - 1s 5ms/step - loss: 0.4165 - accuracy: 0.7975 - val_loss: 0.4157 - val_accuracy: 0.7975\n",
            "Epoch 8/100\n",
            "118/118 [==============================] - 1s 4ms/step - loss: 0.4135 - accuracy: 0.8028 - val_loss: 0.4152 - val_accuracy: 0.8013\n",
            "Epoch 9/100\n",
            "118/118 [==============================] - 1s 4ms/step - loss: 0.4116 - accuracy: 0.8065 - val_loss: 0.4145 - val_accuracy: 0.7997\n",
            "Epoch 10/100\n",
            "118/118 [==============================] - 1s 5ms/step - loss: 0.4103 - accuracy: 0.7986 - val_loss: 0.4151 - val_accuracy: 0.7986\n",
            "Epoch 11/100\n",
            "118/118 [==============================] - 1s 5ms/step - loss: 0.4090 - accuracy: 0.8060 - val_loss: 0.4190 - val_accuracy: 0.7997\n",
            "Epoch 12/100\n",
            "118/118 [==============================] - 1s 6ms/step - loss: 0.4080 - accuracy: 0.8047 - val_loss: 0.4167 - val_accuracy: 0.8024\n",
            "Epoch 13/100\n",
            "118/118 [==============================] - 1s 6ms/step - loss: 0.4053 - accuracy: 0.8092 - val_loss: 0.4227 - val_accuracy: 0.7948\n",
            "Epoch 14/100\n",
            "118/118 [==============================] - 1s 7ms/step - loss: 0.4053 - accuracy: 0.8065 - val_loss: 0.4182 - val_accuracy: 0.7991\n",
            "Epoch 15/100\n",
            "118/118 [==============================] - 1s 6ms/step - loss: 0.4043 - accuracy: 0.8071 - val_loss: 0.4146 - val_accuracy: 0.7991\n",
            "Epoch 16/100\n",
            "118/118 [==============================] - 1s 5ms/step - loss: 0.4020 - accuracy: 0.8110 - val_loss: 0.4153 - val_accuracy: 0.8002\n",
            "Epoch 17/100\n",
            "118/118 [==============================] - 1s 5ms/step - loss: 0.4014 - accuracy: 0.8087 - val_loss: 0.4141 - val_accuracy: 0.7981\n",
            "Epoch 18/100\n",
            "118/118 [==============================] - 1s 4ms/step - loss: 0.3998 - accuracy: 0.8102 - val_loss: 0.4157 - val_accuracy: 0.7964\n",
            "Epoch 19/100\n",
            "118/118 [==============================] - 1s 5ms/step - loss: 0.3985 - accuracy: 0.8110 - val_loss: 0.4152 - val_accuracy: 0.7981\n",
            "Epoch 20/100\n",
            "118/118 [==============================] - 1s 5ms/step - loss: 0.3971 - accuracy: 0.8060 - val_loss: 0.4181 - val_accuracy: 0.8002\n",
            "Epoch 21/100\n",
            "118/118 [==============================] - 0s 4ms/step - loss: 0.3959 - accuracy: 0.8097 - val_loss: 0.4148 - val_accuracy: 0.8002\n",
            "Epoch 22/100\n",
            "118/118 [==============================] - 0s 4ms/step - loss: 0.3939 - accuracy: 0.8108 - val_loss: 0.4156 - val_accuracy: 0.7948\n",
            "Epoch 23/100\n",
            "118/118 [==============================] - 1s 5ms/step - loss: 0.3937 - accuracy: 0.8134 - val_loss: 0.4194 - val_accuracy: 0.7970\n",
            "Epoch 24/100\n",
            "118/118 [==============================] - 1s 5ms/step - loss: 0.3945 - accuracy: 0.8110 - val_loss: 0.4231 - val_accuracy: 0.7948\n",
            "Epoch 25/100\n",
            "118/118 [==============================] - 1s 5ms/step - loss: 0.3926 - accuracy: 0.8081 - val_loss: 0.4178 - val_accuracy: 0.7964\n",
            "Epoch 26/100\n",
            "118/118 [==============================] - 1s 4ms/step - loss: 0.3919 - accuracy: 0.8142 - val_loss: 0.4196 - val_accuracy: 0.7991\n",
            "Epoch 27/100\n",
            "118/118 [==============================] - 1s 5ms/step - loss: 0.3904 - accuracy: 0.8161 - val_loss: 0.4220 - val_accuracy: 0.7975\n",
            "Epoch 28/100\n",
            "118/118 [==============================] - 0s 4ms/step - loss: 0.3893 - accuracy: 0.8126 - val_loss: 0.4256 - val_accuracy: 0.7943\n",
            "Epoch 29/100\n",
            "118/118 [==============================] - 0s 4ms/step - loss: 0.3918 - accuracy: 0.8121 - val_loss: 0.4172 - val_accuracy: 0.8008\n",
            "Epoch 30/100\n",
            "118/118 [==============================] - 1s 4ms/step - loss: 0.3884 - accuracy: 0.8169 - val_loss: 0.4258 - val_accuracy: 0.7948\n",
            "Epoch 31/100\n",
            "118/118 [==============================] - 1s 5ms/step - loss: 0.3865 - accuracy: 0.8179 - val_loss: 0.4198 - val_accuracy: 0.7991\n",
            "Epoch 32/100\n",
            "118/118 [==============================] - 1s 4ms/step - loss: 0.3865 - accuracy: 0.8150 - val_loss: 0.4210 - val_accuracy: 0.8008\n",
            "Epoch 33/100\n",
            "118/118 [==============================] - 0s 4ms/step - loss: 0.3837 - accuracy: 0.8185 - val_loss: 0.4237 - val_accuracy: 0.7959\n",
            "Epoch 34/100\n",
            "118/118 [==============================] - 1s 6ms/step - loss: 0.3827 - accuracy: 0.8190 - val_loss: 0.4193 - val_accuracy: 0.7991\n",
            "Epoch 35/100\n",
            "118/118 [==============================] - 1s 6ms/step - loss: 0.3816 - accuracy: 0.8185 - val_loss: 0.4203 - val_accuracy: 0.7970\n",
            "Epoch 36/100\n",
            "118/118 [==============================] - 1s 7ms/step - loss: 0.3828 - accuracy: 0.8182 - val_loss: 0.4214 - val_accuracy: 0.7991\n",
            "Epoch 37/100\n",
            "118/118 [==============================] - 1s 6ms/step - loss: 0.3808 - accuracy: 0.8166 - val_loss: 0.4200 - val_accuracy: 0.8008\n",
            "Epoch 38/100\n",
            "118/118 [==============================] - 1s 7ms/step - loss: 0.3801 - accuracy: 0.8217 - val_loss: 0.4255 - val_accuracy: 0.7997\n",
            "Epoch 39/100\n",
            "118/118 [==============================] - 1s 5ms/step - loss: 0.3787 - accuracy: 0.8270 - val_loss: 0.4222 - val_accuracy: 0.7964\n",
            "Epoch 40/100\n",
            "118/118 [==============================] - 1s 5ms/step - loss: 0.3772 - accuracy: 0.8214 - val_loss: 0.4225 - val_accuracy: 0.8018\n",
            "Epoch 41/100\n",
            "118/118 [==============================] - 1s 4ms/step - loss: 0.3757 - accuracy: 0.8240 - val_loss: 0.4230 - val_accuracy: 0.7986\n",
            "Epoch 42/100\n",
            "118/118 [==============================] - 1s 5ms/step - loss: 0.3764 - accuracy: 0.8225 - val_loss: 0.4242 - val_accuracy: 0.7991\n",
            "Epoch 43/100\n",
            "118/118 [==============================] - 1s 4ms/step - loss: 0.3740 - accuracy: 0.8214 - val_loss: 0.4246 - val_accuracy: 0.7991\n",
            "Epoch 44/100\n",
            "118/118 [==============================] - 1s 5ms/step - loss: 0.3735 - accuracy: 0.8251 - val_loss: 0.4286 - val_accuracy: 0.7927\n",
            "Epoch 45/100\n",
            "118/118 [==============================] - 1s 5ms/step - loss: 0.3766 - accuracy: 0.8238 - val_loss: 0.4240 - val_accuracy: 0.8018\n",
            "Epoch 46/100\n",
            "118/118 [==============================] - 1s 5ms/step - loss: 0.3733 - accuracy: 0.8203 - val_loss: 0.4252 - val_accuracy: 0.7975\n",
            "Epoch 47/100\n",
            "118/118 [==============================] - 1s 4ms/step - loss: 0.3726 - accuracy: 0.8240 - val_loss: 0.4270 - val_accuracy: 0.7970\n",
            "Epoch 48/100\n",
            "118/118 [==============================] - 0s 4ms/step - loss: 0.3724 - accuracy: 0.8251 - val_loss: 0.4257 - val_accuracy: 0.7970\n",
            "Epoch 49/100\n",
            "118/118 [==============================] - 0s 4ms/step - loss: 0.3713 - accuracy: 0.8262 - val_loss: 0.4281 - val_accuracy: 0.7975\n",
            "Epoch 50/100\n",
            "118/118 [==============================] - 1s 5ms/step - loss: 0.3690 - accuracy: 0.8246 - val_loss: 0.4285 - val_accuracy: 0.7954\n",
            "Epoch 51/100\n",
            "118/118 [==============================] - 0s 4ms/step - loss: 0.3686 - accuracy: 0.8232 - val_loss: 0.4254 - val_accuracy: 0.8013\n",
            "Epoch 52/100\n",
            "118/118 [==============================] - 0s 4ms/step - loss: 0.3702 - accuracy: 0.8262 - val_loss: 0.4344 - val_accuracy: 0.7964\n",
            "Epoch 53/100\n",
            "118/118 [==============================] - 1s 4ms/step - loss: 0.3678 - accuracy: 0.8283 - val_loss: 0.4284 - val_accuracy: 0.7991\n",
            "Epoch 54/100\n",
            "118/118 [==============================] - 1s 7ms/step - loss: 0.3673 - accuracy: 0.8278 - val_loss: 0.4276 - val_accuracy: 0.7959\n",
            "Epoch 55/100\n",
            "118/118 [==============================] - 1s 10ms/step - loss: 0.3650 - accuracy: 0.8283 - val_loss: 0.4344 - val_accuracy: 0.7894\n",
            "Epoch 56/100\n",
            "118/118 [==============================] - 2s 18ms/step - loss: 0.3659 - accuracy: 0.8299 - val_loss: 0.4292 - val_accuracy: 0.7981\n",
            "Epoch 57/100\n",
            "118/118 [==============================] - 1s 11ms/step - loss: 0.3655 - accuracy: 0.8291 - val_loss: 0.4310 - val_accuracy: 0.7938\n",
            "Epoch 58/100\n",
            "118/118 [==============================] - 1s 9ms/step - loss: 0.3662 - accuracy: 0.8278 - val_loss: 0.4295 - val_accuracy: 0.7981\n",
            "Epoch 59/100\n",
            "118/118 [==============================] - 1s 9ms/step - loss: 0.3640 - accuracy: 0.8312 - val_loss: 0.4390 - val_accuracy: 0.7943\n",
            "Epoch 60/100\n",
            "118/118 [==============================] - 1s 10ms/step - loss: 0.3636 - accuracy: 0.8259 - val_loss: 0.4323 - val_accuracy: 0.7986\n",
            "Epoch 61/100\n",
            "118/118 [==============================] - 1s 9ms/step - loss: 0.3619 - accuracy: 0.8315 - val_loss: 0.4343 - val_accuracy: 0.7911\n",
            "Epoch 62/100\n",
            "118/118 [==============================] - 1s 9ms/step - loss: 0.3634 - accuracy: 0.8256 - val_loss: 0.4342 - val_accuracy: 0.7921\n",
            "Epoch 63/100\n",
            "118/118 [==============================] - 1s 10ms/step - loss: 0.3612 - accuracy: 0.8283 - val_loss: 0.4356 - val_accuracy: 0.7986\n",
            "Epoch 64/100\n",
            "118/118 [==============================] - 1s 10ms/step - loss: 0.3595 - accuracy: 0.8307 - val_loss: 0.4323 - val_accuracy: 0.7932\n",
            "Epoch 65/100\n",
            "118/118 [==============================] - 1s 9ms/step - loss: 0.3600 - accuracy: 0.8299 - val_loss: 0.4349 - val_accuracy: 0.7948\n",
            "Epoch 66/100\n",
            "118/118 [==============================] - 1s 9ms/step - loss: 0.3591 - accuracy: 0.8331 - val_loss: 0.4390 - val_accuracy: 0.7927\n",
            "Epoch 67/100\n",
            "118/118 [==============================] - 1s 8ms/step - loss: 0.3593 - accuracy: 0.8304 - val_loss: 0.4381 - val_accuracy: 0.7905\n",
            "Epoch 68/100\n",
            "118/118 [==============================] - 1s 11ms/step - loss: 0.3574 - accuracy: 0.8328 - val_loss: 0.4379 - val_accuracy: 0.7878\n",
            "Epoch 69/100\n",
            "118/118 [==============================] - 2s 13ms/step - loss: 0.3569 - accuracy: 0.8336 - val_loss: 0.4398 - val_accuracy: 0.7932\n",
            "Epoch 70/100\n",
            "118/118 [==============================] - 1s 10ms/step - loss: 0.3551 - accuracy: 0.8363 - val_loss: 0.4400 - val_accuracy: 0.7927\n",
            "Epoch 71/100\n",
            "118/118 [==============================] - 1s 9ms/step - loss: 0.3558 - accuracy: 0.8309 - val_loss: 0.4384 - val_accuracy: 0.7938\n",
            "Epoch 72/100\n",
            "118/118 [==============================] - 1s 9ms/step - loss: 0.3549 - accuracy: 0.8347 - val_loss: 0.4459 - val_accuracy: 0.7959\n",
            "Epoch 73/100\n",
            "118/118 [==============================] - 1s 10ms/step - loss: 0.3528 - accuracy: 0.8339 - val_loss: 0.4396 - val_accuracy: 0.7894\n",
            "Epoch 74/100\n",
            "118/118 [==============================] - 1s 10ms/step - loss: 0.3530 - accuracy: 0.8360 - val_loss: 0.4377 - val_accuracy: 0.7938\n",
            "Epoch 75/100\n",
            "118/118 [==============================] - 1s 9ms/step - loss: 0.3535 - accuracy: 0.8339 - val_loss: 0.4386 - val_accuracy: 0.7948\n",
            "Epoch 76/100\n",
            "118/118 [==============================] - 1s 8ms/step - loss: 0.3518 - accuracy: 0.8384 - val_loss: 0.4395 - val_accuracy: 0.7905\n",
            "Epoch 77/100\n",
            "118/118 [==============================] - 1s 5ms/step - loss: 0.3527 - accuracy: 0.8368 - val_loss: 0.4460 - val_accuracy: 0.7868\n",
            "Epoch 78/100\n",
            "118/118 [==============================] - 1s 4ms/step - loss: 0.3520 - accuracy: 0.8357 - val_loss: 0.4427 - val_accuracy: 0.7921\n",
            "Epoch 79/100\n",
            "118/118 [==============================] - 1s 5ms/step - loss: 0.3524 - accuracy: 0.8344 - val_loss: 0.4415 - val_accuracy: 0.7911\n",
            "Epoch 80/100\n",
            "118/118 [==============================] - 0s 4ms/step - loss: 0.3523 - accuracy: 0.8394 - val_loss: 0.4431 - val_accuracy: 0.7916\n",
            "Epoch 81/100\n",
            "118/118 [==============================] - 1s 5ms/step - loss: 0.3494 - accuracy: 0.8421 - val_loss: 0.4441 - val_accuracy: 0.7884\n",
            "Epoch 82/100\n",
            "118/118 [==============================] - 1s 7ms/step - loss: 0.3481 - accuracy: 0.8365 - val_loss: 0.4469 - val_accuracy: 0.7894\n",
            "Epoch 83/100\n",
            "118/118 [==============================] - 1s 7ms/step - loss: 0.3501 - accuracy: 0.8323 - val_loss: 0.4459 - val_accuracy: 0.7851\n",
            "Epoch 84/100\n",
            "118/118 [==============================] - 1s 6ms/step - loss: 0.3494 - accuracy: 0.8368 - val_loss: 0.4559 - val_accuracy: 0.7884\n",
            "Epoch 85/100\n",
            "118/118 [==============================] - 1s 6ms/step - loss: 0.3476 - accuracy: 0.8386 - val_loss: 0.4471 - val_accuracy: 0.7916\n",
            "Epoch 86/100\n",
            "118/118 [==============================] - 1s 5ms/step - loss: 0.3465 - accuracy: 0.8368 - val_loss: 0.4450 - val_accuracy: 0.7894\n",
            "Epoch 87/100\n",
            "118/118 [==============================] - 1s 5ms/step - loss: 0.3468 - accuracy: 0.8378 - val_loss: 0.4461 - val_accuracy: 0.7927\n",
            "Epoch 88/100\n",
            "118/118 [==============================] - 1s 4ms/step - loss: 0.3443 - accuracy: 0.8384 - val_loss: 0.4475 - val_accuracy: 0.7959\n",
            "Epoch 89/100\n",
            "118/118 [==============================] - 0s 4ms/step - loss: 0.3432 - accuracy: 0.8408 - val_loss: 0.4499 - val_accuracy: 0.7948\n",
            "Epoch 90/100\n",
            "118/118 [==============================] - 1s 5ms/step - loss: 0.3453 - accuracy: 0.8410 - val_loss: 0.4483 - val_accuracy: 0.7905\n",
            "Epoch 91/100\n",
            "118/118 [==============================] - 1s 4ms/step - loss: 0.3450 - accuracy: 0.8376 - val_loss: 0.4491 - val_accuracy: 0.7916\n",
            "Epoch 92/100\n",
            "118/118 [==============================] - 1s 4ms/step - loss: 0.3430 - accuracy: 0.8410 - val_loss: 0.4502 - val_accuracy: 0.7927\n",
            "Epoch 93/100\n",
            "118/118 [==============================] - 1s 4ms/step - loss: 0.3430 - accuracy: 0.8402 - val_loss: 0.4482 - val_accuracy: 0.7932\n",
            "Epoch 94/100\n",
            "118/118 [==============================] - 1s 5ms/step - loss: 0.3406 - accuracy: 0.8458 - val_loss: 0.4583 - val_accuracy: 0.7894\n",
            "Epoch 95/100\n",
            "118/118 [==============================] - 0s 4ms/step - loss: 0.3412 - accuracy: 0.8429 - val_loss: 0.4516 - val_accuracy: 0.7862\n",
            "Epoch 96/100\n",
            "118/118 [==============================] - 0s 4ms/step - loss: 0.3404 - accuracy: 0.8426 - val_loss: 0.4568 - val_accuracy: 0.7851\n",
            "Epoch 97/100\n",
            "118/118 [==============================] - 1s 4ms/step - loss: 0.3406 - accuracy: 0.8405 - val_loss: 0.4528 - val_accuracy: 0.7894\n",
            "Epoch 98/100\n",
            "118/118 [==============================] - 1s 5ms/step - loss: 0.3393 - accuracy: 0.8426 - val_loss: 0.4570 - val_accuracy: 0.7862\n",
            "Epoch 99/100\n",
            "118/118 [==============================] - 1s 4ms/step - loss: 0.3382 - accuracy: 0.8474 - val_loss: 0.4567 - val_accuracy: 0.7911\n",
            "Epoch 100/100\n",
            "118/118 [==============================] - 1s 5ms/step - loss: 0.3373 - accuracy: 0.8437 - val_loss: 0.4553 - val_accuracy: 0.7916\n"
          ]
        }
      ]
    },
    {
      "cell_type": "code",
      "source": [
        "# summarize history for accuracy\n",
        "plt.plot(model_history.history['accuracy'])\n",
        "plt.plot(model_history.history['val_accuracy'])\n",
        "plt.title('model accuracy')\n",
        "plt.ylabel('accuracy')\n",
        "plt.xlabel('epoch')\n",
        "plt.legend(['train', 'test'], loc='upper left')\n",
        "plt.show()"
      ],
      "metadata": {
        "colab": {
          "base_uri": "https://localhost:8080/",
          "height": 295
        },
        "id": "bJT225qfs3TY",
        "outputId": "31117a86-c72b-4b4c-d4d4-20445f098b20"
      },
      "execution_count": null,
      "outputs": [
        {
          "output_type": "display_data",
          "data": {
            "text/plain": [
              "<Figure size 432x288 with 1 Axes>"
            ],
            "image/png": "[encoded data removed]"
          },
          "metadata": {
            "needs_background": "light"
          }
        }
      ]
    },
    {
      "cell_type": "code",
      "source": [
        "# summarize history for loss\n",
        "plt.plot(model_history.history['loss'])\n",
        "plt.plot(model_history.history['val_loss'])\n",
        "plt.title('model loss')\n",
        "plt.ylabel('loss')\n",
        "plt.xlabel('epoch')\n",
        "plt.legend(['train', 'test'], loc='upper left')\n",
        "plt.show()"
      ],
      "metadata": {
        "colab": {
          "base_uri": "https://localhost:8080/",
          "height": 295
        },
        "id": "r_7rz4qis8Zi",
        "outputId": "efa5a5e0-6221-477c-8678-21f764477d5f"
      },
      "execution_count": null,
      "outputs": [
        {
          "output_type": "display_data",
          "data": {
            "text/plain": [
              "<Figure size 432x288 with 1 Axes>"
            ],
            "image/png": "[encoded data removed]"
          },
          "metadata": {
            "needs_background": "light"
          }
        }
      ]
    },
    {
      "cell_type": "code",
      "source": [
        "\n",
        "# Predicting the Test set results\n",
        "y_pred = classifier.predict(X_test)\n",
        "y_pred = (y_pred > 0.5)"
      ],
      "metadata": {
        "colab": {
          "base_uri": "https://localhost:8080/"
        },
        "id": "QKdY4RM9tH2o",
        "outputId": "688616fb-e0f8-4135-926b-2b4fd7123532"
      },
      "execution_count": null,
      "outputs": [
        {
          "output_type": "stream",
          "name": "stdout",
          "text": [
            "44/44 [==============================] - 0s 2ms/step\n"
          ]
        }
      ]
    },
    {
      "cell_type": "code",
      "source": [
        "# Making the Confusion Matrix\n",
        "from sklearn.metrics import confusion_matrix\n",
        "cm = confusion_matrix(y_test, y_pred)\n",
        "cm"
      ],
      "metadata": {
        "colab": {
          "base_uri": "https://localhost:8080/"
        },
        "id": "1JMy5-QCtBDj",
        "outputId": "15344556-25cc-4daa-8479-c7e85a8247a0"
      },
      "execution_count": null,
      "outputs": [
        {
          "output_type": "execute_result",
          "data": {
            "text/plain": [
              "array([[899, 134],\n",
              "       [186, 188]])"
            ]
          },
          "metadata": {},
          "execution_count": 35
        }
      ]
    },
    {
      "cell_type": "code",
      "source": [
        "# Calculate the Accuracy\n",
        "from sklearn.metrics import accuracy_score\n",
        "score=accuracy_score(y_pred,y_test)\n",
        "score"
      ],
      "metadata": {
        "colab": {
          "base_uri": "https://localhost:8080/"
        },
        "id": "x0EQtSNztKuH",
        "outputId": "5c4420a9-c752-4ded-8f6c-ff59162835f7"
      },
      "execution_count": null,
      "outputs": [
        {
          "output_type": "execute_result",
          "data": {
            "text/plain": [
              "0.7725657427149965"
            ]
          },
          "metadata": {},
          "execution_count": 36
        }
      ]
    },
    {
      "cell_type": "code",
      "source": [
        "from sklearn.metrics import confusion_matrix , classification_report\n",
        "\n",
        "print(classification_report(y_test,y_pred))"
      ],
      "metadata": {
        "colab": {
          "base_uri": "https://localhost:8080/"
        },
        "id": "WMTH1pIjtEuR",
        "outputId": "078e0f51-b604-4219-96af-ef2f4bdae54d"
      },
      "execution_count": null,
      "outputs": [
        {
          "output_type": "stream",
          "name": "stdout",
          "text": [
            "              precision    recall  f1-score   support\n",
            "\n",
            "           0       0.83      0.87      0.85      1033\n",
            "           1       0.58      0.50      0.54       374\n",
            "\n",
            "    accuracy                           0.77      1407\n",
            "   macro avg       0.71      0.69      0.69      1407\n",
            "weighted avg       0.76      0.77      0.77      1407\n",
            "\n"
          ]
        }
      ]
    },
    {
      "cell_type": "markdown",
      "source": [
        "**Acknowledgement:** \n",
        "- Motivated from codebasics. \n",
        "- https://www.youtube.com/watch?v=MSBY28IJ47U&list=LL&index=3&ab_channel=codebasics"
      ],
      "metadata": {
        "id": "RkCl-08h00uV"
      }
    }
  ]
}